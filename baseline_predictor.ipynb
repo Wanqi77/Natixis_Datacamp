{
 "cells": [
  {
   "cell_type": "code",
   "execution_count": 1,
   "metadata": {},
   "outputs": [],
   "source": [
    "import pandas as pd\n",
    "import numpy as np\n",
    "import os\n",
    "import json"
   ]
  },
  {
   "cell_type": "code",
   "execution_count": 2,
   "metadata": {},
   "outputs": [],
   "source": [
    "def EMA(prices, alpha):\n",
    "    ema = prices[0]\n",
    "    for x in prices[1:]:\n",
    "        ema = alpha*x + (1-alpha)* ema\n",
    "    return ema\n",
    "\n",
    "def create_baseline(data):\n",
    "\n",
    "    pred_reg = []\n",
    "    pred_classif = []\n",
    "\n",
    "    for data_dict in data:\n",
    "        stock_series = data_dict['stock']\n",
    "        EMA_returns = EMA(stock_series, 2/(len(stock_series)+1))\n",
    "        classif_target = 1 if stock_series[-1] > EMA_returns else 0\n",
    "        pred_classif.append(classif_target)\n",
    "        pred_reg.append(stock_series[-1])\n",
    "    \n",
    "    return pred_reg, pred_classif"
   ]
  },
  {
   "cell_type": "code",
   "execution_count": 3,
   "metadata": {},
   "outputs": [],
   "source": [
    "datapath = 'data/'\n",
    "split = 'dev'\n",
    "savepath = 'res/answer/'\n",
    "index = 'all'\n",
    "# You can also give the name of the index: \"VIX_1w\" ou \"EURUSDV1M_1w\"\n",
    "if not os.path.exists(savepath):\n",
    "        os.mkdir(savepath)\n",
    "\n",
    "if index =='all':\n",
    "    indexes = [index.split('.')[0] for index in os.listdir(f'{datapath}/{split}')]\n",
    "else:\n",
    "    indexes = [index]\n",
    "\n",
    "for index in indexes:\n",
    "    save_path = os.path.join(savepath, index)\n",
    "    if not os.path.exists(save_path):\n",
    "        os.mkdir(save_path)\n",
    "\n",
    "    with open(f'{datapath}/{split}/{index}.json', 'r') as fp:\n",
    "        data = json.load(fp)\n",
    "    pred_reg, pred_classif = create_baseline(data)\n",
    "\n",
    "    with open(os.path.join(save_path, 'pred_reg.txt'),'w') as f:\n",
    "        f.write('\\n'.join(list(map(str, pred_reg))))\n",
    "\n",
    "    with open(os.path.join(save_path, 'pred_classif.txt'),'w') as f:\n",
    "        f.write('\\n'.join(list(map(str, pred_classif))))\n"
   ]
  },
  {
   "cell_type": "code",
   "execution_count": 9,
   "metadata": {},
   "outputs": [
    {
     "data": {
      "text/plain": [
       "20"
      ]
     },
     "execution_count": 9,
     "metadata": {},
     "output_type": "execute_result"
    }
   ],
   "source": [
    "len(data[0]['stock'])"
   ]
  },
  {
   "cell_type": "code",
   "execution_count": 3,
   "metadata": {},
   "outputs": [],
   "source": [
    "datapath = 'data/'\n",
    "train_split = 'train'\n",
    "index = 'EURUSDV1M_1w'\n",
    "\n",
    "with open(f'{datapath}/{train_split}/{index}.json', 'r') as fp:\n",
    "        data = json.load(fp)"
   ]
  },
  {
   "cell_type": "code",
   "execution_count": 47,
   "metadata": {},
   "outputs": [
    {
     "data": {
      "text/plain": [
       "' It is a pleasure to be here this afternoon to give the closing address at this very timely conference on executive compensation. Executive compensation has for some time been an important part of academic and policy discussions of corporate law and governance. The public\\'s attention to the subject has periodically increased. Such heightened interest is not often part of corporate governance debates, but rather in response to high compensation levels for certain executives, or the contrast between rising executive compensation and sluggish overall wage growth. I think it fair to say, however, that public scrutiny has never been more intense than in the past year. And never has it been more concentrated on a particular industry than in the current focus on large financial services firms. The interest and role of the Federal Reserve is both broader and more targeted than the issue of executive compensation as such. It is more targeted in that our concern with compensation matters rests squarely on our statutory responsibility to ensure the safety and soundness of the banking organizations we regulate. It is broader in that we are concerned not only with the compensation of executives, but also with compensation arrangements of employees other than executives where those arrangements may adversely affect the safety and soundness of their firms. In the remainder of my remarks, I will first elaborate a bit on how our safety and soundness mandate both defines and limits the scope of our activities on compensation. Then I will turn to the supervisory approach we have taken in the proposed guidance we issued 10 days ago, before closing with an explanation of the specific supervisory processes we intend to follow in putting this guidance into practice\\\\. Compensation as a Safety and Soundness IssuePrevious speakers have touched on some of the reasons why compensation arrangements of corporate employees can be a public policy matter. As I have already suggested, the compensation packages of employees--particularly senior executives--implicate the principal-agent concerns that inform much of corporate law. Shareholders have interests both in providing employees with incentives to maximize shareholder value and in restraining employees from using their direct control over the firm\\'s resources to take more than is necessary to attract and motivate quality employees. Additionally, as evidenced by the very fact of Ken Feinbergâ\\x80\\x99s job as special master, the public has an interest in appropriate compensation arrangements at firms in which the government has made significant investments. Broader issues of fairness may also be raised by high compensation levels for some employees. Of course, these issues can quickly involve rather fundamental considerations of political philosophy and political economy. At present, the public debate over the fairness of compensation levels in financial firms has a more specific focus. Many would argue that the bonuses that may be collected this year by employees of some financial firms and, for that matter, the profits accruing to the firms themselves, are possible only because the government rescued the entire financial system through a series of actions beginning last year. Seen in this light, the bonuses and profits appear to some observers as an unfair channeling of gains to private actors, after potentially devastating losses to those same firms and employees were avoided by placing taxpayer funds at risk. Each of the foregoing perspectives on compensation raises important policy issues. But the regulatory framework established by statute makes them relevant to the supervisory functions of the Federal Reserve only to the extent they affect the safety and soundness of financial institutions. An evaluation of some compensation practices at banking organizations preceding the financial crisis reveals that they did, in fact, contribute to safety and soundness problems. Indeed, financial firms have themselves identified compensation practices as a factor. In this regard, I was struck by the results of a survey conducted earlier this year on behalf of the Institute of International Finance\\\\.  Of the 37 large banking organizations engaged in wholesale banking activities that responded, 36 agreed that compensation practices were a factor underlying the crisis.  Of particular note are incentive compensation arrangements for employees in a position to expose the firm to substantial risk that failed to align the employees\\' interests with those of the firm. For example, some firms gave loan officers incentives to write a lot of loans, or traders incentives to generate high levels of trading revenues, without sufficient regard for the risks associated with those activities. The revenues that served as the basis for calculating bonuses were generated immediately, while the risks might not have been realized for months or years after the transactions were completed. When these or similarly misaligned incentive compensation arrangements were common in a firm, the very foundation of sound risk management could be undermined by the actions of employees seeking to maximize their own pay. There is thus significant overlap between the interests of shareholders and of supervisors in the area of employee compensation. That is why, as I will explain in a moment, we include an emphasis on sound corporate governance measures in our proposed guidance. Indeed, supervisory initiatives can reinforce the impetus for change already coming from shareholders and other market participants. By requiring banking organizations to incorporate a thorough, risk-appropriate approach to incentive compensation arrangements, supervisors can help address concerns that these firms face a kind of collective action problem, which may make a firm reluctant to rectify misaligned arrangements for fear that other firms will poach the best employees with promises of substantial near-term bonuses. This concern exists at the international, as well as national, level, which is one of the reasons why the Financial Stability Board has devoted so much attention to the issue in the past year. However, it is important to note that the interests of shareholders and supervisors, representing the public, are not wholly congruent. Because of the federal safety net--as manifested in the deposit insurance system, the availability of discount window lending, and too-big-to-fail perceptions--shareholders may at times be willing to tolerate a degree of risk in a firmâ\\x80\\x99s activities that does not fully reflect the costs of that risk to society as a whole. Thus, even if banking organizations were able to achieve full harmonization of employee and shareholder interests in their incentive compensation arrangements, supervisory oversight would still be warranted. Proposed Supervisory GuidanceThe proposed guidance recently issued by the Federal Reserve is informed by the considerations I have just set forth\\\\.  Our rationale for the guidance is grounded in safety and soundness concerns. Our supervisory approach emphasizes the need to integrate compensation policy into the overall risk-management framework of financial firms. This dual focus on safety and soundness aims and risk-management capacities has been a recurring theme of supervisory efforts in the wake of the crisis. Our compensation guidance is just one piece of a broad program of regulatory and supervisory reforms, which include strengthened capital and liquidity requirements and a more coordinated, \"horizontal\" approach to large-firm supervision. The Federal Reserveâ\\x80\\x99s guidance is based on three fundamental principles. First, incentive compensation arrangements at a banking organization should not provide employees with incentives to take risks that are beyond the organizationâ\\x80\\x99s ability to effectively identify and manage. The amounts of incentive pay flowing to employees should reflect the risks and potential losses--as well as gains--associated with their activities. Employees are less likely to take imprudent risks if their incentive payments are reduced or eliminated for activities that end up imposing significant losses on the firm.  The guidance identifies four methods that have been most often identified by firms, consultants, and others as useful in aligning incentive compensation with risk. These include adjusting performance awards to reflect the risks of employee activities, deferring payments of awards and adjusting actual payments to reflect risk outcomes, using longer periods for measuring the performance on which awards are based, and reducing the sensitivity of performance measures to short-term revenues or profits. Our expectation is that each banking organization will use these and possibly other methods, either individually or in combination, to achieve risk-appropriate incentive compensation practices throughout the firm.  To be fully effective, risk adjustments to compensation should take account of the full range of risks that the activities of employees may pose for the firm, including credit, market, compliance, reputational, and liquidity risks. Moreover, these adjustments need to be implemented in practice so that actual payments vary based on risks or risk outcomes. If employees are paid substantially all of their potential incentive compensation when risk or risk outcomes are materially worse than expected, employees may have an incentive to take large risks in hopes of substantially increasing their personal compensation, knowing that their downside risks are limited. Simply put, incentive compensation arrangements should not create \"heads I win, tails the firm loses\" expectations.  The second core principle is that incentive compensation arrangements should be compatible with effective risk management and controls. Banking organizations should ensure that risk-management personnel have an appropriate role in designing incentive compensation arrangements and assessing their effectiveness in restraining excessive risk-taking.  Risk-management breakdowns often occurred in firms not because risk-management officers were unaware of problems, but because they were not adequately integrated into the firmâ\\x80\\x99s strategic and operational decisionmaking processes related to compensation. In addition, a banking organization should have strong controls governing its process for designing, implementing, and monitoring incentive compensation arrangements to help prevent employees from circumventing or weakening these processes in ways designed to increase their personal compensation. The third core principle is that incentive compensation arrangements at banking organizations should be supported by strong corporate governance practice, including active and effective oversight by boards of directors. This oversight should go beyond reviewing and approving the compensation arrangements for senior executives. Boards of directors, or their compensation committees, should regularly review the design and functioning of the firmâ\\x80\\x99s incentive compensation practices to ensure their consistency with safety and soundness.  In developing these principles, we were guided by two key considerations. The first, as I noted earlier, is that problematic compensation practices were not limited to the most senior executives at financial firms. Traders with large position limits and loan officers who, as a group, originate loans accounting for a material amount of an organizationâ\\x80\\x99s credit risk, are two examples of non-executive personnel who have the ability to expose a banking organization to material amounts of risk. For this reason, our guidance extends beyond the senior executives at banking organizations to include all other employees who, individually or as a group, may expose the firm to material amounts of risk.  Second, in drafting this guidance we opted for principles, rather than generally applicable rules. The complex and varying nature of financial activities, particularly those of large banking organizations, suggested that uniform requirements for compensation arrangements were not well-advised, at least not on the basis of our present knowledge and experience. Activities and risks, as well as the reliability of related risk measures, may differ significantly across banking organizations and across employee groups within one banking organization. In these circumstances, we concluded that use of a single, formulaic approach to making incentive compensation arrangements risk-sensitive would likely not be effective in adequately containing risky behavior.  As discussed in the guidance, incentive compensation arrangements for senior executives at a large, complex organization are likely to be better balanced if they involve deferral of a substantial portion of the executivesâ\\x80\\x99 incentive compensation over a multiyear period, with payment made in some form of equity that is ultimately calculated with reference to the performance of the firm during the deferral period. However, the use of equity-based incentive compensation may not be effective in aligning the incentives of mid- and lower-level employees with the interests of the firm, because these employees may view the outcomes of their decisions as unlikely to have much effect on the firm or its stock price.  Moreover, deferral may not be effective in constraining the incentives of employees who have the ability to expose the firm to long-term or \"bad tail\" risks, as these risks are unlikely to be realized during a reasonable deferral period. Consider, for example, how different the incentive compensation packages might need to be for a trader who deals in only one kind of highly structured, long-term instrument, as compared to the arrangements for the firmâ\\x80\\x99s chief executive officers.  Supervisory InitiativesIn issuing the proposed guidance, the Federal Reserve also announced two separate supervisory initiatives to ensure that the principles are incorporated by banking organizations in their compensation arrangements. These initiatives are also intended to help identify and promote emerging best practices in the industry. Like the principles themselves, the separate supervisory programs recognize the differences among the many banking organizations we supervise.  The first initiative applies to the institutions we classify for general supervisory purposes as large, complex banking organizations (LCBOs). LCBOs warrant special supervisory attention because they are significant users of incentive compensation arrangements and because flawed practices at these institutions are more likely to have adverse effects on the broader financial system. The challenge with respect to these institutions was that while we did not want to impose inflexible, and possibly ineffective, practices across the wide range of compensation arrangements, we also did not want there to be insufficient attention paid to the very particulars that led us to adopt this approach in the first place.  Accordingly, we decided to place the burden on each of these LCBOs to develop a plan that would, with appropriate specificity, implement the principles we have identified into the firmâ\\x80\\x99s compensation policies and practices. A rigorous process of planning and implementation, with accompanying supervisory oversight, makes it possible for these firms to customize their compensation arrangements. Our supervisory approach to compensation practices at LCBOs will include an extensive horizontal review process, in keeping with our increased emphasis on this approach for the supervision of the largest institutions. This horizontal review, which we expect to commence shortly, will be led by a multidisciplinary coordinating group of Federal Reserve staff. We anticipate that it will include staff from the Board, from Reserve Banks that supervise LCBOs, and from other financial regulators. This group also will serve as a resource for supervisory staff across the Federal Reserve System on incentive compensation matters.  This review process will enhance our understanding of existing incentive compensation practices, identify existing or emerging best practices across the organizations, and provide an informed framework for evaluating firmsâ\\x80\\x99 plans for improving their practices. In this regard, each LCBO will be expected to develop and present to the Federal Reserve a plan that identifies where improvements to the organizationâ\\x80\\x99s compensation arrangements and related practices are needed to bring them in line with the principles embodied in the guidance. These submissions must include the firmâ\\x80\\x99s plans, including relevant timetables, for achieving meaningful and effective improvements to the risk-sensitivity of its incentive compensation arrangements and the firmâ\\x80\\x99s related risk management, controls, and corporate governance processes. We expect to work with each organization through the supervisory process in refining its plan. Once finalized, implementation of the plan will become part of the supervisory expectations for the banking organization. As with other supervisory expectations, failure to submit or implement a satisfactory plan could be the basis for enforcement action. We issued the compensation guidance in proposed form and will be accepting comments on the guidance through November 27. While we may well make changes in some aspects of the guidance based on comments we receive, it is critical that the incentives created by compensation arrangements be reviewed and adjusted to ensure the safe and sound operation of financial firms. Indeed, in light of the experience of recent years, the safety and soundness implications of incentive compensation arrangements would be an appropriate matter for supervisory oversight even in the absence of any specific guidance. For these reasons, we are not waiting to begin the process of gathering information about compensation practices from LCBOs. Today, in discussions across the country, we are communicating our plans and expectations to these firms, with particular attention to beginning this information gathering.  A separate program will apply to the thousands of other organizations supervised by the Federal Reserve, including community and regional banking organizations. Supervisory staff will review incentive compensation arrangements at these organizations as part of the regular risk-focused examination process, in connection with reviews of the organizationsâ\\x80\\x99 risk management, internal controls, and corporate governance. These reviews, as well as our supervisory expectations for these organizations, will be tailored to reflect the more limited scope and complexity of these organizationsâ\\x80\\x99 activities--a fact also recognized in various aspects of our guidance. For example, we certainly do not expect smaller banking organizations that use incentive compensation arrangements on a limited basis to have the same type of formalized and detailed program for managing the risks of such arrangements as we expect to see at LCBOs.  We will also have an ongoing coordination process for developing and clarifying guidance for the non-LCBO institutions. ConclusionWe expect that our supervisory practice in this area will evolve. We will have to build on the principles we have set forth and we may, over time, identify standards that should be universally applied to certain classes of employees. We will surely face questions from firms that we have not anticipated. But even as we can expect a rapid accretion of knowledge and significant elaboration of desirable policies and practices, the constant in our compensation oversight will be the emphasis on safety and soundness and supporting risk-management practices, which have been the foundation for our supervisory approach.   Footnotes 1. The views expressed here are my own, and do not necessarily reflect those of other members of the Board of Governors of the Federal Reserve. Return to text 2. The Institute of International Finance, Inc. (2009), Compensation in Financial Services:  Industry Progress and the Agenda for Change (Washington:  IIF, March). Return to text 3.  See Board of Governors of the Federal Reserve System (2009), \"Federal Reserve Issues Proposed Guidance on Incentive Compensation,\" press release, October 22. Return to text '"
      ]
     },
     "execution_count": 47,
     "metadata": {},
     "output_type": "execute_result"
    }
   ],
   "source": [
    "data[0]['speech'][5]['ECB'][0]"
   ]
  },
  {
   "cell_type": "markdown",
   "metadata": {},
   "source": [
    "## Statistical Analyse for Speech Text\n",
    "\n",
    "1. number of words per sentence.\n",
    "\n",
    "2. number of words per paragraphs.\n",
    "\n",
    "3. number of words per speech.\n",
    "\n",
    "4. number of sentences per paragraph.\n",
    "\n",
    "5. number of sentences per speech.\n",
    "\n",
    "6. number of paragraphs per speech."
   ]
  },
  {
   "cell_type": "code",
   "execution_count": 33,
   "metadata": {},
   "outputs": [],
   "source": [
    "ECB = set()\n",
    "FED = set()\n",
    "cnt_ECB = 0\n",
    "cnt_FED = 0\n",
    "\n",
    "for data_dict in data:\n",
    "    for s in data_dict['speech']:\n",
    "        if s['ECB']:\n",
    "            cnt_ECB += 1\n",
    "            ECB.add(s['ECB'][0])\n",
    "        if s['FED']:\n",
    "            cnt_FED += 1 \n",
    "            FED.add(s['FED'][0])\n",
    "        \n",
    "        \n",
    "\n"
   ]
  },
  {
   "cell_type": "code",
   "execution_count": 34,
   "metadata": {},
   "outputs": [
    {
     "name": "stdout",
     "output_type": "stream",
     "text": [
      "1262\n",
      "417\n",
      "9487\n",
      "3303\n"
     ]
    }
   ],
   "source": [
    "print(len(ECB))\n",
    "print(len(FED))\n",
    "print(cnt_ECB)\n",
    "print(cnt_FED)"
   ]
  },
  {
   "cell_type": "code",
   "execution_count": 48,
   "metadata": {},
   "outputs": [],
   "source": [
    "nWordSen = [] # number of words per sentence.\n",
    "nWordPara = [] # number of words per paragraphs.\n",
    "nWordSpch = [] # number of words per speech.\n",
    "nSenPara = [] # number of sentences per paragraph.\n",
    "nSenSpch = [] # number of sentences per speech.\n",
    "nParaSpch = [] # number of paragraphs per speech.\n",
    "\n",
    "for s in ECB:\n",
    "    nSenSpch.append(0)\n",
    "    nWordSpch.append(0)\n",
    "    para = s.split('\\\\.')\n",
    "    nParaSpch.append(len(para))\n",
    "    \n",
    "    for p in para:\n",
    "        nWordPara.append(0)\n",
    "\n",
    "        sents = p.split('.')\n",
    "        tmp = len(sents)\n",
    "        nSenSpch[-1] += tmp\n",
    "        nSenPara.append(tmp)\n",
    "        \n",
    "        for st in sents:\n",
    "            st_s = st.strip()\n",
    "            words = st_s.split(' ')\n",
    "            tmp = len(words)\n",
    "            nWordSen.append(tmp)\n",
    "            nWordPara[-1] += tmp\n",
    "            nWordSpch[-1] += tmp\n",
    "            "
   ]
  },
  {
   "cell_type": "code",
   "execution_count": 59,
   "metadata": {},
   "outputs": [
    {
     "data": {
      "image/png": "[encoded data removed]",
      "text/plain": [
       "<Figure size 432x288 with 1 Axes>"
      ]
     },
     "metadata": {},
     "output_type": "display_data"
    }
   ],
   "source": [
    "import matplotlib.pyplot as plt\n",
    "\n",
    "plt.style.use('ggplot')\n",
    "\n",
    "plt.hist(np.log(nWordSen), histtype='barstacked', alpha=0.8)\n",
    "plt.title('Number of Words per Sentence')\n",
    "plt.show()\n",
    "    "
   ]
  },
  {
   "cell_type": "code",
   "execution_count": 64,
   "metadata": {},
   "outputs": [
    {
     "data": {
      "image/png": "[encoded data removed]",
      "text/plain": [
       "<Figure size 432x288 with 1 Axes>"
      ]
     },
     "metadata": {},
     "output_type": "display_data"
    }
   ],
   "source": [
    "plt.hist(nWordPara, alpha=0.8)\n",
    "plt.title('Number of Words per Paragraph')\n",
    "plt.show()"
   ]
  },
  {
   "cell_type": "code",
   "execution_count": 68,
   "metadata": {},
   "outputs": [
    {
     "name": "stdout",
     "output_type": "stream",
     "text": [
      "169\n",
      "5273\n"
     ]
    }
   ],
   "source": [
    "print(sum([i > 4096 for i in nWordPara]))\n",
    "print(len(nWordPara))"
   ]
  },
  {
   "cell_type": "code",
   "execution_count": 69,
   "metadata": {},
   "outputs": [
    {
     "name": "stdout",
     "output_type": "stream",
     "text": [
      "298\n",
      "1262\n"
     ]
    }
   ],
   "source": [
    "print(sum([i > 4096 for i in nWordSpch]))\n",
    "print(len(nWordSpch))"
   ]
  },
  {
   "cell_type": "code",
   "execution_count": 63,
   "metadata": {},
   "outputs": [
    {
     "data": {
      "image/png": "[encoded data removed]",
      "text/plain": [
       "<Figure size 432x288 with 1 Axes>"
      ]
     },
     "metadata": {},
     "output_type": "display_data"
    }
   ],
   "source": [
    "plt.hist(nSenPara, alpha=0.8)\n",
    "plt.title('Number of Sentences per Paragraph')\n",
    "plt.show()"
   ]
  },
  {
   "cell_type": "code",
   "execution_count": 65,
   "metadata": {},
   "outputs": [
    {
     "data": {
      "image/png": "[encoded data removed]",
      "text/plain": [
       "<Figure size 432x288 with 1 Axes>"
      ]
     },
     "metadata": {},
     "output_type": "display_data"
    }
   ],
   "source": [
    "plt.hist(nWordSpch, alpha=0.8)\n",
    "plt.title('Number of Words per Speech')\n",
    "plt.show()"
   ]
  },
  {
   "cell_type": "code",
   "execution_count": null,
   "metadata": {},
   "outputs": [],
   "source": []
  },
  {
   "cell_type": "markdown",
   "metadata": {},
   "source": [
    "## Pretrained Encoder"
   ]
  },
  {
   "cell_type": "code",
   "execution_count": 1,
   "metadata": {},
   "outputs": [
    {
     "name": "stderr",
     "output_type": "stream",
     "text": [
      "Downloading:   1%|          | 3.55M/420M [00:06<10:09, 716kB/s]"
     ]
    },
    {
     "ename": "KeyboardInterrupt",
     "evalue": "",
     "output_type": "error",
     "traceback": [
      "\u001b[0;31m---------------------------------------------------------------------------\u001b[0m",
      "\u001b[0;31mKeyboardInterrupt\u001b[0m                         Traceback (most recent call last)",
      "\u001b[0;32m/var/folders/jn/zyqg1tvd3_x4k42nr8p6yr100000gn/T/ipykernel_55411/1447963769.py\u001b[0m in \u001b[0;36m<module>\u001b[0;34m\u001b[0m\n\u001b[1;32m      1\u001b[0m \u001b[0;32mfrom\u001b[0m \u001b[0mtransformers\u001b[0m \u001b[0;32mimport\u001b[0m \u001b[0mBertTokenizer\u001b[0m\u001b[0;34m,\u001b[0m \u001b[0mBertModel\u001b[0m\u001b[0;34m\u001b[0m\u001b[0;34m\u001b[0m\u001b[0m\n\u001b[1;32m      2\u001b[0m \u001b[0mtokenizer\u001b[0m \u001b[0;34m=\u001b[0m \u001b[0mBertTokenizer\u001b[0m\u001b[0;34m.\u001b[0m\u001b[0mfrom_pretrained\u001b[0m\u001b[0;34m(\u001b[0m\u001b[0;34m'bert-base-uncased'\u001b[0m\u001b[0;34m)\u001b[0m\u001b[0;34m\u001b[0m\u001b[0;34m\u001b[0m\u001b[0m\n\u001b[0;32m----> 3\u001b[0;31m \u001b[0mmodel\u001b[0m \u001b[0;34m=\u001b[0m \u001b[0mBertModel\u001b[0m\u001b[0;34m.\u001b[0m\u001b[0mfrom_pretrained\u001b[0m\u001b[0;34m(\u001b[0m\u001b[0;34m\"bert-base-uncased\"\u001b[0m\u001b[0;34m)\u001b[0m\u001b[0;34m\u001b[0m\u001b[0;34m\u001b[0m\u001b[0m\n\u001b[0m\u001b[1;32m      4\u001b[0m \u001b[0mtext\u001b[0m \u001b[0;34m=\u001b[0m \u001b[0;34m\"Replace me by any text you'd like.\"\u001b[0m\u001b[0;34m\u001b[0m\u001b[0;34m\u001b[0m\u001b[0m\n\u001b[1;32m      5\u001b[0m \u001b[0mencoded_input\u001b[0m \u001b[0;34m=\u001b[0m \u001b[0mtokenizer\u001b[0m\u001b[0;34m(\u001b[0m\u001b[0mtext\u001b[0m\u001b[0;34m,\u001b[0m \u001b[0mreturn_tensors\u001b[0m\u001b[0;34m=\u001b[0m\u001b[0;34m'pt'\u001b[0m\u001b[0;34m)\u001b[0m\u001b[0;34m\u001b[0m\u001b[0;34m\u001b[0m\u001b[0m\n",
      "\u001b[0;32m~/anaconda3/envs/bike-ramp/lib/python3.7/site-packages/transformers/modeling_utils.py\u001b[0m in \u001b[0;36mfrom_pretrained\u001b[0;34m(cls, pretrained_model_name_or_path, *model_args, **kwargs)\u001b[0m\n\u001b[1;32m   1303\u001b[0m                     \u001b[0mlocal_files_only\u001b[0m\u001b[0;34m=\u001b[0m\u001b[0mlocal_files_only\u001b[0m\u001b[0;34m,\u001b[0m\u001b[0;34m\u001b[0m\u001b[0;34m\u001b[0m\u001b[0m\n\u001b[1;32m   1304\u001b[0m                     \u001b[0muse_auth_token\u001b[0m\u001b[0;34m=\u001b[0m\u001b[0muse_auth_token\u001b[0m\u001b[0;34m,\u001b[0m\u001b[0;34m\u001b[0m\u001b[0;34m\u001b[0m\u001b[0m\n\u001b[0;32m-> 1305\u001b[0;31m                     \u001b[0muser_agent\u001b[0m\u001b[0;34m=\u001b[0m\u001b[0muser_agent\u001b[0m\u001b[0;34m,\u001b[0m\u001b[0;34m\u001b[0m\u001b[0;34m\u001b[0m\u001b[0m\n\u001b[0m\u001b[1;32m   1306\u001b[0m                 )\n\u001b[1;32m   1307\u001b[0m             \u001b[0;32mexcept\u001b[0m \u001b[0mEnvironmentError\u001b[0m \u001b[0;32mas\u001b[0m \u001b[0merr\u001b[0m\u001b[0;34m:\u001b[0m\u001b[0;34m\u001b[0m\u001b[0;34m\u001b[0m\u001b[0m\n",
      "\u001b[0;32m~/anaconda3/envs/bike-ramp/lib/python3.7/site-packages/transformers/file_utils.py\u001b[0m in \u001b[0;36mcached_path\u001b[0;34m(url_or_filename, cache_dir, force_download, proxies, resume_download, user_agent, extract_compressed_file, force_extract, use_auth_token, local_files_only)\u001b[0m\n\u001b[1;32m   1408\u001b[0m             \u001b[0muser_agent\u001b[0m\u001b[0;34m=\u001b[0m\u001b[0muser_agent\u001b[0m\u001b[0;34m,\u001b[0m\u001b[0;34m\u001b[0m\u001b[0;34m\u001b[0m\u001b[0m\n\u001b[1;32m   1409\u001b[0m             \u001b[0muse_auth_token\u001b[0m\u001b[0;34m=\u001b[0m\u001b[0muse_auth_token\u001b[0m\u001b[0;34m,\u001b[0m\u001b[0;34m\u001b[0m\u001b[0;34m\u001b[0m\u001b[0m\n\u001b[0;32m-> 1410\u001b[0;31m             \u001b[0mlocal_files_only\u001b[0m\u001b[0;34m=\u001b[0m\u001b[0mlocal_files_only\u001b[0m\u001b[0;34m,\u001b[0m\u001b[0;34m\u001b[0m\u001b[0;34m\u001b[0m\u001b[0m\n\u001b[0m\u001b[1;32m   1411\u001b[0m         )\n\u001b[1;32m   1412\u001b[0m     \u001b[0;32melif\u001b[0m \u001b[0mos\u001b[0m\u001b[0;34m.\u001b[0m\u001b[0mpath\u001b[0m\u001b[0;34m.\u001b[0m\u001b[0mexists\u001b[0m\u001b[0;34m(\u001b[0m\u001b[0murl_or_filename\u001b[0m\u001b[0;34m)\u001b[0m\u001b[0;34m:\u001b[0m\u001b[0;34m\u001b[0m\u001b[0;34m\u001b[0m\u001b[0m\n",
      "\u001b[0;32m~/anaconda3/envs/bike-ramp/lib/python3.7/site-packages/transformers/file_utils.py\u001b[0m in \u001b[0;36mget_from_cache\u001b[0;34m(url, cache_dir, force_download, proxies, etag_timeout, resume_download, user_agent, use_auth_token, local_files_only)\u001b[0m\n\u001b[1;32m   1664\u001b[0m             \u001b[0mlogger\u001b[0m\u001b[0;34m.\u001b[0m\u001b[0minfo\u001b[0m\u001b[0;34m(\u001b[0m\u001b[0;34mf\"{url} not found in cache or force_download set to True, downloading to {temp_file.name}\"\u001b[0m\u001b[0;34m)\u001b[0m\u001b[0;34m\u001b[0m\u001b[0;34m\u001b[0m\u001b[0m\n\u001b[1;32m   1665\u001b[0m \u001b[0;34m\u001b[0m\u001b[0m\n\u001b[0;32m-> 1666\u001b[0;31m             \u001b[0mhttp_get\u001b[0m\u001b[0;34m(\u001b[0m\u001b[0murl_to_download\u001b[0m\u001b[0;34m,\u001b[0m \u001b[0mtemp_file\u001b[0m\u001b[0;34m,\u001b[0m \u001b[0mproxies\u001b[0m\u001b[0;34m=\u001b[0m\u001b[0mproxies\u001b[0m\u001b[0;34m,\u001b[0m \u001b[0mresume_size\u001b[0m\u001b[0;34m=\u001b[0m\u001b[0mresume_size\u001b[0m\u001b[0;34m,\u001b[0m \u001b[0mheaders\u001b[0m\u001b[0;34m=\u001b[0m\u001b[0mheaders\u001b[0m\u001b[0;34m)\u001b[0m\u001b[0;34m\u001b[0m\u001b[0;34m\u001b[0m\u001b[0m\n\u001b[0m\u001b[1;32m   1667\u001b[0m \u001b[0;34m\u001b[0m\u001b[0m\n\u001b[1;32m   1668\u001b[0m         \u001b[0mlogger\u001b[0m\u001b[0;34m.\u001b[0m\u001b[0minfo\u001b[0m\u001b[0;34m(\u001b[0m\u001b[0;34mf\"storing {url} in cache at {cache_path}\"\u001b[0m\u001b[0;34m)\u001b[0m\u001b[0;34m\u001b[0m\u001b[0;34m\u001b[0m\u001b[0m\n",
      "\u001b[0;32m~/anaconda3/envs/bike-ramp/lib/python3.7/site-packages/transformers/file_utils.py\u001b[0m in \u001b[0;36mhttp_get\u001b[0;34m(url, temp_file, proxies, resume_size, headers)\u001b[0m\n\u001b[1;32m   1523\u001b[0m         \u001b[0mdisable\u001b[0m\u001b[0;34m=\u001b[0m\u001b[0mbool\u001b[0m\u001b[0;34m(\u001b[0m\u001b[0mlogging\u001b[0m\u001b[0;34m.\u001b[0m\u001b[0mget_verbosity\u001b[0m\u001b[0;34m(\u001b[0m\u001b[0;34m)\u001b[0m \u001b[0;34m==\u001b[0m \u001b[0mlogging\u001b[0m\u001b[0;34m.\u001b[0m\u001b[0mNOTSET\u001b[0m\u001b[0;34m)\u001b[0m\u001b[0;34m,\u001b[0m\u001b[0;34m\u001b[0m\u001b[0;34m\u001b[0m\u001b[0m\n\u001b[1;32m   1524\u001b[0m     )\n\u001b[0;32m-> 1525\u001b[0;31m     \u001b[0;32mfor\u001b[0m \u001b[0mchunk\u001b[0m \u001b[0;32min\u001b[0m \u001b[0mr\u001b[0m\u001b[0;34m.\u001b[0m\u001b[0miter_content\u001b[0m\u001b[0;34m(\u001b[0m\u001b[0mchunk_size\u001b[0m\u001b[0;34m=\u001b[0m\u001b[0;36m1024\u001b[0m\u001b[0;34m)\u001b[0m\u001b[0;34m:\u001b[0m\u001b[0;34m\u001b[0m\u001b[0;34m\u001b[0m\u001b[0m\n\u001b[0m\u001b[1;32m   1526\u001b[0m         \u001b[0;32mif\u001b[0m \u001b[0mchunk\u001b[0m\u001b[0;34m:\u001b[0m  \u001b[0;31m# filter out keep-alive new chunks\u001b[0m\u001b[0;34m\u001b[0m\u001b[0;34m\u001b[0m\u001b[0m\n\u001b[1;32m   1527\u001b[0m             \u001b[0mprogress\u001b[0m\u001b[0;34m.\u001b[0m\u001b[0mupdate\u001b[0m\u001b[0;34m(\u001b[0m\u001b[0mlen\u001b[0m\u001b[0;34m(\u001b[0m\u001b[0mchunk\u001b[0m\u001b[0;34m)\u001b[0m\u001b[0;34m)\u001b[0m\u001b[0;34m\u001b[0m\u001b[0;34m\u001b[0m\u001b[0m\n",
      "\u001b[0;32m~/anaconda3/envs/bike-ramp/lib/python3.7/site-packages/requests/models.py\u001b[0m in \u001b[0;36mgenerate\u001b[0;34m()\u001b[0m\n\u001b[1;32m    756\u001b[0m             \u001b[0;32mif\u001b[0m \u001b[0mhasattr\u001b[0m\u001b[0;34m(\u001b[0m\u001b[0mself\u001b[0m\u001b[0;34m.\u001b[0m\u001b[0mraw\u001b[0m\u001b[0;34m,\u001b[0m \u001b[0;34m'stream'\u001b[0m\u001b[0;34m)\u001b[0m\u001b[0;34m:\u001b[0m\u001b[0;34m\u001b[0m\u001b[0;34m\u001b[0m\u001b[0m\n\u001b[1;32m    757\u001b[0m                 \u001b[0;32mtry\u001b[0m\u001b[0;34m:\u001b[0m\u001b[0;34m\u001b[0m\u001b[0;34m\u001b[0m\u001b[0m\n\u001b[0;32m--> 758\u001b[0;31m                     \u001b[0;32mfor\u001b[0m \u001b[0mchunk\u001b[0m \u001b[0;32min\u001b[0m \u001b[0mself\u001b[0m\u001b[0;34m.\u001b[0m\u001b[0mraw\u001b[0m\u001b[0;34m.\u001b[0m\u001b[0mstream\u001b[0m\u001b[0;34m(\u001b[0m\u001b[0mchunk_size\u001b[0m\u001b[0;34m,\u001b[0m \u001b[0mdecode_content\u001b[0m\u001b[0;34m=\u001b[0m\u001b[0;32mTrue\u001b[0m\u001b[0;34m)\u001b[0m\u001b[0;34m:\u001b[0m\u001b[0;34m\u001b[0m\u001b[0;34m\u001b[0m\u001b[0m\n\u001b[0m\u001b[1;32m    759\u001b[0m                         \u001b[0;32myield\u001b[0m \u001b[0mchunk\u001b[0m\u001b[0;34m\u001b[0m\u001b[0;34m\u001b[0m\u001b[0m\n\u001b[1;32m    760\u001b[0m                 \u001b[0;32mexcept\u001b[0m \u001b[0mProtocolError\u001b[0m \u001b[0;32mas\u001b[0m \u001b[0me\u001b[0m\u001b[0;34m:\u001b[0m\u001b[0;34m\u001b[0m\u001b[0;34m\u001b[0m\u001b[0m\n",
      "\u001b[0;32m~/anaconda3/envs/bike-ramp/lib/python3.7/site-packages/urllib3/response.py\u001b[0m in \u001b[0;36mstream\u001b[0;34m(self, amt, decode_content)\u001b[0m\n\u001b[1;32m    574\u001b[0m         \u001b[0;32melse\u001b[0m\u001b[0;34m:\u001b[0m\u001b[0;34m\u001b[0m\u001b[0;34m\u001b[0m\u001b[0m\n\u001b[1;32m    575\u001b[0m             \u001b[0;32mwhile\u001b[0m \u001b[0;32mnot\u001b[0m \u001b[0mis_fp_closed\u001b[0m\u001b[0;34m(\u001b[0m\u001b[0mself\u001b[0m\u001b[0;34m.\u001b[0m\u001b[0m_fp\u001b[0m\u001b[0;34m)\u001b[0m\u001b[0;34m:\u001b[0m\u001b[0;34m\u001b[0m\u001b[0;34m\u001b[0m\u001b[0m\n\u001b[0;32m--> 576\u001b[0;31m                 \u001b[0mdata\u001b[0m \u001b[0;34m=\u001b[0m \u001b[0mself\u001b[0m\u001b[0;34m.\u001b[0m\u001b[0mread\u001b[0m\u001b[0;34m(\u001b[0m\u001b[0mamt\u001b[0m\u001b[0;34m=\u001b[0m\u001b[0mamt\u001b[0m\u001b[0;34m,\u001b[0m \u001b[0mdecode_content\u001b[0m\u001b[0;34m=\u001b[0m\u001b[0mdecode_content\u001b[0m\u001b[0;34m)\u001b[0m\u001b[0;34m\u001b[0m\u001b[0;34m\u001b[0m\u001b[0m\n\u001b[0m\u001b[1;32m    577\u001b[0m \u001b[0;34m\u001b[0m\u001b[0m\n\u001b[1;32m    578\u001b[0m                 \u001b[0;32mif\u001b[0m \u001b[0mdata\u001b[0m\u001b[0;34m:\u001b[0m\u001b[0;34m\u001b[0m\u001b[0;34m\u001b[0m\u001b[0m\n",
      "\u001b[0;32m~/anaconda3/envs/bike-ramp/lib/python3.7/site-packages/urllib3/response.py\u001b[0m in \u001b[0;36mread\u001b[0;34m(self, amt, decode_content, cache_content)\u001b[0m\n\u001b[1;32m    500\u001b[0m             set.)\n\u001b[1;32m    501\u001b[0m         \"\"\"\n\u001b[0;32m--> 502\u001b[0;31m         \u001b[0mself\u001b[0m\u001b[0;34m.\u001b[0m\u001b[0m_init_decoder\u001b[0m\u001b[0;34m(\u001b[0m\u001b[0;34m)\u001b[0m\u001b[0;34m\u001b[0m\u001b[0;34m\u001b[0m\u001b[0m\n\u001b[0m\u001b[1;32m    503\u001b[0m         \u001b[0;32mif\u001b[0m \u001b[0mdecode_content\u001b[0m \u001b[0;32mis\u001b[0m \u001b[0;32mNone\u001b[0m\u001b[0;34m:\u001b[0m\u001b[0;34m\u001b[0m\u001b[0;34m\u001b[0m\u001b[0m\n\u001b[1;32m    504\u001b[0m             \u001b[0mdecode_content\u001b[0m \u001b[0;34m=\u001b[0m \u001b[0mself\u001b[0m\u001b[0;34m.\u001b[0m\u001b[0mdecode_content\u001b[0m\u001b[0;34m\u001b[0m\u001b[0;34m\u001b[0m\u001b[0m\n",
      "\u001b[0;32m~/anaconda3/envs/bike-ramp/lib/python3.7/site-packages/urllib3/response.py\u001b[0m in \u001b[0;36m_init_decoder\u001b[0;34m(self)\u001b[0m\n\u001b[1;32m    373\u001b[0m         \u001b[0;31m# Note: content-encoding value should be case-insensitive, per RFC 7230\u001b[0m\u001b[0;34m\u001b[0m\u001b[0;34m\u001b[0m\u001b[0;34m\u001b[0m\u001b[0m\n\u001b[1;32m    374\u001b[0m         \u001b[0;31m# Section 3.2\u001b[0m\u001b[0;34m\u001b[0m\u001b[0;34m\u001b[0m\u001b[0;34m\u001b[0m\u001b[0m\n\u001b[0;32m--> 375\u001b[0;31m         \u001b[0mcontent_encoding\u001b[0m \u001b[0;34m=\u001b[0m \u001b[0mself\u001b[0m\u001b[0;34m.\u001b[0m\u001b[0mheaders\u001b[0m\u001b[0;34m.\u001b[0m\u001b[0mget\u001b[0m\u001b[0;34m(\u001b[0m\u001b[0;34m\"content-encoding\"\u001b[0m\u001b[0;34m,\u001b[0m \u001b[0;34m\"\"\u001b[0m\u001b[0;34m)\u001b[0m\u001b[0;34m.\u001b[0m\u001b[0mlower\u001b[0m\u001b[0;34m(\u001b[0m\u001b[0;34m)\u001b[0m\u001b[0;34m\u001b[0m\u001b[0;34m\u001b[0m\u001b[0m\n\u001b[0m\u001b[1;32m    376\u001b[0m         \u001b[0;32mif\u001b[0m \u001b[0mself\u001b[0m\u001b[0;34m.\u001b[0m\u001b[0m_decoder\u001b[0m \u001b[0;32mis\u001b[0m \u001b[0;32mNone\u001b[0m\u001b[0;34m:\u001b[0m\u001b[0;34m\u001b[0m\u001b[0;34m\u001b[0m\u001b[0m\n\u001b[1;32m    377\u001b[0m             \u001b[0;32mif\u001b[0m \u001b[0mcontent_encoding\u001b[0m \u001b[0;32min\u001b[0m \u001b[0mself\u001b[0m\u001b[0;34m.\u001b[0m\u001b[0mCONTENT_DECODERS\u001b[0m\u001b[0;34m:\u001b[0m\u001b[0;34m\u001b[0m\u001b[0;34m\u001b[0m\u001b[0m\n",
      "\u001b[0;31mKeyboardInterrupt\u001b[0m: "
     ]
    }
   ],
   "source": [
    "from transformers import BertTokenizer, BertModel\n",
    "tokenizer = BertTokenizer.from_pretrained('bert-base-uncased')\n",
    "model = BertModel.from_pretrained(\"bert-base-uncased\")\n",
    "text = \"Replace me by any text you'd like.\"\n",
    "encoded_input = tokenizer(text, return_tensors='pt')\n",
    "output = model(**encoded_input)"
   ]
  },
  {
   "cell_type": "markdown",
   "metadata": {},
   "source": [
    "## Summarization"
   ]
  },
  {
   "cell_type": "code",
   "execution_count": 5,
   "metadata": {},
   "outputs": [
    {
     "ename": "AttributeError",
     "evalue": "module 'cymem.cymem' has no attribute 'PyMalloc'",
     "output_type": "error",
     "traceback": [
      "\u001b[0;31m---------------------------------------------------------------------------\u001b[0m",
      "\u001b[0;31mAttributeError\u001b[0m                            Traceback (most recent call last)",
      "\u001b[0;32m/var/folders/jn/zyqg1tvd3_x4k42nr8p6yr100000gn/T/ipykernel_37845/2060036959.py\u001b[0m in \u001b[0;36m<module>\u001b[0;34m\u001b[0m\n\u001b[0;32m----> 1\u001b[0;31m \u001b[0;32mfrom\u001b[0m \u001b[0msummarizer\u001b[0m \u001b[0;32mimport\u001b[0m \u001b[0mSummarizer\u001b[0m\u001b[0;34m,\u001b[0m\u001b[0mTransformerSummarizer\u001b[0m\u001b[0;34m\u001b[0m\u001b[0;34m\u001b[0m\u001b[0m\n\u001b[0m",
      "\u001b[0;32m~/anaconda3/envs/bike-ramp/lib/python3.7/site-packages/summarizer/__init__.py\u001b[0m in \u001b[0;36m<module>\u001b[0;34m\u001b[0m\n\u001b[0;32m----> 1\u001b[0;31m \u001b[0;32mfrom\u001b[0m \u001b[0msummarizer\u001b[0m\u001b[0;34m.\u001b[0m\u001b[0mbert\u001b[0m \u001b[0;32mimport\u001b[0m \u001b[0mSummarizer\u001b[0m\u001b[0;34m,\u001b[0m \u001b[0mTransformerSummarizer\u001b[0m\u001b[0;34m\u001b[0m\u001b[0;34m\u001b[0m\u001b[0m\n\u001b[0m\u001b[1;32m      2\u001b[0m \u001b[0;34m\u001b[0m\u001b[0m\n\u001b[1;32m      3\u001b[0m \u001b[0m__all__\u001b[0m \u001b[0;34m=\u001b[0m \u001b[0;34m[\u001b[0m\u001b[0;34m\"Summarizer\"\u001b[0m\u001b[0;34m,\u001b[0m \u001b[0;34m\"TransformerSummarizer\"\u001b[0m\u001b[0;34m]\u001b[0m\u001b[0;34m\u001b[0m\u001b[0;34m\u001b[0m\u001b[0m\n",
      "\u001b[0;32m~/anaconda3/envs/bike-ramp/lib/python3.7/site-packages/summarizer/bert.py\u001b[0m in \u001b[0;36m<module>\u001b[0;34m\u001b[0m\n\u001b[1;32m     13\u001b[0m                           XLMTokenizer, XLNetModel, XLNetTokenizer)\n\u001b[1;32m     14\u001b[0m \u001b[0;34m\u001b[0m\u001b[0m\n\u001b[0;32m---> 15\u001b[0;31m \u001b[0;32mfrom\u001b[0m \u001b[0msummarizer\u001b[0m\u001b[0;34m.\u001b[0m\u001b[0msummary_processor\u001b[0m \u001b[0;32mimport\u001b[0m \u001b[0mSummaryProcessor\u001b[0m\u001b[0;34m\u001b[0m\u001b[0;34m\u001b[0m\u001b[0m\n\u001b[0m\u001b[1;32m     16\u001b[0m \u001b[0;32mfrom\u001b[0m \u001b[0msummarizer\u001b[0m\u001b[0;34m.\u001b[0m\u001b[0mtext_processors\u001b[0m\u001b[0;34m.\u001b[0m\u001b[0msentence_handler\u001b[0m \u001b[0;32mimport\u001b[0m \u001b[0mSentenceHandler\u001b[0m\u001b[0;34m\u001b[0m\u001b[0;34m\u001b[0m\u001b[0m\n\u001b[1;32m     17\u001b[0m \u001b[0;32mfrom\u001b[0m \u001b[0msummarizer\u001b[0m\u001b[0;34m.\u001b[0m\u001b[0mtransformer_embeddings\u001b[0m\u001b[0;34m.\u001b[0m\u001b[0mbert_embedding\u001b[0m \u001b[0;32mimport\u001b[0m \u001b[0mBertEmbedding\u001b[0m\u001b[0;34m\u001b[0m\u001b[0;34m\u001b[0m\u001b[0m\n",
      "\u001b[0;32m~/anaconda3/envs/bike-ramp/lib/python3.7/site-packages/summarizer/summary_processor.py\u001b[0m in \u001b[0;36m<module>\u001b[0;34m\u001b[0m\n\u001b[1;32m      4\u001b[0m \u001b[0;34m\u001b[0m\u001b[0m\n\u001b[1;32m      5\u001b[0m \u001b[0;32mfrom\u001b[0m \u001b[0msummarizer\u001b[0m\u001b[0;34m.\u001b[0m\u001b[0mcluster_features\u001b[0m \u001b[0;32mimport\u001b[0m \u001b[0mClusterFeatures\u001b[0m\u001b[0;34m\u001b[0m\u001b[0;34m\u001b[0m\u001b[0m\n\u001b[0;32m----> 6\u001b[0;31m \u001b[0;32mfrom\u001b[0m \u001b[0msummarizer\u001b[0m\u001b[0;34m.\u001b[0m\u001b[0mtext_processors\u001b[0m\u001b[0;34m.\u001b[0m\u001b[0msentence_handler\u001b[0m \u001b[0;32mimport\u001b[0m \u001b[0mSentenceHandler\u001b[0m\u001b[0;34m\u001b[0m\u001b[0;34m\u001b[0m\u001b[0m\n\u001b[0m\u001b[1;32m      7\u001b[0m \u001b[0;32mfrom\u001b[0m \u001b[0msummarizer\u001b[0m\u001b[0;34m.\u001b[0m\u001b[0mutil\u001b[0m \u001b[0;32mimport\u001b[0m \u001b[0mAGGREGATE_MAP\u001b[0m\u001b[0;34m\u001b[0m\u001b[0;34m\u001b[0m\u001b[0m\n\u001b[1;32m      8\u001b[0m \u001b[0;34m\u001b[0m\u001b[0m\n",
      "\u001b[0;32m~/anaconda3/envs/bike-ramp/lib/python3.7/site-packages/summarizer/text_processors/sentence_handler.py\u001b[0m in \u001b[0;36m<module>\u001b[0;34m\u001b[0m\n\u001b[1;32m      1\u001b[0m \u001b[0;32mfrom\u001b[0m \u001b[0mtyping\u001b[0m \u001b[0;32mimport\u001b[0m \u001b[0mList\u001b[0m\u001b[0;34m\u001b[0m\u001b[0;34m\u001b[0m\u001b[0m\n\u001b[1;32m      2\u001b[0m \u001b[0;34m\u001b[0m\u001b[0m\n\u001b[0;32m----> 3\u001b[0;31m \u001b[0;32mfrom\u001b[0m \u001b[0mspacy\u001b[0m\u001b[0;34m.\u001b[0m\u001b[0mlang\u001b[0m\u001b[0;34m.\u001b[0m\u001b[0men\u001b[0m \u001b[0;32mimport\u001b[0m \u001b[0mEnglish\u001b[0m\u001b[0;34m\u001b[0m\u001b[0;34m\u001b[0m\u001b[0m\n\u001b[0m\u001b[1;32m      4\u001b[0m \u001b[0;32mfrom\u001b[0m \u001b[0mspacy\u001b[0m\u001b[0;34m.\u001b[0m\u001b[0mlanguage\u001b[0m \u001b[0;32mimport\u001b[0m \u001b[0mLanguage\u001b[0m\u001b[0;34m\u001b[0m\u001b[0;34m\u001b[0m\u001b[0m\n\u001b[1;32m      5\u001b[0m \u001b[0;32mfrom\u001b[0m \u001b[0msummarizer\u001b[0m\u001b[0;34m.\u001b[0m\u001b[0mtext_processors\u001b[0m\u001b[0;34m.\u001b[0m\u001b[0msentence_abc\u001b[0m \u001b[0;32mimport\u001b[0m \u001b[0mSentenceABC\u001b[0m\u001b[0;34m\u001b[0m\u001b[0;34m\u001b[0m\u001b[0m\n",
      "\u001b[0;32m~/anaconda3/envs/bike-ramp/lib/python3.7/site-packages/spacy/__init__.py\u001b[0m in \u001b[0;36m<module>\u001b[0;34m\u001b[0m\n\u001b[1;32m      9\u001b[0m \u001b[0;34m\u001b[0m\u001b[0m\n\u001b[1;32m     10\u001b[0m \u001b[0;31m# These are imported as part of the API\u001b[0m\u001b[0;34m\u001b[0m\u001b[0;34m\u001b[0m\u001b[0;34m\u001b[0m\u001b[0m\n\u001b[0;32m---> 11\u001b[0;31m \u001b[0;32mfrom\u001b[0m \u001b[0mthinc\u001b[0m\u001b[0;34m.\u001b[0m\u001b[0mapi\u001b[0m \u001b[0;32mimport\u001b[0m \u001b[0mprefer_gpu\u001b[0m\u001b[0;34m,\u001b[0m \u001b[0mrequire_gpu\u001b[0m\u001b[0;34m,\u001b[0m \u001b[0mrequire_cpu\u001b[0m  \u001b[0;31m# noqa: F401\u001b[0m\u001b[0;34m\u001b[0m\u001b[0;34m\u001b[0m\u001b[0m\n\u001b[0m\u001b[1;32m     12\u001b[0m \u001b[0;32mfrom\u001b[0m \u001b[0mthinc\u001b[0m\u001b[0;34m.\u001b[0m\u001b[0mapi\u001b[0m \u001b[0;32mimport\u001b[0m \u001b[0mConfig\u001b[0m\u001b[0;34m\u001b[0m\u001b[0;34m\u001b[0m\u001b[0m\n\u001b[1;32m     13\u001b[0m \u001b[0;34m\u001b[0m\u001b[0m\n",
      "\u001b[0;32m~/anaconda3/envs/bike-ramp/lib/python3.7/site-packages/thinc/api.py\u001b[0m in \u001b[0;36m<module>\u001b[0;34m\u001b[0m\n\u001b[1;32m      1\u001b[0m \u001b[0;32mfrom\u001b[0m \u001b[0;34m.\u001b[0m\u001b[0mconfig\u001b[0m \u001b[0;32mimport\u001b[0m \u001b[0mConfig\u001b[0m\u001b[0;34m,\u001b[0m \u001b[0mregistry\u001b[0m\u001b[0;34m,\u001b[0m \u001b[0mConfigValidationError\u001b[0m\u001b[0;34m\u001b[0m\u001b[0;34m\u001b[0m\u001b[0m\n\u001b[0;32m----> 2\u001b[0;31m \u001b[0;32mfrom\u001b[0m \u001b[0;34m.\u001b[0m\u001b[0minitializers\u001b[0m \u001b[0;32mimport\u001b[0m \u001b[0mnormal_init\u001b[0m\u001b[0;34m,\u001b[0m \u001b[0muniform_init\u001b[0m\u001b[0;34m,\u001b[0m \u001b[0mglorot_uniform_init\u001b[0m\u001b[0;34m,\u001b[0m \u001b[0mzero_init\u001b[0m\u001b[0;34m\u001b[0m\u001b[0;34m\u001b[0m\u001b[0m\n\u001b[0m\u001b[1;32m      3\u001b[0m \u001b[0;32mfrom\u001b[0m \u001b[0;34m.\u001b[0m\u001b[0minitializers\u001b[0m \u001b[0;32mimport\u001b[0m \u001b[0mconfigure_normal_init\u001b[0m\u001b[0;34m\u001b[0m\u001b[0;34m\u001b[0m\u001b[0m\n\u001b[1;32m      4\u001b[0m \u001b[0;32mfrom\u001b[0m \u001b[0;34m.\u001b[0m\u001b[0mloss\u001b[0m \u001b[0;32mimport\u001b[0m \u001b[0mCategoricalCrossentropy\u001b[0m\u001b[0;34m,\u001b[0m \u001b[0mL2Distance\u001b[0m\u001b[0;34m,\u001b[0m \u001b[0mCosineDistance\u001b[0m\u001b[0;34m\u001b[0m\u001b[0;34m\u001b[0m\u001b[0m\n\u001b[1;32m      5\u001b[0m \u001b[0;32mfrom\u001b[0m \u001b[0;34m.\u001b[0m\u001b[0mloss\u001b[0m \u001b[0;32mimport\u001b[0m \u001b[0mSequenceCategoricalCrossentropy\u001b[0m\u001b[0;34m\u001b[0m\u001b[0;34m\u001b[0m\u001b[0m\n",
      "\u001b[0;32m~/anaconda3/envs/bike-ramp/lib/python3.7/site-packages/thinc/initializers.py\u001b[0m in \u001b[0;36m<module>\u001b[0;34m\u001b[0m\n\u001b[1;32m      2\u001b[0m \u001b[0;32mimport\u001b[0m \u001b[0mnumpy\u001b[0m\u001b[0;34m\u001b[0m\u001b[0;34m\u001b[0m\u001b[0m\n\u001b[1;32m      3\u001b[0m \u001b[0;34m\u001b[0m\u001b[0m\n\u001b[0;32m----> 4\u001b[0;31m \u001b[0;32mfrom\u001b[0m \u001b[0;34m.\u001b[0m\u001b[0mbackends\u001b[0m \u001b[0;32mimport\u001b[0m \u001b[0mOps\u001b[0m\u001b[0;34m\u001b[0m\u001b[0;34m\u001b[0m\u001b[0m\n\u001b[0m\u001b[1;32m      5\u001b[0m \u001b[0;32mfrom\u001b[0m \u001b[0;34m.\u001b[0m\u001b[0mconfig\u001b[0m \u001b[0;32mimport\u001b[0m \u001b[0mregistry\u001b[0m\u001b[0;34m\u001b[0m\u001b[0;34m\u001b[0m\u001b[0m\n\u001b[1;32m      6\u001b[0m \u001b[0;32mfrom\u001b[0m \u001b[0;34m.\u001b[0m\u001b[0mtypes\u001b[0m \u001b[0;32mimport\u001b[0m \u001b[0mFloatsXd\u001b[0m\u001b[0;34m,\u001b[0m \u001b[0mShape\u001b[0m\u001b[0;34m\u001b[0m\u001b[0;34m\u001b[0m\u001b[0m\n",
      "\u001b[0;32m~/anaconda3/envs/bike-ramp/lib/python3.7/site-packages/thinc/backends/__init__.py\u001b[0m in \u001b[0;36m<module>\u001b[0;34m\u001b[0m\n\u001b[1;32m      6\u001b[0m \u001b[0;34m\u001b[0m\u001b[0m\n\u001b[1;32m      7\u001b[0m \u001b[0;32mfrom\u001b[0m \u001b[0;34m.\u001b[0m\u001b[0mops\u001b[0m \u001b[0;32mimport\u001b[0m \u001b[0mOps\u001b[0m\u001b[0;34m\u001b[0m\u001b[0;34m\u001b[0m\u001b[0m\n\u001b[0;32m----> 8\u001b[0;31m \u001b[0;32mfrom\u001b[0m \u001b[0;34m.\u001b[0m\u001b[0mcupy_ops\u001b[0m \u001b[0;32mimport\u001b[0m \u001b[0mCupyOps\u001b[0m\u001b[0;34m,\u001b[0m \u001b[0mhas_cupy\u001b[0m\u001b[0;34m\u001b[0m\u001b[0;34m\u001b[0m\u001b[0m\n\u001b[0m\u001b[1;32m      9\u001b[0m \u001b[0;32mfrom\u001b[0m \u001b[0;34m.\u001b[0m\u001b[0mnumpy_ops\u001b[0m \u001b[0;32mimport\u001b[0m \u001b[0mNumpyOps\u001b[0m\u001b[0;34m\u001b[0m\u001b[0;34m\u001b[0m\u001b[0m\n\u001b[1;32m     10\u001b[0m \u001b[0;32mfrom\u001b[0m \u001b[0;34m.\u001b[0m\u001b[0m_cupy_allocators\u001b[0m \u001b[0;32mimport\u001b[0m \u001b[0mcupy_tensorflow_allocator\u001b[0m\u001b[0;34m,\u001b[0m \u001b[0mcupy_pytorch_allocator\u001b[0m\u001b[0;34m\u001b[0m\u001b[0;34m\u001b[0m\u001b[0m\n",
      "\u001b[0;32m~/anaconda3/envs/bike-ramp/lib/python3.7/site-packages/thinc/backends/cupy_ops.py\u001b[0m in \u001b[0;36m<module>\u001b[0;34m\u001b[0m\n\u001b[1;32m     17\u001b[0m \u001b[0;32mfrom\u001b[0m \u001b[0;34m.\u001b[0m\u001b[0;34m.\u001b[0m \u001b[0;32mimport\u001b[0m \u001b[0mregistry\u001b[0m\u001b[0;34m\u001b[0m\u001b[0;34m\u001b[0m\u001b[0m\n\u001b[1;32m     18\u001b[0m \u001b[0;32mfrom\u001b[0m \u001b[0;34m.\u001b[0m\u001b[0mops\u001b[0m \u001b[0;32mimport\u001b[0m \u001b[0mOps\u001b[0m\u001b[0;34m\u001b[0m\u001b[0;34m\u001b[0m\u001b[0m\n\u001b[0;32m---> 19\u001b[0;31m \u001b[0;32mfrom\u001b[0m \u001b[0;34m.\u001b[0m\u001b[0mnumpy_ops\u001b[0m \u001b[0;32mimport\u001b[0m \u001b[0mNumpyOps\u001b[0m\u001b[0;34m\u001b[0m\u001b[0;34m\u001b[0m\u001b[0m\n\u001b[0m\u001b[1;32m     20\u001b[0m \u001b[0;32mfrom\u001b[0m \u001b[0;34m.\u001b[0m \u001b[0;32mimport\u001b[0m \u001b[0m_custom_kernels\u001b[0m\u001b[0;34m\u001b[0m\u001b[0;34m\u001b[0m\u001b[0m\n\u001b[1;32m     21\u001b[0m \u001b[0;32mfrom\u001b[0m \u001b[0;34m.\u001b[0m\u001b[0;34m.\u001b[0m\u001b[0mtypes\u001b[0m \u001b[0;32mimport\u001b[0m \u001b[0mDeviceTypes\u001b[0m\u001b[0;34m\u001b[0m\u001b[0;34m\u001b[0m\u001b[0m\n",
      "\u001b[0;32m~/anaconda3/envs/bike-ramp/lib/python3.7/site-packages/thinc/backends/numpy_ops.pyx\u001b[0m in \u001b[0;36minit thinc.backends.numpy_ops\u001b[0;34m()\u001b[0m\n",
      "\u001b[0;31mAttributeError\u001b[0m: module 'cymem.cymem' has no attribute 'PyMalloc'"
     ]
    }
   ],
   "source": [
    "from summarizer import Summarizer,TransformerSummarizer"
   ]
  },
  {
   "cell_type": "code",
   "execution_count": 2,
   "metadata": {},
   "outputs": [],
   "source": [
    "from transformers import PegasusTokenizer, PegasusForConditionalGeneration\n",
    "\n",
    "# Let's load the model and the tokenizer \n",
    "model_name = \"human-centered-summarization/financial-summarization-pegasus\"\n",
    "tokenizer = PegasusTokenizer.from_pretrained(model_name)\n"
   ]
  },
  {
   "cell_type": "code",
   "execution_count": 3,
   "metadata": {},
   "outputs": [
    {
     "name": "stderr",
     "output_type": "stream",
     "text": [
      "Downloading:   1%|          | 3.59M/420M [00:20<10:09, 716kB/s]"
     ]
    }
   ],
   "source": [
    "model = PegasusForConditionalGeneration.from_pretrained(model_name)"
   ]
  },
  {
   "cell_type": "code",
   "execution_count": 4,
   "metadata": {},
   "outputs": [
    {
     "name": "stdout",
     "output_type": "stream",
     "text": [
      "Saudi bank to pay a 3.5% premium to Samba share price. Gulf region’s third-largest lender will have total assets of $220 billion\n"
     ]
    }
   ],
   "source": [
    "# Some text to summarize here\n",
    "text_to_summarize = \"National Commercial Bank (NCB), Saudi Arabia’s largest lender by assets, agreed to buy rival Samba Financial Group for $15 billion in the biggest banking takeover this year.NCB will pay 28.45 riyals ($7.58) for each Samba share, according to a statement on Sunday, valuing it at about 55.7 billion riyals. NCB will offer 0.739 new shares for each Samba share, at the lower end of the 0.736-0.787 ratio the banks set when they signed an initial framework agreement in June.The offer is a 3.5% premium to Samba’s Oct. 8 closing price of 27.50 riyals and about 24% higher than the level the shares traded at before the talks were made public. Bloomberg News first reported the merger discussions.The new bank will have total assets of more than $220 billion, creating the Gulf region’s third-largest lender. The entity’s $46 billion market capitalization nearly matches that of Qatar National Bank QPSC, which is still the Middle East’s biggest lender with about $268 billion of assets.\"\n",
    "\n",
    "# Tokenize our text\n",
    "# If you want to run the code in Tensorflow, please remember to return the particular tensors as simply as using return_tensors = 'tf'\n",
    "input_ids = tokenizer(text_to_summarize, return_tensors=\"pt\").input_ids\n",
    "\n",
    "# Generate the output (Here, we use beam search but you can also use any other strategy you like)\n",
    "output = model.generate(\n",
    "    input_ids, \n",
    "    max_length=32, \n",
    "    num_beams=5, \n",
    "    early_stopping=True\n",
    ")\n",
    "\n",
    "# Finally, we can print the generated summary\n",
    "print(tokenizer.decode(output[0], skip_special_tokens=True))"
   ]
  },
  {
   "cell_type": "code",
   "execution_count": 8,
   "metadata": {},
   "outputs": [
    {
     "data": {
      "text/plain": [
       "tensor([[    0,  6794,  1679,   112,   626,   114, 52700,  2572,   112, 43311,\n",
       "           537,   469,   107,  7175,  1322,   123,   116,   776,   121, 22504,\n",
       "          7670,   138,   133,   916,  2718,   113, 80233,  1722,     1]])"
      ]
     },
     "execution_count": 8,
     "metadata": {},
     "output_type": "execute_result"
    }
   ],
   "source": [
    "output"
   ]
  },
  {
   "cell_type": "markdown",
   "metadata": {},
   "source": [
    "## Summarization for all the speeches"
   ]
  },
  {
   "cell_type": "code",
   "execution_count": 1,
   "metadata": {},
   "outputs": [],
   "source": [
    "from summarizer import Summarizer,TransformerSummarizer"
   ]
  },
  {
   "cell_type": "code",
   "execution_count": 2,
   "metadata": {},
   "outputs": [
    {
     "name": "stderr",
     "output_type": "stream",
     "text": [
      "Downloading: 100%|██████████| 1.42G/1.42G [55:48<00:00, 454kB/s]    \n",
      "Downloading: 100%|██████████| 0.99M/0.99M [00:02<00:00, 376kB/s]\n",
      "Downloading: 100%|██████████| 446k/446k [00:01<00:00, 327kB/s]  \n",
      "Downloading: 100%|██████████| 1.29M/1.29M [00:03<00:00, 391kB/s]\n"
     ]
    }
   ],
   "source": [
    "GPT2_model = TransformerSummarizer(transformer_type=\"GPT2\",transformer_model_key=\"gpt2-medium\")"
   ]
  },
  {
   "cell_type": "code",
   "execution_count": 4,
   "metadata": {},
   "outputs": [],
   "source": [
    "import json\n",
    "datapath = 'data/'\n",
    "train_split = 'train'\n",
    "index = 'EURUSDV1M_1w'\n",
    "\n",
    "with open(f'{datapath}/{train_split}/{index}.json', 'r') as fp:\n",
    "        data = json.load(fp)"
   ]
  },
  {
   "cell_type": "code",
   "execution_count": 21,
   "metadata": {},
   "outputs": [],
   "source": [
    "def get_unique_list(data):\n",
    "    ECB = set()\n",
    "    FED = set()\n",
    "\n",
    "    for data_dict in data:\n",
    "        for s in data_dict['speech']:\n",
    "            if s['ECB']:\n",
    "                ECB.add(s['ECB'][0])\n",
    "            if s['FED']:\n",
    "                FED.add(s['FED'][0])\n",
    "    \n",
    "    ECB = list(ECB)\n",
    "    FED = list(FED)\n",
    "    return ECB, FED"
   ]
  },
  {
   "cell_type": "code",
   "execution_count": 6,
   "metadata": {},
   "outputs": [
    {
     "name": "stdout",
     "output_type": "stream",
     "text": [
      "<class 'str'>\n"
     ]
    }
   ],
   "source": [
    "lt = get_unique_list(data, 'FED')\n",
    "print(type(lt[0]))"
   ]
  },
  {
   "cell_type": "code",
   "execution_count": 14,
   "metadata": {},
   "outputs": [
    {
     "data": {
      "text/plain": [
       "'The ECB’s recent monetary policy measures: Effectiveness and challenges   Camdessus lecture by Mario Draghi, President of the ECB, IMF, Washington, DC, 14 May 2015 Ladies and gentlemen, Over the past year the ECB has taken a series of major monetary policy measures, culminating in our decision in January this year to expand our asset purchases towards public sector securities. And this may indeed have come as a surprise to some observers: one of the key objections to our programme was that it would be ineffective in a low interest rate environment and/or following a balance sheet recession. We cannot shy away from implementing a policy that ensures price stability on account of potential collateral effects. Similarly, the debt burden of households and firms has fallen and reduced bank funding costs have contributed positively to retained\\xa0earnings, which accelerates the deleveraging of bank balance sheets. See Homar, Timotej and Sweder van Wijnbergen (2014), “On Zombie Banks and Recessions after Systemic Banking Crises: Government Intervention Matters”, Tinbergen Institute Discussion Paper 13-039/IV/DSF54.'"
      ]
     },
     "execution_count": 14,
     "metadata": {},
     "output_type": "execute_result"
    }
   ],
   "source": [
    "new = GPT2_model(lt[0], min_length=60, num_sentences=5)\n",
    "new"
   ]
  },
  {
   "cell_type": "code",
   "execution_count": 16,
   "metadata": {},
   "outputs": [
    {
     "data": {
      "text/plain": [
       "169"
      ]
     },
     "execution_count": 16,
     "metadata": {},
     "output_type": "execute_result"
    }
   ],
   "source": [
    "len(new.split())"
   ]
  },
  {
   "cell_type": "code",
   "execution_count": 22,
   "metadata": {},
   "outputs": [],
   "source": [
    "import copy\n",
    "from tqdm import tqdm\n",
    "\n",
    "def summarization(data):\n",
    "    ECB, FED = get_unique_list(data)\n",
    "    summary_ECB = []\n",
    "    summary_FED = []\n",
    "     \n",
    "    for speech in tqdm(ECB):\n",
    "        summary = GPT2_model(speech, min_length=60, num_sentences=5)\n",
    "        summary_ECB.append(summary)\n",
    "    print(\"Finished summarizing the ECB list!\")\n",
    "\n",
    "    for speech in tqdm(FED):\n",
    "        summary = GPT2_model(speech, min_length=60, num_sentences=5)\n",
    "        summary_FED.append(summary)\n",
    "    print(\"Finished summarizing the FED list!\")\n",
    "\n",
    "    summary_data = copy.deepcopy(data)\n",
    "    for data_dict, new_dict in zip(data, summary_data):\n",
    "        for s, sm in zip(data_dict['speech'], new_dict['speech']):\n",
    "            if s['ECB']:\n",
    "                id = ECB.index(s['ECB'][0])\n",
    "                new_sum = summary_ECB[id]\n",
    "                sm['ECB'] = [new_sum]\n",
    "            if s['FED']:\n",
    "                id = FED.index(s['FED'][0])\n",
    "                new_sum = summary_FED[id]\n",
    "                sm['FED'] = [new_sum]\n",
    "    \n",
    "    return summary_data\n",
    "\n",
    "\n",
    "\n",
    "    "
   ]
  },
  {
   "cell_type": "code",
   "execution_count": 23,
   "metadata": {},
   "outputs": [
    {
     "name": "stderr",
     "output_type": "stream",
     "text": [
      "  5%|▍         | 57/1262 [48:52<17:13:23, 51.46s/it]\n"
     ]
    },
    {
     "ename": "KeyboardInterrupt",
     "evalue": "",
     "output_type": "error",
     "traceback": [
      "\u001b[0;31m---------------------------------------------------------------------------\u001b[0m",
      "\u001b[0;31mKeyboardInterrupt\u001b[0m                         Traceback (most recent call last)",
      "\u001b[0;32m/var/folders/jn/zyqg1tvd3_x4k42nr8p6yr100000gn/T/ipykernel_60246/2179240228.py\u001b[0m in \u001b[0;36m<module>\u001b[0;34m\u001b[0m\n\u001b[0;32m----> 1\u001b[0;31m \u001b[0msummary_data\u001b[0m \u001b[0;34m=\u001b[0m \u001b[0msummarization\u001b[0m\u001b[0;34m(\u001b[0m\u001b[0mdata\u001b[0m\u001b[0;34m)\u001b[0m\u001b[0;34m\u001b[0m\u001b[0;34m\u001b[0m\u001b[0m\n\u001b[0m",
      "\u001b[0;32m/var/folders/jn/zyqg1tvd3_x4k42nr8p6yr100000gn/T/ipykernel_60246/2400573230.py\u001b[0m in \u001b[0;36msummarization\u001b[0;34m(data)\u001b[0m\n\u001b[1;32m      8\u001b[0m \u001b[0;34m\u001b[0m\u001b[0m\n\u001b[1;32m      9\u001b[0m     \u001b[0;32mfor\u001b[0m \u001b[0mspeech\u001b[0m \u001b[0;32min\u001b[0m \u001b[0mtqdm\u001b[0m\u001b[0;34m(\u001b[0m\u001b[0mECB\u001b[0m\u001b[0;34m)\u001b[0m\u001b[0;34m:\u001b[0m\u001b[0;34m\u001b[0m\u001b[0;34m\u001b[0m\u001b[0m\n\u001b[0;32m---> 10\u001b[0;31m         \u001b[0msummary\u001b[0m \u001b[0;34m=\u001b[0m \u001b[0mGPT2_model\u001b[0m\u001b[0;34m(\u001b[0m\u001b[0mspeech\u001b[0m\u001b[0;34m,\u001b[0m \u001b[0mmin_length\u001b[0m\u001b[0;34m=\u001b[0m\u001b[0;36m60\u001b[0m\u001b[0;34m,\u001b[0m \u001b[0mnum_sentences\u001b[0m\u001b[0;34m=\u001b[0m\u001b[0;36m5\u001b[0m\u001b[0;34m)\u001b[0m\u001b[0;34m\u001b[0m\u001b[0;34m\u001b[0m\u001b[0m\n\u001b[0m\u001b[1;32m     11\u001b[0m         \u001b[0msummary_ECB\u001b[0m\u001b[0;34m.\u001b[0m\u001b[0mappend\u001b[0m\u001b[0;34m(\u001b[0m\u001b[0msummary\u001b[0m\u001b[0;34m)\u001b[0m\u001b[0;34m\u001b[0m\u001b[0;34m\u001b[0m\u001b[0m\n\u001b[1;32m     12\u001b[0m     \u001b[0mprint\u001b[0m\u001b[0;34m(\u001b[0m\u001b[0;34m\"Finished summarizing the ECB list!\"\u001b[0m\u001b[0;34m)\u001b[0m\u001b[0;34m\u001b[0m\u001b[0;34m\u001b[0m\u001b[0m\n",
      "\u001b[0;32m~/anaconda3/envs/bike-ramp/lib/python3.7/site-packages/summarizer/summary_processor.py\u001b[0m in \u001b[0;36m__call__\u001b[0;34m(self, body, ratio, min_length, max_length, use_first, algorithm, num_sentences, return_as_list)\u001b[0m\n\u001b[1;32m    233\u001b[0m         \"\"\"\n\u001b[1;32m    234\u001b[0m         return self.run(body, ratio, min_length, max_length,\n\u001b[0;32m--> 235\u001b[0;31m                         use_first, algorithm, num_sentences, return_as_list)\n\u001b[0m\u001b[1;32m    236\u001b[0m \u001b[0;34m\u001b[0m\u001b[0m\n",
      "\u001b[0;32m~/anaconda3/envs/bike-ramp/lib/python3.7/site-packages/summarizer/summary_processor.py\u001b[0m in \u001b[0;36mrun\u001b[0;34m(self, body, ratio, min_length, max_length, use_first, algorithm, num_sentences, return_as_list)\u001b[0m\n\u001b[1;32m    200\u001b[0m \u001b[0;34m\u001b[0m\u001b[0m\n\u001b[1;32m    201\u001b[0m         \u001b[0;32mif\u001b[0m \u001b[0msentences\u001b[0m\u001b[0;34m:\u001b[0m\u001b[0;34m\u001b[0m\u001b[0;34m\u001b[0m\u001b[0m\n\u001b[0;32m--> 202\u001b[0;31m             \u001b[0msentences\u001b[0m\u001b[0;34m,\u001b[0m \u001b[0m_\u001b[0m \u001b[0;34m=\u001b[0m \u001b[0mself\u001b[0m\u001b[0;34m.\u001b[0m\u001b[0mcluster_runner\u001b[0m\u001b[0;34m(\u001b[0m\u001b[0msentences\u001b[0m\u001b[0;34m,\u001b[0m \u001b[0mratio\u001b[0m\u001b[0;34m,\u001b[0m \u001b[0malgorithm\u001b[0m\u001b[0;34m,\u001b[0m \u001b[0muse_first\u001b[0m\u001b[0;34m,\u001b[0m \u001b[0mnum_sentences\u001b[0m\u001b[0;34m)\u001b[0m\u001b[0;34m\u001b[0m\u001b[0;34m\u001b[0m\u001b[0m\n\u001b[0m\u001b[1;32m    203\u001b[0m \u001b[0;34m\u001b[0m\u001b[0m\n\u001b[1;32m    204\u001b[0m         \u001b[0;32mif\u001b[0m \u001b[0mreturn_as_list\u001b[0m\u001b[0;34m:\u001b[0m\u001b[0;34m\u001b[0m\u001b[0;34m\u001b[0m\u001b[0m\n",
      "\u001b[0;32m~/anaconda3/envs/bike-ramp/lib/python3.7/site-packages/summarizer/summary_processor.py\u001b[0m in \u001b[0;36mcluster_runner\u001b[0;34m(self, sentences, ratio, algorithm, use_first, num_sentences)\u001b[0m\n\u001b[1;32m    106\u001b[0m         \"\"\"\n\u001b[1;32m    107\u001b[0m         \u001b[0mfirst_embedding\u001b[0m \u001b[0;34m=\u001b[0m \u001b[0;32mNone\u001b[0m\u001b[0;34m\u001b[0m\u001b[0;34m\u001b[0m\u001b[0m\n\u001b[0;32m--> 108\u001b[0;31m         \u001b[0mhidden\u001b[0m \u001b[0;34m=\u001b[0m \u001b[0mself\u001b[0m\u001b[0;34m.\u001b[0m\u001b[0mmodel\u001b[0m\u001b[0;34m(\u001b[0m\u001b[0msentences\u001b[0m\u001b[0;34m)\u001b[0m\u001b[0;34m\u001b[0m\u001b[0;34m\u001b[0m\u001b[0m\n\u001b[0m\u001b[1;32m    109\u001b[0m \u001b[0;34m\u001b[0m\u001b[0m\n\u001b[1;32m    110\u001b[0m         \u001b[0;32mif\u001b[0m \u001b[0muse_first\u001b[0m\u001b[0;34m:\u001b[0m\u001b[0;34m\u001b[0m\u001b[0;34m\u001b[0m\u001b[0m\n",
      "\u001b[0;32m~/anaconda3/envs/bike-ramp/lib/python3.7/site-packages/summarizer/transformer_embeddings/bert_embedding.py\u001b[0m in \u001b[0;36m__call__\u001b[0;34m(self, content, hidden, reduce_option, hidden_concat)\u001b[0m\n\u001b[1;32m    171\u001b[0m         \u001b[0;34m:\u001b[0m\u001b[0;32mreturn\u001b[0m\u001b[0;34m:\u001b[0m \u001b[0mA\u001b[0m \u001b[0mnumpy\u001b[0m \u001b[0marray\u001b[0m \u001b[0mmatrix\u001b[0m \u001b[0mof\u001b[0m \u001b[0mthe\u001b[0m \u001b[0mgiven\u001b[0m \u001b[0mcontent\u001b[0m\u001b[0;34m.\u001b[0m\u001b[0;34m\u001b[0m\u001b[0;34m\u001b[0m\u001b[0m\n\u001b[1;32m    172\u001b[0m         \"\"\"\n\u001b[0;32m--> 173\u001b[0;31m         \u001b[0;32mreturn\u001b[0m \u001b[0mself\u001b[0m\u001b[0;34m.\u001b[0m\u001b[0mcreate_matrix\u001b[0m\u001b[0;34m(\u001b[0m\u001b[0mcontent\u001b[0m\u001b[0;34m,\u001b[0m \u001b[0mhidden\u001b[0m\u001b[0;34m,\u001b[0m \u001b[0mreduce_option\u001b[0m\u001b[0;34m,\u001b[0m \u001b[0mhidden_concat\u001b[0m\u001b[0;34m)\u001b[0m\u001b[0;34m\u001b[0m\u001b[0;34m\u001b[0m\u001b[0m\n\u001b[0m",
      "\u001b[0;32m~/anaconda3/envs/bike-ramp/lib/python3.7/site-packages/summarizer/transformer_embeddings/bert_embedding.py\u001b[0m in \u001b[0;36mcreate_matrix\u001b[0;34m(self, content, hidden, reduce_option, hidden_concat)\u001b[0m\n\u001b[1;32m    152\u001b[0m             np.squeeze(self.extract_embeddings(\n\u001b[1;32m    153\u001b[0m                 \u001b[0mt\u001b[0m\u001b[0;34m,\u001b[0m \u001b[0mhidden\u001b[0m\u001b[0;34m=\u001b[0m\u001b[0mhidden\u001b[0m\u001b[0;34m,\u001b[0m \u001b[0mreduce_option\u001b[0m\u001b[0;34m=\u001b[0m\u001b[0mreduce_option\u001b[0m\u001b[0;34m,\u001b[0m \u001b[0mhidden_concat\u001b[0m\u001b[0;34m=\u001b[0m\u001b[0mhidden_concat\u001b[0m\u001b[0;34m\u001b[0m\u001b[0;34m\u001b[0m\u001b[0m\n\u001b[0;32m--> 154\u001b[0;31m             ).data.cpu().numpy()) for t in content\n\u001b[0m\u001b[1;32m    155\u001b[0m         ])\n\u001b[1;32m    156\u001b[0m \u001b[0;34m\u001b[0m\u001b[0m\n",
      "\u001b[0;32m~/anaconda3/envs/bike-ramp/lib/python3.7/site-packages/summarizer/transformer_embeddings/bert_embedding.py\u001b[0m in \u001b[0;36m<listcomp>\u001b[0;34m(.0)\u001b[0m\n\u001b[1;32m    152\u001b[0m             np.squeeze(self.extract_embeddings(\n\u001b[1;32m    153\u001b[0m                 \u001b[0mt\u001b[0m\u001b[0;34m,\u001b[0m \u001b[0mhidden\u001b[0m\u001b[0;34m=\u001b[0m\u001b[0mhidden\u001b[0m\u001b[0;34m,\u001b[0m \u001b[0mreduce_option\u001b[0m\u001b[0;34m=\u001b[0m\u001b[0mreduce_option\u001b[0m\u001b[0;34m,\u001b[0m \u001b[0mhidden_concat\u001b[0m\u001b[0;34m=\u001b[0m\u001b[0mhidden_concat\u001b[0m\u001b[0;34m\u001b[0m\u001b[0;34m\u001b[0m\u001b[0m\n\u001b[0;32m--> 154\u001b[0;31m             ).data.cpu().numpy()) for t in content\n\u001b[0m\u001b[1;32m    155\u001b[0m         ])\n\u001b[1;32m    156\u001b[0m \u001b[0;34m\u001b[0m\u001b[0m\n",
      "\u001b[0;32m~/anaconda3/envs/bike-ramp/lib/python3.7/site-packages/summarizer/transformer_embeddings/bert_embedding.py\u001b[0m in \u001b[0;36mextract_embeddings\u001b[0;34m(self, text, hidden, reduce_option, hidden_concat)\u001b[0m\n\u001b[1;32m    106\u001b[0m         \"\"\"\n\u001b[1;32m    107\u001b[0m         \u001b[0mtokens_tensor\u001b[0m \u001b[0;34m=\u001b[0m \u001b[0mself\u001b[0m\u001b[0;34m.\u001b[0m\u001b[0mtokenize_input\u001b[0m\u001b[0;34m(\u001b[0m\u001b[0mtext\u001b[0m\u001b[0;34m)\u001b[0m\u001b[0;34m\u001b[0m\u001b[0;34m\u001b[0m\u001b[0m\n\u001b[0;32m--> 108\u001b[0;31m         \u001b[0mpooled\u001b[0m\u001b[0;34m,\u001b[0m \u001b[0mhidden_states\u001b[0m \u001b[0;34m=\u001b[0m \u001b[0mself\u001b[0m\u001b[0;34m.\u001b[0m\u001b[0mmodel\u001b[0m\u001b[0;34m(\u001b[0m\u001b[0mtokens_tensor\u001b[0m\u001b[0;34m)\u001b[0m\u001b[0;34m[\u001b[0m\u001b[0;34m-\u001b[0m\u001b[0;36m2\u001b[0m\u001b[0;34m:\u001b[0m\u001b[0;34m]\u001b[0m\u001b[0;34m\u001b[0m\u001b[0;34m\u001b[0m\u001b[0m\n\u001b[0m\u001b[1;32m    109\u001b[0m \u001b[0;34m\u001b[0m\u001b[0m\n\u001b[1;32m    110\u001b[0m         \u001b[0;31m# deprecated temporary keyword functions.\u001b[0m\u001b[0;34m\u001b[0m\u001b[0;34m\u001b[0m\u001b[0;34m\u001b[0m\u001b[0m\n",
      "\u001b[0;32m~/anaconda3/envs/bike-ramp/lib/python3.7/site-packages/torch/nn/modules/module.py\u001b[0m in \u001b[0;36m_call_impl\u001b[0;34m(self, *input, **kwargs)\u001b[0m\n\u001b[1;32m   1108\u001b[0m         if not (self._backward_hooks or self._forward_hooks or self._forward_pre_hooks or _global_backward_hooks\n\u001b[1;32m   1109\u001b[0m                 or _global_forward_hooks or _global_forward_pre_hooks):\n\u001b[0;32m-> 1110\u001b[0;31m             \u001b[0;32mreturn\u001b[0m \u001b[0mforward_call\u001b[0m\u001b[0;34m(\u001b[0m\u001b[0;34m*\u001b[0m\u001b[0minput\u001b[0m\u001b[0;34m,\u001b[0m \u001b[0;34m**\u001b[0m\u001b[0mkwargs\u001b[0m\u001b[0;34m)\u001b[0m\u001b[0;34m\u001b[0m\u001b[0;34m\u001b[0m\u001b[0m\n\u001b[0m\u001b[1;32m   1111\u001b[0m         \u001b[0;31m# Do not call functions when jit is used\u001b[0m\u001b[0;34m\u001b[0m\u001b[0;34m\u001b[0m\u001b[0;34m\u001b[0m\u001b[0m\n\u001b[1;32m   1112\u001b[0m         \u001b[0mfull_backward_hooks\u001b[0m\u001b[0;34m,\u001b[0m \u001b[0mnon_full_backward_hooks\u001b[0m \u001b[0;34m=\u001b[0m \u001b[0;34m[\u001b[0m\u001b[0;34m]\u001b[0m\u001b[0;34m,\u001b[0m \u001b[0;34m[\u001b[0m\u001b[0;34m]\u001b[0m\u001b[0;34m\u001b[0m\u001b[0;34m\u001b[0m\u001b[0m\n",
      "\u001b[0;32m~/anaconda3/envs/bike-ramp/lib/python3.7/site-packages/transformers/models/gpt2/modeling_gpt2.py\u001b[0m in \u001b[0;36mforward\u001b[0;34m(self, input_ids, past_key_values, attention_mask, token_type_ids, position_ids, head_mask, inputs_embeds, encoder_hidden_states, encoder_attention_mask, use_cache, output_attentions, output_hidden_states, return_dict)\u001b[0m\n\u001b[1;32m    804\u001b[0m                     \u001b[0mencoder_attention_mask\u001b[0m\u001b[0;34m=\u001b[0m\u001b[0mencoder_attention_mask\u001b[0m\u001b[0;34m,\u001b[0m\u001b[0;34m\u001b[0m\u001b[0;34m\u001b[0m\u001b[0m\n\u001b[1;32m    805\u001b[0m                     \u001b[0muse_cache\u001b[0m\u001b[0;34m=\u001b[0m\u001b[0muse_cache\u001b[0m\u001b[0;34m,\u001b[0m\u001b[0;34m\u001b[0m\u001b[0;34m\u001b[0m\u001b[0m\n\u001b[0;32m--> 806\u001b[0;31m                     \u001b[0moutput_attentions\u001b[0m\u001b[0;34m=\u001b[0m\u001b[0moutput_attentions\u001b[0m\u001b[0;34m,\u001b[0m\u001b[0;34m\u001b[0m\u001b[0;34m\u001b[0m\u001b[0m\n\u001b[0m\u001b[1;32m    807\u001b[0m                 )\n\u001b[1;32m    808\u001b[0m \u001b[0;34m\u001b[0m\u001b[0m\n",
      "\u001b[0;32m~/anaconda3/envs/bike-ramp/lib/python3.7/site-packages/torch/nn/modules/module.py\u001b[0m in \u001b[0;36m_call_impl\u001b[0;34m(self, *input, **kwargs)\u001b[0m\n\u001b[1;32m   1108\u001b[0m         if not (self._backward_hooks or self._forward_hooks or self._forward_pre_hooks or _global_backward_hooks\n\u001b[1;32m   1109\u001b[0m                 or _global_forward_hooks or _global_forward_pre_hooks):\n\u001b[0;32m-> 1110\u001b[0;31m             \u001b[0;32mreturn\u001b[0m \u001b[0mforward_call\u001b[0m\u001b[0;34m(\u001b[0m\u001b[0;34m*\u001b[0m\u001b[0minput\u001b[0m\u001b[0;34m,\u001b[0m \u001b[0;34m**\u001b[0m\u001b[0mkwargs\u001b[0m\u001b[0;34m)\u001b[0m\u001b[0;34m\u001b[0m\u001b[0;34m\u001b[0m\u001b[0m\n\u001b[0m\u001b[1;32m   1111\u001b[0m         \u001b[0;31m# Do not call functions when jit is used\u001b[0m\u001b[0;34m\u001b[0m\u001b[0;34m\u001b[0m\u001b[0;34m\u001b[0m\u001b[0m\n\u001b[1;32m   1112\u001b[0m         \u001b[0mfull_backward_hooks\u001b[0m\u001b[0;34m,\u001b[0m \u001b[0mnon_full_backward_hooks\u001b[0m \u001b[0;34m=\u001b[0m \u001b[0;34m[\u001b[0m\u001b[0;34m]\u001b[0m\u001b[0;34m,\u001b[0m \u001b[0;34m[\u001b[0m\u001b[0;34m]\u001b[0m\u001b[0;34m\u001b[0m\u001b[0;34m\u001b[0m\u001b[0m\n",
      "\u001b[0;32m~/anaconda3/envs/bike-ramp/lib/python3.7/site-packages/transformers/models/gpt2/modeling_gpt2.py\u001b[0m in \u001b[0;36mforward\u001b[0;34m(self, hidden_states, layer_past, attention_mask, head_mask, encoder_hidden_states, encoder_attention_mask, use_cache, output_attentions)\u001b[0m\n\u001b[1;32m    353\u001b[0m         \u001b[0mresidual\u001b[0m \u001b[0;34m=\u001b[0m \u001b[0mhidden_states\u001b[0m\u001b[0;34m\u001b[0m\u001b[0;34m\u001b[0m\u001b[0m\n\u001b[1;32m    354\u001b[0m         \u001b[0mhidden_states\u001b[0m \u001b[0;34m=\u001b[0m \u001b[0mself\u001b[0m\u001b[0;34m.\u001b[0m\u001b[0mln_2\u001b[0m\u001b[0;34m(\u001b[0m\u001b[0mhidden_states\u001b[0m\u001b[0;34m)\u001b[0m\u001b[0;34m\u001b[0m\u001b[0;34m\u001b[0m\u001b[0m\n\u001b[0;32m--> 355\u001b[0;31m         \u001b[0mfeed_forward_hidden_states\u001b[0m \u001b[0;34m=\u001b[0m \u001b[0mself\u001b[0m\u001b[0;34m.\u001b[0m\u001b[0mmlp\u001b[0m\u001b[0;34m(\u001b[0m\u001b[0mhidden_states\u001b[0m\u001b[0;34m)\u001b[0m\u001b[0;34m\u001b[0m\u001b[0;34m\u001b[0m\u001b[0m\n\u001b[0m\u001b[1;32m    356\u001b[0m         \u001b[0;31m# residual connection\u001b[0m\u001b[0;34m\u001b[0m\u001b[0;34m\u001b[0m\u001b[0;34m\u001b[0m\u001b[0m\n\u001b[1;32m    357\u001b[0m         \u001b[0mhidden_states\u001b[0m \u001b[0;34m=\u001b[0m \u001b[0mresidual\u001b[0m \u001b[0;34m+\u001b[0m \u001b[0mfeed_forward_hidden_states\u001b[0m\u001b[0;34m\u001b[0m\u001b[0;34m\u001b[0m\u001b[0m\n",
      "\u001b[0;32m~/anaconda3/envs/bike-ramp/lib/python3.7/site-packages/torch/nn/modules/module.py\u001b[0m in \u001b[0;36m_call_impl\u001b[0;34m(self, *input, **kwargs)\u001b[0m\n\u001b[1;32m   1108\u001b[0m         if not (self._backward_hooks or self._forward_hooks or self._forward_pre_hooks or _global_backward_hooks\n\u001b[1;32m   1109\u001b[0m                 or _global_forward_hooks or _global_forward_pre_hooks):\n\u001b[0;32m-> 1110\u001b[0;31m             \u001b[0;32mreturn\u001b[0m \u001b[0mforward_call\u001b[0m\u001b[0;34m(\u001b[0m\u001b[0;34m*\u001b[0m\u001b[0minput\u001b[0m\u001b[0;34m,\u001b[0m \u001b[0;34m**\u001b[0m\u001b[0mkwargs\u001b[0m\u001b[0;34m)\u001b[0m\u001b[0;34m\u001b[0m\u001b[0;34m\u001b[0m\u001b[0m\n\u001b[0m\u001b[1;32m   1111\u001b[0m         \u001b[0;31m# Do not call functions when jit is used\u001b[0m\u001b[0;34m\u001b[0m\u001b[0;34m\u001b[0m\u001b[0;34m\u001b[0m\u001b[0m\n\u001b[1;32m   1112\u001b[0m         \u001b[0mfull_backward_hooks\u001b[0m\u001b[0;34m,\u001b[0m \u001b[0mnon_full_backward_hooks\u001b[0m \u001b[0;34m=\u001b[0m \u001b[0;34m[\u001b[0m\u001b[0;34m]\u001b[0m\u001b[0;34m,\u001b[0m \u001b[0;34m[\u001b[0m\u001b[0;34m]\u001b[0m\u001b[0;34m\u001b[0m\u001b[0;34m\u001b[0m\u001b[0m\n",
      "\u001b[0;32m~/anaconda3/envs/bike-ramp/lib/python3.7/site-packages/transformers/models/gpt2/modeling_gpt2.py\u001b[0m in \u001b[0;36mforward\u001b[0;34m(self, hidden_states)\u001b[0m\n\u001b[1;32m    282\u001b[0m         \u001b[0mhidden_states\u001b[0m \u001b[0;34m=\u001b[0m \u001b[0mself\u001b[0m\u001b[0;34m.\u001b[0m\u001b[0mc_fc\u001b[0m\u001b[0;34m(\u001b[0m\u001b[0mhidden_states\u001b[0m\u001b[0;34m)\u001b[0m\u001b[0;34m\u001b[0m\u001b[0;34m\u001b[0m\u001b[0m\n\u001b[1;32m    283\u001b[0m         \u001b[0mhidden_states\u001b[0m \u001b[0;34m=\u001b[0m \u001b[0mself\u001b[0m\u001b[0;34m.\u001b[0m\u001b[0mact\u001b[0m\u001b[0;34m(\u001b[0m\u001b[0mhidden_states\u001b[0m\u001b[0;34m)\u001b[0m\u001b[0;34m\u001b[0m\u001b[0;34m\u001b[0m\u001b[0m\n\u001b[0;32m--> 284\u001b[0;31m         \u001b[0mhidden_states\u001b[0m \u001b[0;34m=\u001b[0m \u001b[0mself\u001b[0m\u001b[0;34m.\u001b[0m\u001b[0mc_proj\u001b[0m\u001b[0;34m(\u001b[0m\u001b[0mhidden_states\u001b[0m\u001b[0;34m)\u001b[0m\u001b[0;34m\u001b[0m\u001b[0;34m\u001b[0m\u001b[0m\n\u001b[0m\u001b[1;32m    285\u001b[0m         \u001b[0mhidden_states\u001b[0m \u001b[0;34m=\u001b[0m \u001b[0mself\u001b[0m\u001b[0;34m.\u001b[0m\u001b[0mdropout\u001b[0m\u001b[0;34m(\u001b[0m\u001b[0mhidden_states\u001b[0m\u001b[0;34m)\u001b[0m\u001b[0;34m\u001b[0m\u001b[0;34m\u001b[0m\u001b[0m\n\u001b[1;32m    286\u001b[0m         \u001b[0;32mreturn\u001b[0m \u001b[0mhidden_states\u001b[0m\u001b[0;34m\u001b[0m\u001b[0;34m\u001b[0m\u001b[0m\n",
      "\u001b[0;32m~/anaconda3/envs/bike-ramp/lib/python3.7/site-packages/torch/nn/modules/module.py\u001b[0m in \u001b[0;36m_call_impl\u001b[0;34m(self, *input, **kwargs)\u001b[0m\n\u001b[1;32m   1108\u001b[0m         if not (self._backward_hooks or self._forward_hooks or self._forward_pre_hooks or _global_backward_hooks\n\u001b[1;32m   1109\u001b[0m                 or _global_forward_hooks or _global_forward_pre_hooks):\n\u001b[0;32m-> 1110\u001b[0;31m             \u001b[0;32mreturn\u001b[0m \u001b[0mforward_call\u001b[0m\u001b[0;34m(\u001b[0m\u001b[0;34m*\u001b[0m\u001b[0minput\u001b[0m\u001b[0;34m,\u001b[0m \u001b[0;34m**\u001b[0m\u001b[0mkwargs\u001b[0m\u001b[0;34m)\u001b[0m\u001b[0;34m\u001b[0m\u001b[0;34m\u001b[0m\u001b[0m\n\u001b[0m\u001b[1;32m   1111\u001b[0m         \u001b[0;31m# Do not call functions when jit is used\u001b[0m\u001b[0;34m\u001b[0m\u001b[0;34m\u001b[0m\u001b[0;34m\u001b[0m\u001b[0m\n\u001b[1;32m   1112\u001b[0m         \u001b[0mfull_backward_hooks\u001b[0m\u001b[0;34m,\u001b[0m \u001b[0mnon_full_backward_hooks\u001b[0m \u001b[0;34m=\u001b[0m \u001b[0;34m[\u001b[0m\u001b[0;34m]\u001b[0m\u001b[0;34m,\u001b[0m \u001b[0;34m[\u001b[0m\u001b[0;34m]\u001b[0m\u001b[0;34m\u001b[0m\u001b[0;34m\u001b[0m\u001b[0m\n",
      "\u001b[0;32m~/anaconda3/envs/bike-ramp/lib/python3.7/site-packages/transformers/modeling_utils.py\u001b[0m in \u001b[0;36mforward\u001b[0;34m(self, x)\u001b[0m\n\u001b[1;32m   1729\u001b[0m     \u001b[0;32mdef\u001b[0m \u001b[0mforward\u001b[0m\u001b[0;34m(\u001b[0m\u001b[0mself\u001b[0m\u001b[0;34m,\u001b[0m \u001b[0mx\u001b[0m\u001b[0;34m)\u001b[0m\u001b[0;34m:\u001b[0m\u001b[0;34m\u001b[0m\u001b[0;34m\u001b[0m\u001b[0m\n\u001b[1;32m   1730\u001b[0m         \u001b[0msize_out\u001b[0m \u001b[0;34m=\u001b[0m \u001b[0mx\u001b[0m\u001b[0;34m.\u001b[0m\u001b[0msize\u001b[0m\u001b[0;34m(\u001b[0m\u001b[0;34m)\u001b[0m\u001b[0;34m[\u001b[0m\u001b[0;34m:\u001b[0m\u001b[0;34m-\u001b[0m\u001b[0;36m1\u001b[0m\u001b[0;34m]\u001b[0m \u001b[0;34m+\u001b[0m \u001b[0;34m(\u001b[0m\u001b[0mself\u001b[0m\u001b[0;34m.\u001b[0m\u001b[0mnf\u001b[0m\u001b[0;34m,\u001b[0m\u001b[0;34m)\u001b[0m\u001b[0;34m\u001b[0m\u001b[0;34m\u001b[0m\u001b[0m\n\u001b[0;32m-> 1731\u001b[0;31m         \u001b[0mx\u001b[0m \u001b[0;34m=\u001b[0m \u001b[0mtorch\u001b[0m\u001b[0;34m.\u001b[0m\u001b[0maddmm\u001b[0m\u001b[0;34m(\u001b[0m\u001b[0mself\u001b[0m\u001b[0;34m.\u001b[0m\u001b[0mbias\u001b[0m\u001b[0;34m,\u001b[0m \u001b[0mx\u001b[0m\u001b[0;34m.\u001b[0m\u001b[0mview\u001b[0m\u001b[0;34m(\u001b[0m\u001b[0;34m-\u001b[0m\u001b[0;36m1\u001b[0m\u001b[0;34m,\u001b[0m \u001b[0mx\u001b[0m\u001b[0;34m.\u001b[0m\u001b[0msize\u001b[0m\u001b[0;34m(\u001b[0m\u001b[0;34m-\u001b[0m\u001b[0;36m1\u001b[0m\u001b[0;34m)\u001b[0m\u001b[0;34m)\u001b[0m\u001b[0;34m,\u001b[0m \u001b[0mself\u001b[0m\u001b[0;34m.\u001b[0m\u001b[0mweight\u001b[0m\u001b[0;34m)\u001b[0m\u001b[0;34m\u001b[0m\u001b[0;34m\u001b[0m\u001b[0m\n\u001b[0m\u001b[1;32m   1732\u001b[0m         \u001b[0mx\u001b[0m \u001b[0;34m=\u001b[0m \u001b[0mx\u001b[0m\u001b[0;34m.\u001b[0m\u001b[0mview\u001b[0m\u001b[0;34m(\u001b[0m\u001b[0;34m*\u001b[0m\u001b[0msize_out\u001b[0m\u001b[0;34m)\u001b[0m\u001b[0;34m\u001b[0m\u001b[0;34m\u001b[0m\u001b[0m\n\u001b[1;32m   1733\u001b[0m         \u001b[0;32mreturn\u001b[0m \u001b[0mx\u001b[0m\u001b[0;34m\u001b[0m\u001b[0;34m\u001b[0m\u001b[0m\n",
      "\u001b[0;31mKeyboardInterrupt\u001b[0m: "
     ]
    }
   ],
   "source": [
    "summary_data = summarization(data)"
   ]
  },
  {
   "cell_type": "code",
   "execution_count": 51,
   "metadata": {},
   "outputs": [
    {
     "data": {
      "text/plain": [
       "['  A case for rapid euro adoption?   Introduction for panel discussion, by Gertrude Tumpel-Gugerell, Member of the Executive Board of the ECB, OeNB Conference on European Economic Integration, on ‘The Euro’s Contribution to Economic Stability in CESEE’, Vienna, 16 November 2009 Ladies and gentlemen, [1]  It is a pleasure to be at this conference among such distinguished panellists to speak about the European economic integration and the adoption of the euro. For us at the ECB, the topic of the optimal timing of euro adoption for the EU countries in Central and Eastern Europe (CEE) that have not yet done so is very important. According to the Maastricht Treaty, all EU countries are called upon adopting the euro at some stage. So it’s not a question of if, but rather on when to join.  However, to ensure that the monetary union is working smoothly, it is essential – and the Maastricht Treaty has foreseen this - that the countries joining the euro area have achieved a sufficient degree of sustainable convergence. This is first of all in the interest of the country concerned. Moreover, sustainable convergence is a cornerstone of the European Monetary Union on which the success story of the euro is built. Since its introduction back in 1999, the euro has become one of the major currencies of the world. The low inflation environment in the euro area can be largely attributed to the well anchored inflation expectations and the high credibility of the ECB’s monetary policy strategy to ensure price stability over the medium-term. During the global financial crisis, it became apparent that the euro has been an important shelter for the euro area countries to protect them against what otherwise may have resulted in an exchange rate and balance of payments crisis. This led to the widespread perception that the euro area is a safe haven.  Let me in the following speak about the economic situation in the CEE countries and their prospect on joining the euro.       The CEE countries have been strongly hit by the financial crisis    Following the bankruptcy of Lehman Brothers, the CEE countries have been strongly hit by the global financial crisis, although at varying degrees across countries [ slide 1]. Due to the slump in global activity, heightened risk aversion by international investors and a de-leveraging by financial institutions, most CEE countries have seen a significant weakening of export demand and a substantial worsening of their external financing conditions [ slide 2]. It seems that financing difficulties have been particularly severe in those countries that had accumulated large imbalances during pre-crisis times and whose debt structure was characterised by significant currency and maturity mismatches. In some countries balance sheet effects associated with large exchange rate depreciations posed a risk to financial stability. The financial crisis reversed some of the impressive progress that the CEE countries had already made in terms of convergence. In the years preceding the crisis most CEE countries were growing rapidly. However, excessive credit growth, substantial wage increases and house price bubbles, contributed to the overheating of some of the economies. This in turn led to a widening of the positive output gap and a non-sustainable deterioration of the current account position [ slide 3] and [ slide 4]. Moreover, the overheating pressures in some countries translated into rising inflation and led to a real appreciation of their currencies, which in turn aggravated the external imbalances further.  To dampen the impact of the crisis, national authorities have adopted a number of policy measures, which however differed significantly across countries, depending on the room for manoeuvre to adopt supportive monetary and fiscal policies in the various countries.       Substantial EU and ECB support to weather the crisis    Also the international and European community provided substantial financial support to some countries in the region. The EU supported some CEE countries via the medium-term financial assistance (MTFA) facility, in conjunction with the IMF programmes. This MTFA facility was substantially increased during the crisis and also the EU structural funds have helped to cushion the impact of the crisis. Let me also emphasize the support from the ECB, contributing to the stabilisation of financial markets in the region. Many banks in the CEE countries are owned by euro area banks. Therefore, the CEE countries benefited strongly from the ECB’s enhanced credit support policy and the unlimited provision of liquidity to euro area banks. On top of this, the ECB has offered some of the national central banks repo lines to meet euro liquidity needs. Overall, we can say that European authorities and institutions have supported the CEE countries to weather the crisis.      Need to return to a sustainable convergence process     The financial crisis has clearly shown how important it is generally for any country in the EU to embark on policies aimed at sustainable growth paths. This includes sound economic policies, enhanced economic flexibility and the building-up of fiscal buffers in normal times. Also the regulatory framework for financial markets has to be adjusted at the national and supranational level such as to ensure economic and financial stability.  The need for such policies and the need for pursuing a regulatory reform agenda, certainly applies to all EU countries, not just the CEE countries. That said, there have been some proposals that a rapid euro adoption could help the CEE countries to overcome the impact of the crisis more quickly. On this, let me stress that policies to overcome the financial crisis and the adoption of the euro are two distinct issues that need to be clearly separated.  On the one hand, policies to overcome the crisis - such as large fiscal measures - were clearly needed and have been put in place in all EU countries. Now that the worst of the financial crisis seems to be over, we have to return to sustainable policies and must advance with the regulatory reform agenda as spelled out by the G20. On the other hand, the financial crisis has not changed anything with respect to the procedure governing the euro adoption process. Before joining the euro area, countries need to ensure that the right accompanying policies are implemented and that the structure of their economies ensures a high shock absorption capacity. In particular, the economies need to be sufficiently flexible to cope with the more limited range of economic policy instruments once they enter the euro area. While the CEE countries have already made good progress in this respect before the crisis, further efforts are needed. The financial crisis has hit the CEE countries in a severe way and, therefore, required a forceful policy response. Once the crisis is over, a return to sustainable policies is absolutely essential for the further convergence process. A sufficient degree of sustainable convergence is crucial for the CEE countries, to be able to reap the full benefits of euro area membership. Otherwise, the single monetary policy of the euro area might not be suitable, thereby bearing the risk of boom-bust cycles and high inflation volatility in the country concerned.  All this underlines the importance of a credible euro adoption strategy. I should emphasize that entering the euro area prematurely, - that is before reaching a sufficient degree of convergence and economic flexibility - would not be a panacea for the CEE countries to overcome the crisis impact. On the contrary, a premature entry into the euro area would deprive the countries from important adjustment tools and would therefore not be in the interest of the country joining.       A credible euro adoption strategy is important    A credible euro adoption strategy helps stabilising the economies, as it provides an important anchor for policymakers. As already mentioned before, a credible strategy requires in particular responsible macroeconomic policies and advancements in structural reforms.  One essential element of the countries’ euro adoption strategies relates to the credibility of timetables. At the time of EU accession most countries had announced to join the euro area as soon as possible. We all know that this was based on assumptions at the time of the accession. The recent financial crisis has impacted the convergence progress and has moved the euro adoption further into the future. Therefore, individual countries’ timetables have to be carefully looked at and adjustments may be necessary.  Let me emphasise that an overly ambitious timetable for adopting the euro can be rather costly for the country concerned. This may encourage market participants to pursue strategies which may prove to be risky if the timetable turns out not to be achievable. We observed this in some CEE countries, which for example allowed the emergence of unsustainable credit growth and a large share of loans denominated in euro.      A look beyond the EU borders    The financial crisis also took its toll outside EU borders. Many non-EU emerging European economies, including EU candidate and potential candidate countries, recorded a strong fall in external and domestic demand, amid mounting concerns over financial stability and increased uncertainty about the availability of external financing. While policymakers in these countries currently focus rather on the entry into the EU and not on euro adoption, the need for sustainable convergence is still high on their agenda. Overall, non-EU emerging European economies are in the early stages of catching-up in income levels with those of the EU. Ensuring a smooth process of real and nominal convergence is therefore a key priority in the region. Moreover, the risks of boom-bust cycles in credit or asset prices have been amply illustrated by the recent developments, whereby countries with sounder fundamentals were generally less affected by the crisis. Rapid and determined international policy actions, including support from European institutions via Macro-Financial Assistance (MFA) and Instrument for Pre-Accession Assistance (IPA) funds have contributed to bringing confidence back. [ slide 5] Moreover, I have to mention an issue of relevance for some economies in the region, namely the official, unilateral use of the euro. As you all know, unilateral euroisation is not in line with the provisions of the Treaty. And as the recent intensive financial pressures experienced by the unilaterally euroised economies (in particular Montenegro) have also illustrated, the unilateral adoption of the euro is not the magic tool that automatically provides protection against the impact of external shocks.      Concluding remarks    Let me conclude my remarks. The CEE countries have already made significant progress with respect to their catching-up with the euro area. However, some of the countries have been severely hit by the financial crisis. This clearly has an impact on the state of the convergence process of the CEE countries and has potentially moved euro adoption further into the future. The timetables of the euro adoption have to be carefully assessed, given particularly the large uncertainties that are associated with the current economic and financial situation. One thing, however, needs to be very clear. The financial crisis has not changed our policy for adopting the euro. Therefore, to prematurely adopt the euro, in particular if not accompanied by a sufficient degree of sustainable convergence, is certainly not a solution to overcome the impact of the crisis. Only a credible euro adoption strategy helps stabilising the economies, also with respect to the crisis impact. Achieving sustainable convergence can be seen as an important anchor and an opportunity for the CEE countries to adopt economic policies that will eventually lead to the successful adoption of the euro, hopefully not in the too distant future.      [1] I would like to thank Carolin Nerlich and Eva Katalin Polgar for their valuable input to the preparation of this intervention.       SEE ALSO  Find out more about related content   Annex    ']"
      ]
     },
     "execution_count": 51,
     "metadata": {},
     "output_type": "execute_result"
    }
   ],
   "source": [
    "data[0]['speech'][-1]['FED']"
   ]
  },
  {
   "cell_type": "code",
   "execution_count": 52,
   "metadata": {},
   "outputs": [
    {
     "data": {
      "text/plain": [
       "[' ']"
      ]
     },
     "execution_count": 52,
     "metadata": {},
     "output_type": "execute_result"
    }
   ],
   "source": [
    "summary_data[0]['speech'][-1]['FED']"
   ]
  },
  {
   "cell_type": "markdown",
   "metadata": {},
   "source": [
    "## After Summarization"
   ]
  },
  {
   "cell_type": "code",
   "execution_count": 31,
   "metadata": {},
   "outputs": [],
   "source": [
    "with open('summary_text.json', 'r') as fp:\n",
    "        data_sum = json.load(fp)"
   ]
  },
  {
   "cell_type": "code",
   "execution_count": 32,
   "metadata": {},
   "outputs": [],
   "source": [
    "data_sum = json.loads(data_sum)"
   ]
  },
  {
   "cell_type": "code",
   "execution_count": 33,
   "metadata": {},
   "outputs": [
    {
     "data": {
      "text/plain": [
       "{'speech': [{'ECB': [], 'FED': []},\n",
       "  {'ECB': [], 'FED': []},\n",
       "  {'ECB': [], 'FED': []},\n",
       "  {'ECB': [], 'FED': []},\n",
       "  {'ECB': [], 'FED': []},\n",
       "  {'ECB': ['While we may well make changes in some aspects of the guidance based on comments we receive, it is critical that the incentives created by compensation arrangements be reviewed and adjusted to ensure the safe and sound operation of financial firms. We will have to build on the principles we have set forth and we may, over time, identify standards that should be universally applied to certain classes of employees. We will also have an ongoing coordination process for developing and clarifying guidance for the non-LCBO institutions. This concern exists at the international, as well as national, level, which is one of the reasons why the Financial Stability Board has devoted so much attention to the issue in the past year. There is thus significant overlap between the interests of shareholders and of supervisors in the area of employee compensation.'],\n",
       "   'FED': []},\n",
       "  {'ECB': [], 'FED': []},\n",
       "  {'ECB': [], 'FED': []},\n",
       "  {'ECB': [], 'FED': []},\n",
       "  {'ECB': ['The fact that the euro area financial system is predominantly bank-based implies that the health of the banking sector plays a major role in determining the orderly functioning of economic activity and the maintenance of financial stability. Indeed, should a significant improvement in the outlook for economic activity not be accompanied by an adequate adjustment in the policy stance, the current monetary stance may become excessively accommodative, thereby giving rise to risks to price stability. Indeed, developing, communicating and eventually implementing in a timely manner a well-designed exit strategy is essential to preserve the contributions from the non-conventional policies to the maintenance of macroeconomic and financial stability. In the institutional set-up of European Monetary Union, this requires full compliance by national governments with the rules of the Stability and Growth Pact, a fundamental component of the policy framework for area-wide macroeconomic stability. Given the institutional policy of the ECB, the obvious point in time to tighten the policy stance is when, based on the analysis of the outlook for economic activity and inflation, there is evidence of emerging upside risks to price stability.'],\n",
       "   'FED': []},\n",
       "  {'ECB': [], 'FED': []},\n",
       "  {'ECB': [], 'FED': []},\n",
       "  {'ECB': 'Yet to gain traction are proposals for what might be termed structural measures--that is, steps that would directly affect the nature and organization of the financial services industry. Truthfully, though, there was no wholesale transformation of financial regulation to match the dramatic changes in the structure and activities of the financial industry. Too little attention was paid to the risks faced, and created, by the entire holding company, including affiliates principally involved in trading and other capital market activities. This weakness may be partially explained by the supervisory approach embedded in the Gramm-Leach-Bliley Act, with its emphasis on the functional supervision of affiliates in a holding company. This regulatory approach fostered a commercial banking system that was, for the better part of 40 years, quite stable and reasonably profitable, though not particularly innovative in meeting the needs of depositors and borrowers.',\n",
       "   'FED': '“Liquidity, monetary policy, and financial cycles”, Current Issues in Economics and Finance, Federal Reserve Bank of New York, January 2008. securities, with the aim of selling these new securities in financial markets. banknotes and coins, which are held by economic agents in the euro area and abroad, as well as by other central banks. What was necessary for this accumulation of reserves were large and persistent current account surpluses, i.e. Using this rather technical approach helps to distinguish the two phases of the financial crisis.'},\n",
       "  {'ECB': \"These plans will need to evolve as the organization's business and economic conditions evolve and will need to become a regular part of normal supervisory processes. The scope of financial institutions assessed for these purposes should be appropriately broad, reflective of the fact that a wide range of financial institutions likely would benefit, directly or indirectly, from actions that avoid or mitigate threats to financial stability. The living will requirement could be broadened so as to make it into a potentially very useful supervisory tool for healthy firms, as well as a resource in the event that resolution became necessary. The desirability of a third alternative is thus obvious--a special resolution process that would allow the government to wind down a systemically important firm in an orderly way. Second, they could allow the firm to fail and enter generally applicable bankruptcy processes.\",\n",
       "   'FED': 'The unconventional policy taken, for which we also coined the term “enhanced credit support”, consisted of four main types of measures:      Full allotment and increased maturity of the Eurosystem’s refinancing operations. The Eurosystem expanded in October 2008 its already broad list of eligible collateral, against which counterparties are able to obtain liquidity in central bank refinancing operations. Second, the composition of the Eurosystem balance sheet is affected by the covered bond purchase programme, whereby the purchases mainly imply a substitution effect, as they are likely to lead over time to a corresponding reduction of Eurosystem refinancing operations. Indeed, when widespread tensions severely impaired the functioning of the money market in early August 2007, the Eurosystem rapidly reacted by injecting €95 billion into the banking sector in an overnight operation, followed by various additional liquidity injecting operations. In April 2008, we conducted for the first time 6 month operations.'},\n",
       "  {'ECB': [], 'FED': []},\n",
       "  {'ECB': ['Therefore, it appears that in a post-crisis world, financial stability considerations will have to be taken into account to a greater extent in the conduct of monetary policy. And second, the regulatory framework that governs financial markets can have clear macroeconomic implications – as witnessed in the recent crisis – which may trigger a response with respect to monetary policy. At the same time, the regulatory framework may equally affect the transmission of monetary policy through its impact on the aggregate behaviour of the banking sector and, hence, also affect the effectiveness of monetary policy. In particular, we need to understand how systemic risk and policies put in place to mitigate it may affect the transmission of monetary policy. I will then describe what we know about the interaction between prudential regulation and supervision and monetary policy.'],\n",
       "   'FED': []},\n",
       "  {'ECB': [], 'FED': []},\n",
       "  {'ECB': [], 'FED': []},\n",
       "  {'ECB': [], 'FED': []},\n",
       "  {'ECB': 'With nearly $500 billion of CRE loans scheduled to mature annually over the next few years, the performance of this sector depends critically on the ability of borrowers to refinance many of those loans. With nearly $500 billion of CRE loans scheduled to mature annually over the next few years, the performance of this sector depends critically on the ability of borrowers to refinance many of those loans. Third, many securitization markets remain impaired, reducing an important source of funding for bank loans. Third, many securitization markets remain impaired, reducing an important source of funding for bank loans. The release of the assessment results in May increased investor confidence in the U.S. banking system.',\n",
       "   'FED': 'This MTFA facility was substantially increased during the crisis and also the EU structural funds have helped to cushion the impact of the crisis. Therefore, to prematurely adopt the euro, in particular if not accompanied by a sufficient degree of sustainable convergence, is certainly not a solution to overcome the impact of the crisis. Overall, we can say that European authorities and institutions have supported the CEE countries to weather the crisis. Moreover, the risks of boom-bust cycles in credit or asset prices have been amply illustrated by the recent developments, whereby countries with sounder fundamentals were generally less affected by the crisis. However, some of the countries have been severely hit by the financial crisis.'}],\n",
       " 'stock': [0.4968897402,\n",
       "  0.4017540812,\n",
       "  0.3178937435,\n",
       "  0.3312831819,\n",
       "  0.2699735463,\n",
       "  0.3291690648,\n",
       "  0.4729296565,\n",
       "  0.5116886497,\n",
       "  0.3940022588,\n",
       "  0.4080964327,\n",
       "  0.5603135228,\n",
       "  0.9112584591,\n",
       "  0.7407189608,\n",
       "  0.5025274158,\n",
       "  0.3925928473,\n",
       "  0.4609495997,\n",
       "  0.4630637169,\n",
       "  0.3961164057,\n",
       "  0.3968211114,\n",
       "  0.2995713055],\n",
       " 'target_classif': 0,\n",
       " 'target_reg': 0.4024587773}"
      ]
     },
     "execution_count": 33,
     "metadata": {},
     "output_type": "execute_result"
    }
   ],
   "source": [
    "data_sum[0]"
   ]
  },
  {
   "cell_type": "code",
   "execution_count": null,
   "metadata": {},
   "outputs": [],
   "source": []
  }
 ],
 "metadata": {
  "interpreter": {
   "hash": "b0fa6594d8f4cbf19f97940f81e996739fb7646882a419484c72d19e05852a7e"
  },
  "kernelspec": {
   "display_name": "Python 3.9.5 64-bit",
   "language": "python",
   "name": "python3"
  },
  "language_info": {
   "codemirror_mode": {
    "name": "ipython",
    "version": 3
   },
   "file_extension": ".py",
   "mimetype": "text/x-python",
   "name": "python",
   "nbconvert_exporter": "python",
   "pygments_lexer": "ipython3",
   "version": "3.7.11"
  },
  "orig_nbformat": 4
 },
 "nbformat": 4,
 "nbformat_minor": 2
}
