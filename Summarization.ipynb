{
 "cells": [
  {
   "cell_type": "markdown",
   "metadata": {},
   "source": [
    "## Summarization for all the speeches"
   ]
  },
  {
   "cell_type": "code",
   "execution_count": null,
   "metadata": {},
   "outputs": [],
   "source": [
    "from summarizer import Summarizer,TransformerSummarizer"
   ]
  },
  {
   "cell_type": "code",
   "execution_count": null,
   "metadata": {},
   "outputs": [],
   "source": [
    "GPT2_model = TransformerSummarizer(transformer_type=\"GPT2\",transformer_model_key=\"gpt2-medium\")"
   ]
  },
  {
   "cell_type": "code",
   "execution_count": null,
   "metadata": {},
   "outputs": [],
   "source": [
    "import json\n",
    "datapath = 'data/'\n",
    "train_split = 'train'\n",
    "index = 'EURUSDV1M_1w'\n",
    "\n",
    "with open(f'{datapath}/{train_split}/{index}.json', 'r') as fp:\n",
    "        data = json.load(fp)"
   ]
  },
  {
   "cell_type": "code",
   "execution_count": null,
   "metadata": {},
   "outputs": [],
   "source": [
    "def get_unique_list(data):\n",
    "    ECB = set()\n",
    "    FED = set()\n",
    "\n",
    "    for data_dict in data:\n",
    "        for s in data_dict['speech']:\n",
    "            if s['ECB']:\n",
    "                ECB.add(s['ECB'][0])\n",
    "            if s['FED']:\n",
    "                FED.add(s['FED'][0])\n",
    "    \n",
    "    ECB = list(ECB)\n",
    "    FED = list(FED)\n",
    "    return ECB, FED"
   ]
  },
  {
   "cell_type": "code",
   "execution_count": null,
   "metadata": {},
   "outputs": [],
   "source": [
    "new = GPT2_model(lt[0], min_length=60, num_sentences=5)\n",
    "new"
   ]
  },
  {
   "cell_type": "code",
   "execution_count": null,
   "metadata": {},
   "outputs": [],
   "source": [
    "import copy\n",
    "from tqdm import tqdm\n",
    "\n",
    "def summarization(data):\n",
    "    ECB, FED = get_unique_list(data)\n",
    "    summary_ECB = []\n",
    "    summary_FED = []\n",
    "     \n",
    "    for speech in tqdm(ECB):\n",
    "        summary = GPT2_model(speech, min_length=60, num_sentences=5)\n",
    "        summary_ECB.append(summary)\n",
    "    print(\"Finished summarizing the ECB list!\")\n",
    "\n",
    "    for speech in tqdm(FED):\n",
    "        summary = GPT2_model(speech, min_length=60, num_sentences=5)\n",
    "        summary_FED.append(summary)\n",
    "    print(\"Finished summarizing the FED list!\")\n",
    "\n",
    "    summary_data = copy.deepcopy(data)\n",
    "    for data_dict, new_dict in zip(data, summary_data):\n",
    "        for s, sm in zip(data_dict['speech'], new_dict['speech']):\n",
    "            if s['ECB']:\n",
    "                id = ECB.index(s['ECB'][0])\n",
    "                new_sum = summary_ECB[id]\n",
    "                sm['ECB'] = [new_sum]\n",
    "            if s['FED']:\n",
    "                id = FED.index(s['FED'][0])\n",
    "                new_sum = summary_FED[id]\n",
    "                sm['FED'] = [new_sum]\n",
    "    \n",
    "    return summary_data\n"
   ]
  },
  {
   "cell_type": "code",
   "execution_count": null,
   "metadata": {},
   "outputs": [],
   "source": [
    "summary_data = summarization(data)"
   ]
  },
  {
   "cell_type": "markdown",
   "metadata": {},
   "source": [
    "## After summarization"
   ]
  },
  {
   "cell_type": "code",
   "execution_count": 1,
   "metadata": {},
   "outputs": [
    {
     "ename": "ModuleNotFoundError",
     "evalue": "No module named 'pytorch_pretrained_bert'",
     "output_type": "error",
     "traceback": [
      "\u001b[0;31m---------------------------------------------------------------------------\u001b[0m",
      "\u001b[0;31mModuleNotFoundError\u001b[0m                       Traceback (most recent call last)",
      "\u001b[0;32m/var/folders/jn/zyqg1tvd3_x4k42nr8p6yr100000gn/T/ipykernel_65945/455395440.py\u001b[0m in \u001b[0;36m<module>\u001b[0;34m\u001b[0m\n\u001b[0;32m----> 1\u001b[0;31m \u001b[0;32mfrom\u001b[0m \u001b[0mpytorch_pretrained_bert\u001b[0m \u001b[0;32mimport\u001b[0m \u001b[0mBertTokenizer\u001b[0m\u001b[0;34m\u001b[0m\u001b[0;34m\u001b[0m\u001b[0m\n\u001b[0m",
      "\u001b[0;31mModuleNotFoundError\u001b[0m: No module named 'pytorch_pretrained_bert'"
     ]
    }
   ],
   "source": [
    "from pytorch_pretrained_bert import BertTokenizer"
   ]
  },
  {
   "cell_type": "code",
   "execution_count": 3,
   "metadata": {},
   "outputs": [
    {
     "name": "stderr",
     "output_type": "stream",
     "text": [
      "Downloading: 100%|██████████| 455k/455k [00:25<00:00, 18.0kB/s]\n",
      "Downloading: 100%|██████████| 483/483 [00:00<00:00, 176kB/s]\n"
     ]
    }
   ],
   "source": [
    "from transformers import DistilBertTokenizer\n",
    "tokenizer = DistilBertTokenizer.from_pretrained('distilbert-base-uncased')"
   ]
  },
  {
   "cell_type": "code",
   "execution_count": null,
   "metadata": {},
   "outputs": [],
   "source": []
  }
 ],
 "metadata": {
  "interpreter": {
   "hash": "808b2d6506002d59e33c894cd39ce65ecb585cca6d5df7e47a6227f88953c98f"
  },
  "kernelspec": {
   "display_name": "Python 3.7.11 ('bike-ramp')",
   "language": "python",
   "name": "python3"
  },
  "language_info": {
   "codemirror_mode": {
    "name": "ipython",
    "version": 3
   },
   "file_extension": ".py",
   "mimetype": "text/x-python",
   "name": "python",
   "nbconvert_exporter": "python",
   "pygments_lexer": "ipython3",
   "version": "3.7.11"
  },
  "orig_nbformat": 4
 },
 "nbformat": 4,
 "nbformat_minor": 2
}
