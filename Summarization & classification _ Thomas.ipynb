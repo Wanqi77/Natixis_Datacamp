{
 "cells": [
  {
   "cell_type": "code",
   "execution_count": 1,
   "metadata": {},
   "outputs": [],
   "source": [
    "import json\n",
    "import pandas as pd\n",
    "import numpy as np\n",
    "import matplotlib.pyplot as plt"
   ]
  },
  {
   "cell_type": "code",
   "execution_count": 39,
   "metadata": {
    "scrolled": false
   },
   "outputs": [
    {
     "data": {
      "text/html": [
       "<div>\n",
       "<style scoped>\n",
       "    .dataframe tbody tr th:only-of-type {\n",
       "        vertical-align: middle;\n",
       "    }\n",
       "\n",
       "    .dataframe tbody tr th {\n",
       "        vertical-align: top;\n",
       "    }\n",
       "\n",
       "    .dataframe thead th {\n",
       "        text-align: right;\n",
       "    }\n",
       "</style>\n",
       "<table border=\"1\" class=\"dataframe\">\n",
       "  <thead>\n",
       "    <tr style=\"text-align: right;\">\n",
       "      <th></th>\n",
       "      <th>speech</th>\n",
       "      <th>stock</th>\n",
       "      <th>target_classif</th>\n",
       "      <th>target_reg</th>\n",
       "    </tr>\n",
       "  </thead>\n",
       "  <tbody>\n",
       "    <tr>\n",
       "      <th>0</th>\n",
       "      <td>[{'ECB': ['\" Good morning. I very much appreci...</td>\n",
       "      <td>[-0.472958207130432, -0.172407612204551, -0.19...</td>\n",
       "      <td>0</td>\n",
       "      <td>-0.408630</td>\n",
       "    </tr>\n",
       "    <tr>\n",
       "      <th>1</th>\n",
       "      <td>[{'ECB': [], 'FED': []}, {'ECB': [], 'FED': []...</td>\n",
       "      <td>[-0.45292150974273604, -0.42023003101348805, -...</td>\n",
       "      <td>0</td>\n",
       "      <td>-0.585796</td>\n",
       "    </tr>\n",
       "    <tr>\n",
       "      <th>2</th>\n",
       "      <td>[{'ECB': [], 'FED': []}, {'ECB': ['  “A curren...</td>\n",
       "      <td>[-0.591069281101226, -0.36011990904808, -0.489...</td>\n",
       "      <td>1</td>\n",
       "      <td>0.469822</td>\n",
       "    </tr>\n",
       "    <tr>\n",
       "      <th>3</th>\n",
       "      <td>[{'ECB': [], 'FED': []}, {'ECB': [], 'FED': []...</td>\n",
       "      <td>[-0.6796526312828061, -0.7492538094520561, -0....</td>\n",
       "      <td>0</td>\n",
       "      <td>0.127088</td>\n",
       "    </tr>\n",
       "    <tr>\n",
       "      <th>4</th>\n",
       "      <td>[{'ECB': ['  How to preserve and consolidate t...</td>\n",
       "      <td>[-0.021605037152767, -0.056405633687973, -0.05...</td>\n",
       "      <td>1</td>\n",
       "      <td>0.441348</td>\n",
       "    </tr>\n",
       "  </tbody>\n",
       "</table>\n",
       "</div>"
      ],
      "text/plain": [
       "                                              speech  \\\n",
       "0  [{'ECB': ['\" Good morning. I very much appreci...   \n",
       "1  [{'ECB': [], 'FED': []}, {'ECB': [], 'FED': []...   \n",
       "2  [{'ECB': [], 'FED': []}, {'ECB': ['  “A curren...   \n",
       "3  [{'ECB': [], 'FED': []}, {'ECB': [], 'FED': []...   \n",
       "4  [{'ECB': ['  How to preserve and consolidate t...   \n",
       "\n",
       "                                               stock  target_classif  \\\n",
       "0  [-0.472958207130432, -0.172407612204551, -0.19...               0   \n",
       "1  [-0.45292150974273604, -0.42023003101348805, -...               0   \n",
       "2  [-0.591069281101226, -0.36011990904808, -0.489...               1   \n",
       "3  [-0.6796526312828061, -0.7492538094520561, -0....               0   \n",
       "4  [-0.021605037152767, -0.056405633687973, -0.05...               1   \n",
       "\n",
       "   target_reg  \n",
       "0   -0.408630  \n",
       "1   -0.585796  \n",
       "2    0.469822  \n",
       "3    0.127088  \n",
       "4    0.441348  "
      ]
     },
     "execution_count": 39,
     "metadata": {},
     "output_type": "execute_result"
    }
   ],
   "source": [
    "dir_train = \"data/train/\"\n",
    "\n",
    "data_VIX = pd.read_json(dir_train + \"VIX_1w.json\")\n",
    "data_EURUSDV1M = pd.read_json(dir_train + \"EURUSDV1M_1w.json\")\n",
    "\n",
    "data_VIX.head()"
   ]
  },
  {
   "cell_type": "markdown",
   "metadata": {},
   "source": [
    "# Preprocessing"
   ]
  },
  {
   "cell_type": "markdown",
   "metadata": {},
   "source": [
    "## Getting last speech"
   ]
  },
  {
   "cell_type": "code",
   "execution_count": 40,
   "metadata": {},
   "outputs": [],
   "source": [
    "## Function that creates a new column in the dataframe containing the last speech\n",
    "\n",
    "def get_last_speech(X):\n",
    "    df = X.copy()\n",
    "    rows, cols = df.shape\n",
    "    last_speeches = []\n",
    "    for i in range(rows):\n",
    "        dic = df['speech'][i][19]\n",
    "        if dic['ECB'] != []:\n",
    "            last_speeches.append(dic['ECB'][0])\n",
    "        else:\n",
    "            last_speeches.append(dic['FED'][0])\n",
    "    df['last speech'] = last_speeches\n",
    "    return df"
   ]
  },
  {
   "cell_type": "code",
   "execution_count": 42,
   "metadata": {},
   "outputs": [],
   "source": [
    "df = get_last_speech(data_VIX)"
   ]
  },
  {
   "cell_type": "code",
   "execution_count": 43,
   "metadata": {
    "scrolled": true
   },
   "outputs": [
    {
     "data": {
      "text/html": [
       "<div>\n",
       "<style scoped>\n",
       "    .dataframe tbody tr th:only-of-type {\n",
       "        vertical-align: middle;\n",
       "    }\n",
       "\n",
       "    .dataframe tbody tr th {\n",
       "        vertical-align: top;\n",
       "    }\n",
       "\n",
       "    .dataframe thead th {\n",
       "        text-align: right;\n",
       "    }\n",
       "</style>\n",
       "<table border=\"1\" class=\"dataframe\">\n",
       "  <thead>\n",
       "    <tr style=\"text-align: right;\">\n",
       "      <th></th>\n",
       "      <th>speech</th>\n",
       "      <th>stock</th>\n",
       "      <th>target_classif</th>\n",
       "      <th>target_reg</th>\n",
       "      <th>last speech</th>\n",
       "    </tr>\n",
       "  </thead>\n",
       "  <tbody>\n",
       "    <tr>\n",
       "      <th>0</th>\n",
       "      <td>[{'ECB': ['\" Good morning. I very much appreci...</td>\n",
       "      <td>[-0.472958207130432, -0.172407612204551, -0.19...</td>\n",
       "      <td>0</td>\n",
       "      <td>-0.408630</td>\n",
       "      <td>Completing Economic and Monetary Union   Spe...</td>\n",
       "    </tr>\n",
       "    <tr>\n",
       "      <th>1</th>\n",
       "      <td>[{'ECB': [], 'FED': []}, {'ECB': [], 'FED': []...</td>\n",
       "      <td>[-0.45292150974273604, -0.42023003101348805, -...</td>\n",
       "      <td>0</td>\n",
       "      <td>-0.585796</td>\n",
       "      <td>\"When we convened in Jackson Hole in August 20...</td>\n",
       "    </tr>\n",
       "    <tr>\n",
       "      <th>2</th>\n",
       "      <td>[{'ECB': [], 'FED': []}, {'ECB': ['  “A curren...</td>\n",
       "      <td>[-0.591069281101226, -0.36011990904808, -0.489...</td>\n",
       "      <td>1</td>\n",
       "      <td>0.469822</td>\n",
       "      <td>Global and domestic inflation   Speech by Ma...</td>\n",
       "    </tr>\n",
       "    <tr>\n",
       "      <th>3</th>\n",
       "      <td>[{'ECB': [], 'FED': []}, {'ECB': [], 'FED': []...</td>\n",
       "      <td>[-0.6796526312828061, -0.7492538094520561, -0....</td>\n",
       "      <td>0</td>\n",
       "      <td>0.127088</td>\n",
       "      <td>The low interest rate environment in the eur...</td>\n",
       "    </tr>\n",
       "    <tr>\n",
       "      <th>4</th>\n",
       "      <td>[{'ECB': ['  How to preserve and consolidate t...</td>\n",
       "      <td>[-0.021605037152767, -0.056405633687973, -0.05...</td>\n",
       "      <td>1</td>\n",
       "      <td>0.441348</td>\n",
       "      <td>It seems to me, paradoxically, that both long...</td>\n",
       "    </tr>\n",
       "  </tbody>\n",
       "</table>\n",
       "</div>"
      ],
      "text/plain": [
       "                                              speech  \\\n",
       "0  [{'ECB': ['\" Good morning. I very much appreci...   \n",
       "1  [{'ECB': [], 'FED': []}, {'ECB': [], 'FED': []...   \n",
       "2  [{'ECB': [], 'FED': []}, {'ECB': ['  “A curren...   \n",
       "3  [{'ECB': [], 'FED': []}, {'ECB': [], 'FED': []...   \n",
       "4  [{'ECB': ['  How to preserve and consolidate t...   \n",
       "\n",
       "                                               stock  target_classif  \\\n",
       "0  [-0.472958207130432, -0.172407612204551, -0.19...               0   \n",
       "1  [-0.45292150974273604, -0.42023003101348805, -...               0   \n",
       "2  [-0.591069281101226, -0.36011990904808, -0.489...               1   \n",
       "3  [-0.6796526312828061, -0.7492538094520561, -0....               0   \n",
       "4  [-0.021605037152767, -0.056405633687973, -0.05...               1   \n",
       "\n",
       "   target_reg                                        last speech  \n",
       "0   -0.408630    Completing Economic and Monetary Union   Spe...  \n",
       "1   -0.585796  \"When we convened in Jackson Hole in August 20...  \n",
       "2    0.469822    Global and domestic inflation   Speech by Ma...  \n",
       "3    0.127088    The low interest rate environment in the eur...  \n",
       "4    0.441348   It seems to me, paradoxically, that both long...  "
      ]
     },
     "execution_count": 43,
     "metadata": {},
     "output_type": "execute_result"
    }
   ],
   "source": [
    "df.head()"
   ]
  },
  {
   "cell_type": "markdown",
   "metadata": {},
   "source": [
    "## Dealing with non English speeches"
   ]
  },
  {
   "cell_type": "code",
   "execution_count": 6,
   "metadata": {},
   "outputs": [
    {
     "data": {
      "text/plain": [
       "<spacy_langdetect.spacy_langdetect.LanguageDetector at 0x2169d60cac8>"
      ]
     },
     "execution_count": 6,
     "metadata": {},
     "output_type": "execute_result"
    }
   ],
   "source": [
    "import spacy\n",
    "from spacy.language import Language\n",
    "from spacy_langdetect import LanguageDetector\n",
    "\n",
    "def get_lang_detector(nlp, name):\n",
    "    return LanguageDetector()\n",
    "\n",
    "nlp = spacy.load(\"en_core_web_sm\")\n",
    "Language.factory(\"language_detector\", func=get_lang_detector)\n",
    "nlp.add_pipe('language_detector', last=True)"
   ]
  },
  {
   "cell_type": "code",
   "execution_count": 7,
   "metadata": {
    "scrolled": true
   },
   "outputs": [
    {
     "name": "stdout",
     "output_type": "stream",
     "text": [
      "{'language': 'en', 'score': 0.9999967987228922}\n"
     ]
    }
   ],
   "source": [
    "print(nlp(\"This is an english text.\")._.language)"
   ]
  },
  {
   "cell_type": "code",
   "execution_count": 8,
   "metadata": {},
   "outputs": [],
   "source": [
    "## Function removing rows where the last speech is not in English\n",
    "\n",
    "def remove_foreign_lang(X):\n",
    "    df = X.copy()\n",
    "    rows, cols = df.shape\n",
    "    for i in range(rows):\n",
    "        sentence_i = df['last speech'][i][:200]                        # Take only the beginning of the speech\n",
    "        dic = nlp(sentence_i)._.language\n",
    "        if dic['language'] != 'en' :\n",
    "            df = df.drop([i])\n",
    "    return df"
   ]
  },
  {
   "cell_type": "code",
   "execution_count": 44,
   "metadata": {},
   "outputs": [
    {
     "data": {
      "text/plain": [
       "(1188, 5)"
      ]
     },
     "execution_count": 44,
     "metadata": {},
     "output_type": "execute_result"
    }
   ],
   "source": [
    "df = remove_foreign_lang(df)\n",
    "df.shape"
   ]
  },
  {
   "cell_type": "markdown",
   "metadata": {},
   "source": [
    "# Summarization without a language model"
   ]
  },
  {
   "cell_type": "code",
   "execution_count": 10,
   "metadata": {},
   "outputs": [
    {
     "name": "stdout",
     "output_type": "stream",
     "text": [
      "Requirement already satisfied: tqdm==4.43.0 in c:\\users\\tkess\\anaconda3\\lib\\site-packages (4.43.0)\n"
     ]
    },
    {
     "name": "stderr",
     "output_type": "stream",
     "text": [
      "WARNING: Ignoring invalid distribution -umpy (c:\\users\\tkess\\anaconda3\\lib\\site-packages)\n",
      "WARNING: Ignoring invalid distribution -ip (c:\\users\\tkess\\anaconda3\\lib\\site-packages)\n",
      "WARNING: Ignoring invalid distribution -atplotlib (c:\\users\\tkess\\anaconda3\\lib\\site-packages)\n",
      "WARNING: Ignoring invalid distribution -umpy (c:\\users\\tkess\\anaconda3\\lib\\site-packages)\n",
      "WARNING: Ignoring invalid distribution -ip (c:\\users\\tkess\\anaconda3\\lib\\site-packages)\n",
      "WARNING: Ignoring invalid distribution -atplotlib (c:\\users\\tkess\\anaconda3\\lib\\site-packages)\n",
      "WARNING: Ignoring invalid distribution -umpy (c:\\users\\tkess\\anaconda3\\lib\\site-packages)\n",
      "WARNING: Ignoring invalid distribution -ip (c:\\users\\tkess\\anaconda3\\lib\\site-packages)\n",
      "WARNING: Ignoring invalid distribution -atplotlib (c:\\users\\tkess\\anaconda3\\lib\\site-packages)\n",
      "WARNING: Ignoring invalid distribution -umpy (c:\\users\\tkess\\anaconda3\\lib\\site-packages)\n",
      "WARNING: Ignoring invalid distribution -ip (c:\\users\\tkess\\anaconda3\\lib\\site-packages)\n",
      "WARNING: Ignoring invalid distribution -atplotlib (c:\\users\\tkess\\anaconda3\\lib\\site-packages)\n",
      "WARNING: Ignoring invalid distribution -umpy (c:\\users\\tkess\\anaconda3\\lib\\site-packages)\n",
      "WARNING: Ignoring invalid distribution -ip (c:\\users\\tkess\\anaconda3\\lib\\site-packages)\n",
      "WARNING: Ignoring invalid distribution -atplotlib (c:\\users\\tkess\\anaconda3\\lib\\site-packages)\n"
     ]
    }
   ],
   "source": [
    "!pip install tqdm==4.43.0"
   ]
  },
  {
   "cell_type": "code",
   "execution_count": 11,
   "metadata": {},
   "outputs": [
    {
     "name": "stderr",
     "output_type": "stream",
     "text": [
      "[nltk_data] Downloading package punkt to\n",
      "[nltk_data]     C:\\Users\\tkess\\AppData\\Roaming\\nltk_data...\n",
      "[nltk_data]   Package punkt is already up-to-date!\n",
      "[nltk_data] Downloading package wordnet to\n",
      "[nltk_data]     C:\\Users\\tkess\\AppData\\Roaming\\nltk_data...\n",
      "[nltk_data]   Package wordnet is already up-to-date!\n"
     ]
    },
    {
     "data": {
      "text/plain": [
       "True"
      ]
     },
     "execution_count": 11,
     "metadata": {},
     "output_type": "execute_result"
    }
   ],
   "source": [
    "#For tokenizing sentences\n",
    "import nltk\n",
    "from nltk.corpus import stopwords\n",
    "from nltk.stem import WordNetLemmatizer\n",
    "from nltk.tokenize import word_tokenize, sent_tokenize\n",
    "from collections import OrderedDict\n",
    "\n",
    "nltk.download('punkt')\n",
    "nltk.download('wordnet')"
   ]
  },
  {
   "cell_type": "code",
   "execution_count": 12,
   "metadata": {},
   "outputs": [],
   "source": [
    "import re\n",
    "\n",
    "# Loughran and McDonald Sentiment Word Lists (https://sraf.nd.edu/textual-analysis/resources/)\n",
    "lmdict = {'Negative': ['abandon', 'abandoned', 'abandoning', 'abandonment', 'abandonments', 'abandons', 'abdicated',\n",
    "                       'abdicates', 'abdicating', 'abdication', 'abdications', 'aberrant', 'aberration', 'aberrational',\n",
    "                       'aberrations', 'abetting', 'abnormal', 'abnormalities', 'abnormality', 'abnormally', 'abolish',\n",
    "                       'abolished', 'abolishes', 'abolishing', 'abrogate', 'abrogated', 'abrogates', 'abrogating',\n",
    "                       'abrogation', 'abrogations', 'abrupt', 'abruptly', 'abruptness', 'absence', 'absences',\n",
    "                       'absenteeism', 'abuse', 'abused', 'abuses', 'abusing', 'abusive', 'abusively', 'abusiveness',\n",
    "                       'accident', 'accidental', 'accidentally', 'accidents', 'accusation', 'accusations', 'accuse',\n",
    "                       'accused', 'accuses', 'accusing', 'acquiesce', 'acquiesced', 'acquiesces', 'acquiescing',\n",
    "                       'acquit', 'acquits', 'acquittal', 'acquittals', 'acquitted', 'acquitting', 'adulterate',\n",
    "                       'adulterated', 'adulterating', 'adulteration', 'adulterations', 'adversarial', 'adversaries',\n",
    "                       'adversary', 'adverse', 'adversely', 'adversities', 'adversity', 'aftermath', 'aftermaths',\n",
    "                       'against', 'aggravate', 'aggravated', 'aggravates', 'aggravating', 'aggravation', 'aggravations',\n",
    "                       'alerted', 'alerting', 'alienate', 'alienated', 'alienates', 'alienating', 'alienation',\n",
    "                       'alienations', 'allegation', 'allegations', 'allege', 'alleged', 'allegedly', 'alleges',\n",
    "                       'alleging', 'annoy', 'annoyance', 'annoyances', 'annoyed', 'annoying', 'annoys', 'annul',\n",
    "                       'annulled', 'annulling', 'annulment', 'annulments', 'annuls', 'anomalies', 'anomalous',\n",
    "                       'anomalously', 'anomaly', 'anticompetitive', 'antitrust', 'argue', 'argued', 'arguing',\n",
    "                       'argument', 'argumentative', 'arguments', 'arrearage', 'arrearages', 'arrears', 'arrest',\n",
    "                       'arrested', 'arrests', 'artificially', 'assault', 'assaulted', 'assaulting', 'assaults',\n",
    "                       'assertions', 'attrition', 'aversely', 'backdating', 'bad', 'bail', 'bailout', 'balk', 'balked',\n",
    "                       'bankrupt', 'bankruptcies', 'bankruptcy', 'bankrupted', 'bankrupting', 'bankrupts', 'bans',\n",
    "                       'barred', 'barrier', 'barriers', 'bottleneck', 'bottlenecks', 'boycott', 'boycotted',\n",
    "                       'boycotting', 'boycotts', 'breach', 'breached', 'breaches', 'breaching', 'break', 'breakage',\n",
    "                       'breakages', 'breakdown', 'breakdowns', 'breaking', 'breaks', 'bribe', 'bribed', 'briberies',\n",
    "                       'bribery', 'bribes', 'bribing', 'bridge', 'broken', 'burden', 'burdened', 'burdening', 'burdens',\n",
    "                       'burdensome', 'burned', 'calamities', 'calamitous', 'calamity', 'cancel', 'canceled',\n",
    "                       'canceling', 'cancellation', 'cancellations', 'cancelled', 'cancelling', 'cancels', 'careless',\n",
    "                       'carelessly', 'carelessness', 'catastrophe', 'catastrophes', 'catastrophic', 'catastrophically',\n",
    "                       'caution', 'cautionary', 'cautioned', 'cautioning', 'cautions', 'cease', 'ceased', 'ceases',\n",
    "                       'ceasing', 'censure', 'censured', 'censures', 'censuring', 'challenge', 'challenged',\n",
    "                       'challenges', 'challenging', 'chargeoffs', 'circumvent', 'circumvented', 'circumventing',\n",
    "                       'circumvention', 'circumventions', 'circumvents', 'claiming', 'claims', 'clawback', 'closed',\n",
    "                       'closeout', 'closeouts', 'closing', 'closings', 'closure', 'closures', 'coerce', 'coerced',\n",
    "                       'coerces', 'coercing', 'coercion', 'coercive', 'collapse', 'collapsed', 'collapses',\n",
    "                       'collapsing', 'collision', 'collisions', 'collude', 'colluded', 'colludes', 'colluding',\n",
    "                       'collusion', 'collusions', 'collusive', 'complain', 'complained', 'complaining', 'complains',\n",
    "                       'complaint', 'complaints', 'complicate', 'complicated', 'complicates', 'complicating',\n",
    "                       'complication', 'complications', 'compulsion', 'concealed', 'concealing', 'concede', 'conceded',\n",
    "                       'concedes', 'conceding', 'concern', 'concerned', 'concerns', 'conciliating', 'conciliation',\n",
    "                       'conciliations', 'condemn', 'condemnation', 'condemnations', 'condemned', 'condemning',\n",
    "                       'condemns', 'condone', 'condoned', 'confess', 'confessed', 'confesses', 'confessing',\n",
    "                       'confession', 'confine', 'confined', 'confinement', 'confinements', 'confines', 'confining',\n",
    "                       'confiscate', 'confiscated', 'confiscates', 'confiscating', 'confiscation', 'confiscations',\n",
    "                       'conflict', 'conflicted', 'conflicting', 'conflicts', 'confront', 'confrontation',\n",
    "                       'confrontational', 'confrontations', 'confronted', 'confronting', 'confronts', 'confuse',\n",
    "                       'confused', 'confuses', 'confusing', 'confusingly', 'confusion', 'conspiracies', 'conspiracy',\n",
    "                       'conspirator', 'conspiratorial', 'conspirators', 'conspire', 'conspired', 'conspires',\n",
    "                       'conspiring', 'contempt', 'contend', 'contended', 'contending', 'contends', 'contention',\n",
    "                       'contentions', 'contentious', 'contentiously', 'contested', 'contesting', 'contraction',\n",
    "                       'contractions', 'contradict', 'contradicted', 'contradicting', 'contradiction', 'contradictions',\n",
    "                       'contradictory', 'contradicts', 'contrary', 'controversial', 'controversies', 'controversy',\n",
    "                       'convict', 'convicted', 'convicting', 'conviction', 'convictions', 'corrected', 'correcting',\n",
    "                       'correction', 'corrections', 'corrects', 'corrupt', 'corrupted', 'corrupting', 'corruption',\n",
    "                       'corruptions', 'corruptly', 'corruptness', 'costly', 'counterclaim', 'counterclaimed',\n",
    "                       'counterclaiming', 'counterclaims', 'counterfeit', 'counterfeited', 'counterfeiter',\n",
    "                       'counterfeiters', 'counterfeiting', 'counterfeits', 'countermeasure', 'countermeasures', 'crime',\n",
    "                       'crimes', 'criminal', 'criminally', 'criminals', 'crises', 'crisis', 'critical', 'critically',\n",
    "                       'criticism', 'criticisms', 'criticize', 'criticized', 'criticizes', 'criticizing', 'crucial',\n",
    "                       'crucially', 'culpability', 'culpable', 'culpably', 'cumbersome', 'curtail', 'curtailed',\n",
    "                       'curtailing', 'curtailment', 'curtailments', 'curtails', 'cut', 'cutback', 'cutbacks',\n",
    "                       'cyberattack', 'cyberattacks', 'cyberbullying', 'cybercrime', 'cybercrimes', 'cybercriminal',\n",
    "                       'cybercriminals', 'damage', 'damaged', 'damages', 'damaging', 'dampen', 'dampened', 'danger',\n",
    "                       'dangerous', 'dangerously', 'dangers', 'deadlock', 'deadlocked', 'deadlocking', 'deadlocks',\n",
    "                       'deadweight', 'deadweights', 'debarment', 'debarments', 'debarred', 'deceased', 'deceit',\n",
    "                       'deceitful', 'deceitfulness', 'deceive', 'deceived', 'deceives', 'deceiving', 'deception',\n",
    "                       'deceptions', 'deceptive', 'deceptively', 'decline', 'declined', 'declines', 'declining',\n",
    "                       'deface', 'defaced', 'defacement', 'defamation', 'defamations', 'defamatory', 'defame',\n",
    "                       'defamed', 'defames', 'defaming', 'default', 'defaulted', 'defaulting', 'defaults', 'defeat',\n",
    "                       'defeated', 'defeating', 'defeats', 'defect', 'defective', 'defects', 'defend', 'defendant',\n",
    "                       'defendants', 'defended', 'defending', 'defends', 'defensive', 'defer', 'deficiencies',\n",
    "                       'deficiency', 'deficient', 'deficit', 'deficits', 'defraud', 'defrauded', 'defrauding',\n",
    "                       'defrauds', 'defunct', 'degradation', 'degradations', 'degrade', 'degraded', 'degrades',\n",
    "                       'degrading', 'delay', 'delayed', 'delaying', 'delays', 'deleterious', 'deliberate',\n",
    "                       'deliberated', 'deliberately', 'delinquencies', 'delinquency', 'delinquent', 'delinquently',\n",
    "                       'delinquents', 'delist', 'delisted', 'delisting', 'delists', 'demise', 'demised', 'demises',\n",
    "                       'demising', 'demolish', 'demolished', 'demolishes', 'demolishing', 'demolition', 'demolitions',\n",
    "                       'demote', 'demoted', 'demotes', 'demoting', 'demotion', 'demotions', 'denial', 'denials',\n",
    "                       'denied', 'denies', 'denigrate', 'denigrated', 'denigrates', 'denigrating', 'denigration',\n",
    "                       'deny', 'denying', 'deplete', 'depleted', 'depletes', 'depleting', 'depletion', 'depletions',\n",
    "                       'deprecation', 'depress', 'depressed', 'depresses', 'depressing', 'deprivation', 'deprive',\n",
    "                       'deprived', 'deprives', 'depriving', 'derelict', 'dereliction', 'derogatory', 'destabilization',\n",
    "                       'destabilize', 'destabilized', 'destabilizing', 'destroy', 'destroyed', 'destroying', 'destroys',\n",
    "                       'destruction', 'destructive', 'detain', 'detained', 'detention', 'detentions', 'deter',\n",
    "                       'deteriorate', 'deteriorated', 'deteriorates', 'deteriorating', 'deterioration',\n",
    "                       'deteriorations', 'deterred', 'deterrence', 'deterrences', 'deterrent', 'deterrents',\n",
    "                       'deterring', 'deters', 'detract', 'detracted', 'detracting', 'detriment', 'detrimental',\n",
    "                       'detrimentally', 'detriments', 'devalue', 'devalued', 'devalues', 'devaluing', 'devastate',\n",
    "                       'devastated', 'devastating', 'devastation', 'deviate', 'deviated', 'deviates', 'deviating',\n",
    "                       'deviation', 'deviations', 'devolve', 'devolved', 'devolves', 'devolving', 'difficult',\n",
    "                       'difficulties', 'difficultly', 'difficulty', 'diminish', 'diminished', 'diminishes',\n",
    "                       'diminishing', 'diminution', 'disadvantage', 'disadvantaged', 'disadvantageous', 'disadvantages',\n",
    "                       'disaffiliation', 'disagree', 'disagreeable', 'disagreed', 'disagreeing', 'disagreement',\n",
    "                       'disagreements', 'disagrees', 'disallow', 'disallowance', 'disallowances', 'disallowed',\n",
    "                       'disallowing', 'disallows', 'disappear', 'disappearance', 'disappearances', 'disappeared',\n",
    "                       'disappearing', 'disappears', 'disappoint', 'disappointed', 'disappointing', 'disappointingly',\n",
    "                       'disappointment', 'disappointments', 'disappoints', 'disapproval', 'disapprovals', 'disapprove',\n",
    "                       'disapproved', 'disapproves', 'disapproving', 'disassociates', 'disassociating',\n",
    "                       'disassociation', 'disassociations', 'disaster', 'disasters', 'disastrous', 'disastrously',\n",
    "                       'disavow', 'disavowal', 'disavowed', 'disavowing', 'disavows', 'disciplinary', 'disclaim',\n",
    "                       'disclaimed', 'disclaimer', 'disclaimers', 'disclaiming', 'disclaims', 'disclose', 'disclosed',\n",
    "                       'discloses', 'disclosing', 'discontinuance', 'discontinuances', 'discontinuation',\n",
    "                       'discontinuations', 'discontinue', 'discontinued', 'discontinues', 'discontinuing', 'discourage',\n",
    "                       'discouraged', 'discourages', 'discouraging', 'discredit', 'discredited', 'discrediting',\n",
    "                       'discredits', 'discrepancies', 'discrepancy', 'disfavor', 'disfavored', 'disfavoring',\n",
    "                       'disfavors', 'disgorge', 'disgorged', 'disgorgement', 'disgorgements', 'disgorges', 'disgorging',\n",
    "                       'disgrace', 'disgraceful', 'disgracefully', 'dishonest', 'dishonestly', 'dishonesty', 'dishonor',\n",
    "                       'dishonorable', 'dishonorably', 'dishonored', 'dishonoring', 'dishonors', 'disincentives',\n",
    "                       'disinterested', 'disinterestedly', 'disinterestedness', 'disloyal', 'disloyally', 'disloyalty',\n",
    "                       'dismal', 'dismally', 'dismiss', 'dismissal', 'dismissals', 'dismissed', 'dismisses',\n",
    "                       'dismissing', 'disorderly', 'disparage', 'disparaged', 'disparagement', 'disparagements',\n",
    "                       'disparages', 'disparaging', 'disparagingly', 'disparities', 'disparity', 'displace',\n",
    "                       'displaced', 'displacement', 'displacements', 'displaces', 'displacing', 'dispose', 'dispossess',\n",
    "                       'dispossessed', 'dispossesses', 'dispossessing', 'disproportion', 'disproportional',\n",
    "                       'disproportionate', 'disproportionately', 'dispute', 'disputed', 'disputes', 'disputing',\n",
    "                       'disqualification', 'disqualifications', 'disqualified', 'disqualifies', 'disqualify',\n",
    "                       'disqualifying', 'disregard', 'disregarded', 'disregarding', 'disregards', 'disreputable',\n",
    "                       'disrepute', 'disrupt', 'disrupted', 'disrupting', 'disruption', 'disruptions', 'disruptive',\n",
    "                       'disrupts', 'dissatisfaction', 'dissatisfied', 'dissent', 'dissented', 'dissenter', 'dissenters',\n",
    "                       'dissenting', 'dissents', 'dissident', 'dissidents', 'dissolution', 'dissolutions', 'distort',\n",
    "                       'distorted', 'distorting', 'distortion', 'distortions', 'distorts', 'distract', 'distracted',\n",
    "                       'distracting', 'distraction', 'distractions', 'distracts', 'distress', 'distressed', 'disturb',\n",
    "                       'disturbance', 'disturbances', 'disturbed', 'disturbing', 'disturbs', 'diversion', 'divert',\n",
    "                       'diverted', 'diverting', 'diverts', 'divest', 'divested', 'divesting', 'divestiture',\n",
    "                       'divestitures', 'divestment', 'divestments', 'divests', 'divorce', 'divorced', 'divulge',\n",
    "                       'divulged', 'divulges', 'divulging', 'doubt', 'doubted', 'doubtful', 'doubts', 'downgrade',\n",
    "                       'downgraded', 'downgrades', 'downgrading', 'downsize', 'downsized', 'downsizes', 'downsizing',\n",
    "                       'downsizings', 'downtime', 'downtimes', 'downturn', 'downturns', 'downward', 'downwards', 'drag',\n",
    "                       'drastic', 'drastically', 'drawback', 'drawbacks', 'drop', 'dropped', 'drought', 'droughts', 'duress',\n",
    "                       'dysfunction', 'dysfunctional', 'dysfunctions', 'easing', 'egregious', 'egregiously', 'embargo',\n",
    "                       'embargoed', 'embargoes', 'embargoing', 'embarrass', 'embarrassed', 'embarrasses',\n",
    "                       'embarrassing', 'embarrassment', 'embarrassments', 'embezzle', 'embezzled', 'embezzlement',\n",
    "                       'embezzlements', 'embezzler', 'embezzles', 'embezzling', 'encroach', 'encroached', 'encroaches',\n",
    "                       'encroaching', 'encroachment', 'encroachments', 'encumber', 'encumbered', 'encumbering',\n",
    "                       'encumbers', 'encumbrance', 'encumbrances', 'endanger', 'endangered', 'endangering',\n",
    "                       'endangerment', 'endangers', 'enjoin', 'enjoined', 'enjoining', 'enjoins', 'erode', 'eroded',\n",
    "                       'erodes', 'eroding', 'erosion', 'erratic', 'erratically', 'erred', 'erring', 'erroneous',\n",
    "                       'erroneously', 'error', 'errors', 'errs', 'escalate', 'escalated', 'escalates', 'escalating',\n",
    "                       'evade', 'evaded', 'evades', 'evading', 'evasion', 'evasions', 'evasive', 'evict', 'evicted',\n",
    "                       'evicting', 'eviction', 'evictions', 'evicts', 'exacerbate', 'exacerbated', 'exacerbates',\n",
    "                       'exacerbating', 'exacerbation', 'exacerbations', 'exaggerate', 'exaggerated', 'exaggerates',\n",
    "                       'exaggerating', 'exaggeration', 'excessive', 'excessively', 'exculpate', 'exculpated',\n",
    "                       'exculpates', 'exculpating', 'exculpation', 'exculpations', 'exculpatory', 'exonerate',\n",
    "                       'exonerated', 'exonerates', 'exonerating', 'exoneration', 'exonerations', 'exploit',\n",
    "                       'exploitation', 'exploitations', 'exploitative', 'exploited', 'exploiting', 'exploits', 'expose',\n",
    "                       'exposed', 'exposes', 'exposing', 'expropriate', 'expropriated', 'expropriates', 'expropriating',\n",
    "                       'expropriation', 'expropriations', 'expulsion', 'expulsions', 'extenuating', 'fail', 'failed',\n",
    "                       'failing', 'failings', 'fails', 'failure', 'failures', 'fallout', 'false', 'falsely',\n",
    "                       'falsification', 'falsifications', 'falsified', 'falsifies', 'falsify', 'falsifying', 'falsity',\n",
    "                       'fatalities', 'fatality', 'fatally', 'fault', 'faulted', 'faults', 'faulty', 'fear', 'fears',\n",
    "                       'felonies', 'felonious', 'felony', 'fictitious', 'fined', 'fines', 'fired', 'firing', 'flaw',\n",
    "                       'flawed', 'flaws', 'forbid', 'forbidden', 'forbidding', 'forbids', 'force', 'forced', 'forcing',\n",
    "                       'foreclose', 'foreclosed', 'forecloses', 'foreclosing', 'foreclosure', 'foreclosures', 'forego',\n",
    "                       'foregoes', 'foregone', 'forestall', 'forestalled', 'forestalling', 'forestalls', 'forfeit',\n",
    "                       'forfeited', 'forfeiting', 'forfeits', 'forfeiture', 'forfeitures', 'forgers', 'forgery',\n",
    "                       'fraud', 'frauds', 'fraudulence', 'fraudulent', 'fraudulently', 'frivolous', 'frivolously',\n",
    "                       'frustrate', 'frustrated', 'frustrates', 'frustrating', 'frustratingly', 'frustration',\n",
    "                       'frustrations', 'fugitive', 'fugitives', 'gratuitous', 'gratuitously', 'grievance', 'grievances',\n",
    "                       'grossly', 'groundless', 'guilty', 'halt', 'halted', 'hamper', 'hampered', 'hampering',\n",
    "                       'hampers', 'harass', 'harassed', 'harassing', 'harassment', 'hardship', 'hardships', 'harm',\n",
    "                       'harmed', 'harmful', 'harmfully', 'harming', 'harms', 'harsh', 'harsher', 'harshest', 'harshly',\n",
    "                       'harshness', 'hazard', 'hazardous', 'hazards', 'hinder', 'hindered', 'hindering', 'hinders',\n",
    "                       'hindrance', 'hindrances', 'hostile', 'hostility', 'hurt', 'hurting', 'idle', 'idled', 'idling',\n",
    "                       'ignore', 'ignored', 'ignores', 'ignoring', 'ill', 'illegal', 'illegalities', 'illegality',\n",
    "                       'illegally', 'illegible', 'illicit', 'illicitly', 'illiquid', 'illiquidity', 'imbalance',\n",
    "                       'imbalances', 'immature', 'immoral', 'impair', 'impaired', 'impairing', 'impairment',\n",
    "                       'impairments', 'impairs', 'impasse', 'impasses', 'impede', 'impeded', 'impedes', 'impediment',\n",
    "                       'impediments', 'impeding', 'impending', 'imperative', 'imperfection', 'imperfections', 'imperil',\n",
    "                       'impermissible', 'implicate', 'implicated', 'implicates', 'implicating', 'impossibility',\n",
    "                       'impossible', 'impound', 'impounded', 'impounding', 'impounds', 'impracticable', 'impractical',\n",
    "                       'impracticalities', 'impracticality', 'imprisonment', 'improper', 'improperly', 'improprieties',\n",
    "                       'impropriety', 'imprudent', 'imprudently', 'inability', 'inaccessible', 'inaccuracies',\n",
    "                       'inaccuracy', 'inaccurate', 'inaccurately', 'inaction', 'inactions', 'inactivate', 'inactivated',\n",
    "                       'inactivates', 'inactivating', 'inactivation', 'inactivations', 'inactivity', 'inadequacies',\n",
    "                       'inadequacy', 'inadequate', 'inadequately', 'inadvertent', 'inadvertently', 'inadvisability',\n",
    "                       'inadvisable', 'inappropriate', 'inappropriately', 'inattention', 'incapable', 'incapacitated',\n",
    "                       'incapacity', 'incarcerate', 'incarcerated', 'incarcerates', 'incarcerating', 'incarceration',\n",
    "                       'incarcerations', 'incidence', 'incidences', 'incident', 'incidents', 'incompatibilities',\n",
    "                       'incompatibility', 'incompatible', 'incompetence', 'incompetency', 'incompetent',\n",
    "                       'incompetently', 'incompetents', 'incomplete', 'incompletely', 'incompleteness', 'inconclusive',\n",
    "                       'inconsistencies', 'inconsistency', 'inconsistent', 'inconsistently', 'inconvenience',\n",
    "                       'inconveniences', 'inconvenient', 'incorrect', 'incorrectly', 'incorrectness', 'indecency',\n",
    "                       'indecent', 'indefeasible', 'indefeasibly', 'indict', 'indictable', 'indicted', 'indicting',\n",
    "                       'indictment', 'indictments', 'ineffective', 'ineffectively', 'ineffectiveness', 'inefficiencies',\n",
    "                       'inefficiency', 'inefficient', 'inefficiently', 'ineligibility', 'ineligible', 'inequitable',\n",
    "                       'inequitably', 'inequities', 'inequity', 'inevitable', 'inexperience', 'inexperienced',\n",
    "                       'inferior', 'inflicted', 'infraction', 'infractions', 'infringe', 'infringed', 'infringement',\n",
    "                       'infringements', 'infringes', 'infringing', 'inhibited', 'inimical', 'injunction', 'injunctions',\n",
    "                       'injure', 'injured', 'injures', 'injuries', 'injuring', 'injurious', 'injury', 'inordinate',\n",
    "                       'inordinately', 'inquiry', 'insecure', 'insensitive', 'insolvencies', 'insolvency', 'insolvent',\n",
    "                       'instability', 'insubordination', 'insufficiency', 'insufficient', 'insufficiently',\n",
    "                       'insurrection', 'insurrections', 'intentional', 'interfere', 'interfered', 'interference',\n",
    "                       'interferences', 'interferes', 'interfering', 'intermittent', 'intermittently', 'interrupt',\n",
    "                       'interrupted', 'interrupting', 'interruption', 'interruptions', 'interrupts', 'intimidation',\n",
    "                       'intrusion', 'invalid', 'invalidate', 'invalidated', 'invalidates', 'invalidating',\n",
    "                       'invalidation', 'invalidity', 'investigate', 'investigated', 'investigates', 'investigating',\n",
    "                       'investigation', 'investigations', 'involuntarily', 'involuntary', 'irreconcilable',\n",
    "                       'irreconcilably', 'irrecoverable', 'irrecoverably', 'irregular', 'irregularities',\n",
    "                       'irregularity', 'irregularly', 'irreparable', 'irreparably', 'irreversible', 'jeopardize',\n",
    "                       'jeopardized', 'justifiable', 'kickback', 'kickbacks', 'knowingly', 'lack', 'lacked', 'lacking',\n",
    "                       'lackluster', 'lacks', 'lag', 'lagged', 'lagging', 'lags', 'lapse', 'lapsed', 'lapses',\n",
    "                       'lapsing', 'late', 'laundering', 'layoff', 'layoffs', 'lie', 'limitation', 'limitations',\n",
    "                       'lingering', 'liquidate', 'liquidated', 'liquidates', 'liquidating', 'liquidation',\n",
    "                       'liquidations', 'liquidator', 'liquidators', 'litigant', 'litigants', 'litigate', 'litigated',\n",
    "                       'litigates', 'litigating', 'litigation', 'litigations', 'lockout', 'lockouts', 'lose', 'loses',\n",
    "                       'losing', 'loss', 'losses', 'lost', 'lying', 'malfeasance', 'malfunction', 'malfunctioned',\n",
    "                       'malfunctioning', 'malfunctions', 'malice', 'malicious', 'maliciously', 'malpractice',\n",
    "                       'manipulate', 'manipulated', 'manipulates', 'manipulating', 'manipulation', 'manipulations',\n",
    "                       'manipulative', 'markdown', 'markdowns', 'misapplication', 'misapplications', 'misapplied',\n",
    "                       'misapplies', 'misapply', 'misapplying', 'misappropriate', 'misappropriated', 'misappropriates',\n",
    "                       'misappropriating', 'misappropriation', 'misappropriations', 'misbranded', 'miscalculate',\n",
    "                       'miscalculated', 'miscalculates', 'miscalculating', 'miscalculation', 'miscalculations',\n",
    "                       'mischaracterization', 'mischief', 'misclassification', 'misclassifications', 'misclassified',\n",
    "                       'misclassify', 'miscommunication', 'misconduct', 'misdated', 'misdemeanor', 'misdemeanors',\n",
    "                       'misdirected', 'mishandle', 'mishandled', 'mishandles', 'mishandling', 'misinform',\n",
    "                       'misinformation', 'misinformed', 'misinforming', 'misinforms', 'misinterpret',\n",
    "                       'misinterpretation', 'misinterpretations', 'misinterpreted', 'misinterpreting', 'misinterprets',\n",
    "                       'misjudge', 'misjudged', 'misjudges', 'misjudging', 'misjudgment', 'misjudgments', 'mislabel',\n",
    "                       'mislabeled', 'mislabeling', 'mislabelled', 'mislabels', 'mislead', 'misleading', 'misleadingly',\n",
    "                       'misleads', 'misled', 'mismanage', 'mismanaged', 'mismanagement', 'mismanages', 'mismanaging',\n",
    "                       'mismatch', 'mismatched', 'mismatches', 'mismatching', 'misplaced', 'misprice', 'mispricing',\n",
    "                       'mispricings', 'misrepresent', 'misrepresentation', 'misrepresentations', 'misrepresented',\n",
    "                       'misrepresenting', 'misrepresents', 'miss', 'missed', 'misses', 'misstate', 'misstated',\n",
    "                       'misstatement', 'misstatements', 'misstates', 'misstating', 'misstep', 'missteps', 'mistake',\n",
    "                       'mistaken', 'mistakenly', 'mistakes', 'mistaking', 'mistrial', 'mistrials', 'misunderstand',\n",
    "                       'misunderstanding', 'misunderstandings', 'misunderstood', 'misuse', 'misused', 'misuses',\n",
    "                       'misusing', 'monopolistic', 'monopolists', 'monopolization', 'monopolize', 'monopolized',\n",
    "                       'monopolizes', 'monopolizing', 'monopoly', 'moratoria', 'moratorium', 'moratoriums',\n",
    "                       'mothballed', 'mothballing', 'negative', 'negatively', 'negatives', 'neglect', 'neglected',\n",
    "                       'neglectful', 'neglecting', 'neglects', 'negligence', 'negligences', 'negligent', 'negligently',\n",
    "                       'nonattainment', 'noncompetitive', 'noncompliance', 'noncompliances', 'noncompliant',\n",
    "                       'noncomplying', 'nonconforming', 'nonconformities', 'nonconformity', 'nondisclosure',\n",
    "                       'nonfunctional', 'nonpayment', 'nonpayments', 'nonperformance', 'nonperformances',\n",
    "                       'nonperforming', 'nonproducing', 'nonproductive', 'nonrecoverable', 'nonrenewal', 'nuisance',\n",
    "                       'nuisances', 'nullification', 'nullifications', 'nullified', 'nullifies', 'nullify',\n",
    "                       'nullifying', 'objected', 'objecting', 'objection', 'objectionable', 'objectionably',\n",
    "                       'objections', 'obscene', 'obscenity', 'obsolescence', 'obsolete', 'obstacle', 'obstacles',\n",
    "                       'obstruct', 'obstructed', 'obstructing', 'obstruction', 'obstructions', 'offence', 'offences',\n",
    "                       'offend', 'offended', 'offender', 'offenders', 'offending', 'offends', 'omission', 'omissions',\n",
    "                       'omit', 'omits', 'omitted', 'omitting', 'onerous', 'opportunistic', 'opportunistically',\n",
    "                       'oppose', 'opposed', 'opposes', 'opposing', 'opposition', 'oppositions', 'outage', 'outages',\n",
    "                       'outdated', 'outmoded', 'overage', 'overages', 'overbuild', 'overbuilding', 'overbuilds',\n",
    "                       'overbuilt', 'overburden', 'overburdened', 'overburdening', 'overcapacities', 'overcapacity',\n",
    "                       'overcharge', 'overcharged', 'overcharges', 'overcharging', 'overcome', 'overcomes',\n",
    "                       'overcoming', 'overdue', 'overestimate', 'overestimated', 'overestimates', 'overestimating',\n",
    "                       'overestimation', 'overestimations', 'overload', 'overloaded', 'overloading', 'overloads',\n",
    "                       'overlook', 'overlooked', 'overlooking', 'overlooks', 'overpaid', 'overpayment', 'overpayments',\n",
    "                       'overproduced', 'overproduces', 'overproducing', 'overproduction', 'overrun', 'overrunning',\n",
    "                       'overruns', 'overshadow', 'overshadowed', 'overshadowing', 'overshadows', 'overstate',\n",
    "                       'overstated', 'overstatement', 'overstatements', 'overstates', 'overstating', 'oversupplied',\n",
    "                       'oversupplies', 'oversupply', 'oversupplying', 'overtly', 'overturn', 'overturned',\n",
    "                       'overturning', 'overturns', 'overvalue', 'overvalued', 'overvaluing', 'panic', 'panics',\n",
    "                       'penalize', 'penalized', 'penalizes', 'penalizing', 'penalties', 'penalty', 'peril', 'perils',\n",
    "                       'perjury', 'perpetrate', 'perpetrated', 'perpetrates', 'perpetrating', 'perpetration', 'persist',\n",
    "                       'persisted', 'persistence', 'persistent', 'persistently', 'persisting', 'persists', 'pervasive',\n",
    "                       'pervasively', 'pervasiveness', 'petty', 'picket', 'picketed', 'picketing', 'plaintiff',\n",
    "                       'plaintiffs', 'plea', 'plead', 'pleaded', 'pleading', 'pleadings', 'pleads', 'pleas', 'pled',\n",
    "                       'poor', 'poorly', 'poses', 'posing', 'postpone', 'postponed', 'postponement', 'postponements',\n",
    "                       'postpones', 'postponing', 'precipitated', 'precipitous', 'precipitously', 'preclude',\n",
    "                       'precluded', 'precludes', 'precluding', 'predatory', 'prejudice', 'prejudiced', 'prejudices',\n",
    "                       'prejudicial', 'prejudicing', 'premature', 'prematurely', 'pressing', 'pretrial', 'preventing',\n",
    "                       'prevention', 'prevents', 'problem', 'problematic', 'problematical', 'problems', 'prolong',\n",
    "                       'prolongation', 'prolongations', 'prolonged', 'prolonging', 'prolongs', 'prone', 'prosecute',\n",
    "                       'prosecuted', 'prosecutes', 'prosecuting', 'prosecution', 'prosecutions', 'protest', 'protested',\n",
    "                       'protester', 'protesters', 'protesting', 'protestor', 'protestors', 'protests', 'protracted',\n",
    "                       'protraction', 'provoke', 'provoked', 'provokes', 'provoking', 'punished', 'punishes',\n",
    "                       'punishing', 'punishment', 'punishments', 'punitive', 'purport', 'purported', 'purportedly',\n",
    "                       'purporting', 'purports', 'question', 'questionable', 'questionably', 'questioned',\n",
    "                       'questioning', 'questions', 'quit', 'quitting', 'racketeer', 'racketeering', 'rationalization',\n",
    "                       'rationalizations', 'rationalize', 'rationalized', 'rationalizes', 'rationalizing',\n",
    "                       'reassessment', 'reassessments', 'reassign', 'reassigned', 'reassigning', 'reassignment',\n",
    "                       'reassignments', 'reassigns', 'recall', 'recalled', 'recalling', 'recalls', 'recession',\n",
    "                       'recessionary', 'recessions', 'reckless', 'recklessly', 'recklessness', 'redact', 'redacted',\n",
    "                       'redacting', 'redaction', 'redactions', 'redefault', 'redefaulted', 'redefaults', 'redress',\n",
    "                       'redressed', 'redresses', 'redressing', 'refusal', 'refusals', 'refuse', 'refused', 'refuses',\n",
    "                       'refusing', 'reject', 'rejected', 'rejecting', 'rejection', 'rejections', 'rejects',\n",
    "                       'relinquish', 'relinquished', 'relinquishes', 'relinquishing', 'relinquishment',\n",
    "                       'relinquishments', 'reluctance', 'reluctant', 'renegotiate', 'renegotiated', 'renegotiates',\n",
    "                       'renegotiating', 'renegotiation', 'renegotiations', 'renounce', 'renounced', 'renouncement',\n",
    "                       'renouncements', 'renounces', 'renouncing', 'reparation', 'reparations', 'repossessed',\n",
    "                       'repossesses', 'repossessing', 'repossession', 'repossessions', 'repudiate', 'repudiated',\n",
    "                       'repudiates', 'repudiating', 'repudiation', 'repudiations', 'resign', 'resignation',\n",
    "                       'resignations', 'resigned', 'resigning', 'resigns', 'restate', 'restated', 'restatement',\n",
    "                       'restatements', 'restates', 'restating', 'restructure', 'restructured', 'restructures',\n",
    "                       'restructuring', 'restructurings', 'retaliate', 'retaliated', 'retaliates', 'retaliating',\n",
    "                       'retaliation', 'retaliations', 'retaliatory', 'retribution', 'retributions', 'revocation',\n",
    "                       'revocations', 'revoke', 'revoked', 'revokes', 'revoking', 'ridicule', 'ridiculed', 'ridicules',\n",
    "                       'ridiculing', 'riskier', 'riskiest', 'risky', 'sabotage', 'sacrifice', 'sacrificed',\n",
    "                       'sacrifices', 'sacrificial', 'sacrificing', 'scandalous', 'scandals', 'scrutinize',\n",
    "                       'scrutinized', 'scrutinizes', 'scrutinizing', 'scrutiny', 'secrecy', 'seize', 'seized', 'seizes',\n",
    "                       'seizing', 'sentenced', 'sentencing', 'serious', 'seriously', 'seriousness', 'setback',\n",
    "                       'setbacks', 'sever', 'severe', 'severed', 'severely', 'severities', 'severity', 'sharply',\n",
    "                       'shocked', 'shortage', 'shortages', 'shortfall', 'shortfalls', 'shrinkage', 'shrinkages', 'shut',\n",
    "                       'shutdown', 'shutdowns', 'shuts', 'shutting', 'slander', 'slandered', 'slanderous', 'slanders',\n",
    "                       'slippage', 'slippages', 'slow', 'slowdown', 'slowdowns', 'slowed', 'slower', 'slowest',\n",
    "                       'slowing', 'slowly', 'slowness', 'sluggish', 'sluggishly', 'sluggishness', 'solvencies',\n",
    "                       'solvency', 'spam', 'spammers', 'spamming', 'staggering', 'stagnant', 'stagnate', 'stagnated',\n",
    "                       'stagnates', 'stagnating', 'stagnation', 'standstill', 'standstills', 'stolen', 'stoppage',\n",
    "                       'stoppages', 'stopped', 'stopping', 'stops', 'strain', 'strained', 'straining', 'strains',\n",
    "                       'stress', 'stressed', 'stresses', 'stressful', 'stressing', 'stringent', 'strong', 'subjected',\n",
    "                       'subjecting', 'subjection', 'subpoena', 'subpoenaed', 'subpoenas', 'substandard', 'sue', 'sued',\n",
    "                       'sues', 'suffer', 'suffered', 'suffering', 'suffers', 'suing', 'summoned', 'summoning',\n",
    "                       'summons', 'summonses', 'susceptibility', 'susceptible', 'suspect', 'suspected', 'suspects',\n",
    "                       'suspend', 'suspended', 'suspending', 'suspends', 'suspension', 'suspensions', 'suspicion',\n",
    "                       'suspicions', 'suspicious', 'suspiciously', 'taint', 'tainted', 'tainting', 'taints', 'tampered',\n",
    "                       'tense', 'terminate', 'terminated', 'terminates', 'terminating', 'termination', 'terminations',\n",
    "                       'testify', 'testifying', 'threat', 'threaten', 'threatened', 'threatening', 'threatens',\n",
    "                       'threats', 'tightening', 'tolerate', 'tolerated', 'tolerates', 'tolerating', 'toleration',\n",
    "                       'tortuous', 'tortuously', 'tragedies', 'tragedy', 'tragic', 'tragically', 'traumatic', 'trouble',\n",
    "                       'troubled', 'troubles', 'turbulence', 'turmoil', 'unable', 'unacceptable', 'unacceptably',\n",
    "                       'unaccounted', 'unannounced', 'unanticipated', 'unapproved', 'unattractive', 'unauthorized',\n",
    "                       'unavailability', 'unavailable', 'unavoidable', 'unavoidably', 'unaware', 'uncollectable',\n",
    "                       'uncollected', 'uncollectibility', 'uncollectible', 'uncollectibles', 'uncompetitive',\n",
    "                       'uncompleted', 'unconscionable', 'unconscionably', 'uncontrollable', 'uncontrollably',\n",
    "                       'uncontrolled', 'uncorrected', 'uncover', 'uncovered', 'uncovering', 'uncovers', 'undeliverable',\n",
    "                       'undelivered', 'undercapitalized', 'undercut', 'undercuts', 'undercutting', 'underestimate',\n",
    "                       'underestimated', 'underestimates', 'underestimating', 'underestimation', 'underfunded',\n",
    "                       'underinsured', 'undermine', 'undermined', 'undermines', 'undermining', 'underpaid',\n",
    "                       'underpayment', 'underpayments', 'underpays', 'underperform', 'underperformance',\n",
    "                       'underperformed', 'underperforming', 'underperforms', 'underproduced', 'underproduction',\n",
    "                       'underreporting', 'understate', 'understated', 'understatement', 'understatements',\n",
    "                       'understates', 'understating', 'underutilization', 'underutilized', 'undesirable', 'undesired',\n",
    "                       'undetected', 'undetermined', 'undisclosed', 'undocumented', 'undue', 'unduly', 'uneconomic',\n",
    "                       'uneconomical', 'uneconomically', 'unemployed', 'unemployment', 'unethical', 'unethically',\n",
    "                       'unexcused', 'unexpected', 'unexpectedly', 'unfair', 'unfairly', 'unfavorability', 'unfavorable',\n",
    "                       'unfavorably', 'unfavourable', 'unfeasible', 'unfit', 'unfitness', 'unforeseeable', 'unforeseen',\n",
    "                       'unforseen', 'unfortunate', 'unfortunately', 'unfounded', 'unfriendly', 'unfulfilled',\n",
    "                       'unfunded', 'uninsured', 'unintended', 'unintentional', 'unintentionally', 'unjust',\n",
    "                       'unjustifiable', 'unjustifiably', 'unjustified', 'unjustly', 'unknowing', 'unknowingly',\n",
    "                       'unlawful', 'unlawfully', 'unlicensed', 'unliquidated', 'unmarketable', 'unmerchantable',\n",
    "                       'unmeritorious', 'unnecessarily', 'unnecessary', 'unneeded', 'unobtainable', 'unoccupied',\n",
    "                       'unpaid', 'unperformed', 'unplanned', 'unpopular', 'unpredictability', 'unpredictable',\n",
    "                       'unpredictably', 'unpredicted', 'unproductive', 'unprofitability', 'unprofitable', 'unqualified',\n",
    "                       'unrealistic', 'unreasonable', 'unreasonableness', 'unreasonably', 'unreceptive',\n",
    "                       'unrecoverable', 'unrecovered', 'unreimbursed', 'unreliable', 'unremedied', 'unreported',\n",
    "                       'unresolved', 'unrest', 'unsafe', 'unsalable', 'unsaleable', 'unsatisfactory', 'unsatisfied',\n",
    "                       'unsavory', 'unscheduled', 'unsellable', 'unsold', 'unsound', 'unstabilized', 'unstable',\n",
    "                       'unsubstantiated', 'unsuccessful', 'unsuccessfully', 'unsuitability', 'unsuitable', 'unsuitably',\n",
    "                       'unsuited', 'unsure', 'unsuspected', 'unsuspecting', 'unsustainable', 'untenable', 'untimely',\n",
    "                       'untrusted', 'untruth', 'untruthful', 'untruthfully', 'untruthfulness', 'untruths', 'unusable',\n",
    "                       'unwanted', 'unwarranted', 'unwelcome', 'unwilling', 'unwillingness', 'upset', 'urgency',\n",
    "                       'urgent', 'usurious', 'usurp', 'usurped', 'usurping', 'usurps', 'usury', 'vandalism', 'verdict',\n",
    "                       'verdicts', 'vetoed', 'victims', 'violate', 'violated', 'violates', 'violating', 'violation',\n",
    "                       'violations', 'violative', 'violator', 'violators', 'violence', 'violent', 'violently',\n",
    "                       'vitiate', 'vitiated', 'vitiates', 'vitiating', 'vitiation', 'voided', 'voiding', 'volatile',\n",
    "                       'volatility', 'vulnerabilities', 'vulnerability', 'vulnerable', 'vulnerably', 'warn', 'warned',\n",
    "                       'warning', 'warnings', 'warns', 'wasted', 'wasteful', 'wasting', 'weak', 'weaken', 'weakened',\n",
    "                       'weakening', 'weakens', 'weaker', 'weakest', 'weakly', 'weakness', 'weaknesses', 'willfully',\n",
    "                       'worries', 'worry', 'worrying', 'worse', 'worsen', 'worsened', 'worsening', 'worsens', 'worst',\n",
    "                       'worthless', 'writedown', 'writedowns', 'writeoff', 'writeoffs', 'wrong', 'wrongdoing',\n",
    "                       'wrongdoings', 'wrongful', 'wrongfully', 'wrongly',\n",
    "                       'negative', 'negatives', 'fail', 'fails', 'failing', 'failure', 'weak', 'weakness', 'weaknesses',\n",
    "                       'difficult', 'difficulty', 'hurdle', 'hurdles', 'obstacle', 'obstacles', 'slump', 'slumps',\n",
    "                       'slumping', 'slumped', 'uncertain', 'uncertainty', 'unsettled', 'unfavorable', 'downturn',\n",
    "                       'depressed', 'disappoint', 'disappoints', 'disappointing', 'disappointed', 'disappointment',\n",
    "                       'risk', 'risks', 'risky', 'threat', 'threats', 'penalty', 'penalties', 'down', 'decrease',\n",
    "                       'decreases', 'decreasing', 'decreased', 'decline', 'declines', 'declining', 'declined', 'fall',\n",
    "                       'falls', 'falling', 'fell', 'fallen', 'drop', 'drops', 'dropping', 'dropped', 'deteriorate',\n",
    "                       'deteriorates', 'deteriorating', 'deteriorated', 'worsen', 'worsens', 'worsening', 'weaken',\n",
    "                       'weakens', 'weakening', 'weakened', 'worse', 'worst', 'low', 'lower', 'lowest', 'less', 'least',\n",
    "                       'smaller', 'smallest', 'shrink', 'shrinks', 'shrinking', 'shrunk', 'below', 'under', 'challenge',\n",
    "                       'challenges', 'challenging', 'challenged'\n",
    "                      ],\n",
    "          \n",
    "          'Positive': ['able', 'abundance', 'abundant', 'acclaimed', 'accomplish', 'accomplished', 'accomplishes',\n",
    "                       'accomplishing', 'accomplishment', 'accomplishments', 'achieve', 'achieved', 'achievement',\n",
    "                       'achievements', 'achieves', 'achieving', 'adequately', 'advancement', 'advancements', 'advances',\n",
    "                       'advancing', 'advantage', 'advantaged', 'advantageous', 'advantageously', 'advantages',\n",
    "                       'alliance', 'alliances', 'assure', 'assured', 'assures', 'assuring', 'attain', 'attained',\n",
    "                       'attaining', 'attainment', 'attainments', 'attains', 'attractive', 'attractiveness', 'beautiful',\n",
    "                       'beautifully', 'beneficial', 'beneficially', 'benefit', 'benefited', 'benefiting', 'benefitted',\n",
    "                       'benefitting', 'best', 'better', 'bolstered', 'bolstering', 'bolsters', 'boom', 'booming',\n",
    "                       'boost', 'boosted', 'breakthrough', 'breakthroughs', 'brilliant', 'charitable', 'collaborate',\n",
    "                       'collaborated', 'collaborates', 'collaborating', 'collaboration', 'collaborations',\n",
    "                       'collaborative', 'collaborator', 'collaborators', 'compliment', 'complimentary', 'complimented',\n",
    "                       'complimenting', 'compliments', 'conclusive', 'conclusively', 'conducive', 'confident',\n",
    "                       'constructive', 'constructively', 'courteous', 'creative', 'creatively', 'creativeness',\n",
    "                       'creativity', 'delight', 'delighted', 'delightful', 'delightfully', 'delighting', 'delights',\n",
    "                       'dependability', 'dependable', 'desirable', 'desired', 'despite', 'destined', 'diligent',\n",
    "                       'diligently', 'distinction', 'distinctions', 'distinctive', 'distinctively', 'distinctiveness',\n",
    "                       'dream', 'easier', 'easily', 'easy', 'effective', 'efficiencies', 'efficiency', 'efficient',\n",
    "                       'efficiently', 'empower', 'empowered', 'empowering', 'empowers', 'enable', 'enabled', 'enables',\n",
    "                       'enabling', 'encouraged', 'encouragement', 'encourages', 'encouraging', 'enhance', 'enhanced',\n",
    "                       'enhancement', 'enhancements', 'enhances', 'enhancing', 'enjoy', 'enjoyable', 'enjoyably',\n",
    "                       'enjoyed', 'enjoying', 'enjoyment', 'enjoys', 'enthusiasm', 'enthusiastic', 'enthusiastically',\n",
    "                       'excellence', 'excellent', 'excelling', 'excels', 'exceptional', 'exceptionally', 'excited',\n",
    "                       'excitement', 'exciting', 'exclusive', 'exclusively', 'exclusiveness', 'exclusives',\n",
    "                       'exclusivity', 'exemplary', 'fantastic', 'favorable', 'favorably', 'favored', 'favoring',\n",
    "                       'favorite', 'favorites', 'friendly', 'gain', 'gained', 'gaining', 'gains', 'good', 'great',\n",
    "                       'greater', 'greatest', 'greatly', 'greatness', 'happiest', 'happily', 'happiness', 'happy',\n",
    "                       'highest', 'honor', 'honorable', 'honored', 'honoring', 'honors', 'ideal', 'impress',\n",
    "                       'impressed', 'impresses', 'impressing', 'impressive', 'impressively', 'improve', 'improved',\n",
    "                       'improvement', 'improvements', 'improves', 'improving', 'incredible', 'incredibly',\n",
    "                       'influential', 'informative', 'ingenuity', 'innovate', 'innovated', 'innovates', 'innovating',\n",
    "                       'innovation', 'innovations', 'innovative', 'innovativeness', 'innovator', 'innovators',\n",
    "                       'insightful', 'inspiration', 'inspirational', 'integrity', 'invent', 'invented', 'inventing',\n",
    "                       'invention', 'inventions', 'inventive', 'inventiveness', 'inventor', 'inventors', 'leadership',\n",
    "                       'leading', 'loyal', 'lucrative', 'meritorious', 'opportunities', 'opportunity', 'optimistic',\n",
    "                       'outperform', 'outperformed', 'outperforming', 'outperforms', 'perfect', 'perfected',\n",
    "                       'perfectly', 'perfects', 'pleasant', 'pleasantly', 'pleased', 'pleasure', 'plentiful', 'popular',\n",
    "                       'popularity', 'positive', 'positively', 'preeminence', 'preeminent', 'premier', 'premiere',\n",
    "                       'prestige', 'prestigious', 'proactive', 'proactively', 'proficiency', 'proficient',\n",
    "                       'proficiently', 'profitability', 'profitable', 'profitably', 'progress', 'progressed',\n",
    "                       'progresses', 'progressing', 'prospered', 'prospering', 'prosperity', 'prosperous', 'prospers',\n",
    "                       'rebound', 'rebounded', 'rebounding', 'receptive', 'regain', 'regained', 'regaining', 'resolve',\n",
    "                       'revolutionize', 'revolutionized', 'revolutionizes', 'revolutionizing', 'reward', 'rewarded',\n",
    "                       'rewarding', 'rewards', 'satisfaction', 'satisfactorily', 'satisfactory', 'satisfied',\n",
    "                       'satisfies', 'satisfy', 'satisfying', 'smooth', 'smoothing', 'smoothly', 'smooths', 'solves',\n",
    "                       'solving', 'spectacular', 'spectacularly', 'stability', 'stabilization', 'stabilizations',\n",
    "                       'stabilize', 'stabilized', 'stabilizes', 'stabilizing', 'stable', 'strength', 'strengthen',\n",
    "                       'strengthened', 'strengthening', 'strengthens', 'strengths', 'strong', 'stronger', 'strongest',\n",
    "                       'succeed', 'succeeded', 'succeeding', 'succeeds', 'success', 'successes', 'successful',\n",
    "                       'successfully', 'superior', 'surpass', 'surpassed', 'surpasses', 'surpassing', \"sustainable\", 'transparency',\n",
    "                       'tremendous', 'tremendously', 'unmatched', 'unparalleled', 'unsurpassed', 'upturn', 'upturns',\n",
    "                       'valuable', 'versatile', 'versatility', 'vibrancy', 'vibrant', 'win', 'winner', 'winners', 'winning', 'worthy',\n",
    "                       'positive', 'positives', 'success', 'successes', 'successful', 'succeed', 'succeeds',\n",
    "                       'succeeding', 'succeeded', 'accomplish', 'accomplishes', 'accomplishing', 'accomplished',\n",
    "                       'accomplishment', 'accomplishments', 'strong', 'strength', 'strengths', 'certain', 'certainty',\n",
    "                       'definite', 'solid', 'excellent', 'good', 'leading', 'achieve', 'achieves', 'achieved',\n",
    "                       'achieving', 'achievement', 'achievements', 'progress', 'progressing', 'deliver', 'delivers',\n",
    "                       'delivered', 'delivering', 'leader', 'leading', 'pleased', 'reward', 'rewards', 'rewarding',\n",
    "                       'rewarded', 'opportunity', 'opportunities', 'enjoy', 'enjoys', 'enjoying', 'enjoyed',\n",
    "                       'encouraged', 'encouraging', 'up', 'increase', 'increases', 'increasing', 'increased', 'rise',\n",
    "                       'rises', 'rising', 'rose', 'risen', 'improve', 'improves', 'improving', 'improved', 'improvement',\n",
    "                       'improvements', 'strengthen', 'strengthens', 'strengthening', 'strengthened', 'stronger',\n",
    "                       'strongest', 'better', 'best', 'more', 'most', 'above', 'record', 'high', 'higher', 'highest',\n",
    "                       'greater', 'greatest', 'larger', 'largest', 'grow', 'grows', 'growing', 'grew', 'grown', 'growth',\n",
    "                       'expand', 'expands', 'expanding', 'expanded', 'expansion', 'exceed', 'exceeds', 'exceeded',\n",
    "                       'exceeding', 'beat', 'beats', 'beating']\n",
    "         }\n",
    "\n",
    "negate = [\"aint\", \"arent\", \"cannot\", \"cant\", \"couldnt\", \"darent\", \"didnt\", \"doesnt\", \"ain't\", \"aren't\", \"can't\",\n",
    "          \"couldn't\", \"daren't\", \"didn't\", \"doesn't\", \"dont\", \"hadnt\", \"hasnt\", \"havent\", \"isnt\", \"mightnt\", \"mustnt\",\n",
    "          \"neither\", \"don't\", \"hadn't\", \"hasn't\", \"haven't\", \"isn't\", \"mightn't\", \"mustn't\", \"neednt\", \"needn't\",\n",
    "          \"never\", \"none\", \"nope\", \"nor\", \"not\", \"nothing\", \"nowhere\", \"oughtnt\", \"shant\", \"shouldnt\", \"wasnt\",\n",
    "          \"werent\", \"oughtn't\", \"shan't\", \"shouldn't\", \"wasn't\", \"weren't\", \"without\", \"wont\", \"wouldnt\", \"won't\",\n",
    "          \"wouldn't\", \"rarely\", \"seldom\", \"despite\", \"no\", \"nobody\"]"
   ]
  },
  {
   "cell_type": "code",
   "execution_count": 13,
   "metadata": {},
   "outputs": [],
   "source": [
    "def negated(word):\n",
    "    \"\"\"\n",
    "    Determine if preceding word is a negation word\n",
    "    \"\"\"\n",
    "    if word.lower() in negate:\n",
    "        return True\n",
    "    else:\n",
    "        return False"
   ]
  },
  {
   "cell_type": "code",
   "execution_count": 14,
   "metadata": {},
   "outputs": [],
   "source": [
    "def tone_count_with_negation_check(dict, article):\n",
    "    \"\"\"\n",
    "    Count positive and negative words with negation check. Account for simple negation only for positive words.\n",
    "    Simple negation is taken to be observations of one of negate words occurring within three words\n",
    "    preceding a positive words.\n",
    "    \"\"\"\n",
    "    pos_count = 0\n",
    "    neg_count = 0\n",
    " \n",
    "    pos_words = []\n",
    "    neg_words = []\n",
    " \n",
    "    input_words = re.findall(r'\\b([a-zA-Z]+n\\'t|[a-zA-Z]+\\'s|[a-zA-Z]+)\\b', article.lower())\n",
    " \n",
    "    word_count = len(input_words)\n",
    " \n",
    "    for i in range(0, word_count):\n",
    "        if input_words[i] in dict['Negative']:\n",
    "            neg_count += 1\n",
    "            neg_words.append(input_words[i])\n",
    "        if input_words[i] in dict['Positive']:\n",
    "            if i >= 3:\n",
    "                if negated(input_words[i - 1]) or negated(input_words[i - 2]) or negated(input_words[i - 3]):\n",
    "                    neg_count += 1\n",
    "                    neg_words.append(input_words[i] + ' (with negation)')\n",
    "                else:\n",
    "                    pos_count += 1\n",
    "                    pos_words.append(input_words[i])\n",
    "            elif i == 2:\n",
    "                if negated(input_words[i - 1]) or negated(input_words[i - 2]):\n",
    "                    neg_count += 1\n",
    "                    neg_words.append(input_words[i] + ' (with negation)')\n",
    "                else:\n",
    "                    pos_count += 1\n",
    "                    pos_words.append(input_words[i])\n",
    "            elif i == 1:\n",
    "                if negated(input_words[i - 1]):\n",
    "                    neg_count += 1\n",
    "                    neg_words.append(input_words[i] + ' (with negation)')\n",
    "                else:\n",
    "                    pos_count += 1\n",
    "                    pos_words.append(input_words[i])\n",
    "            elif i == 0:\n",
    "                pos_count += 1\n",
    "                pos_words.append(input_words[i])\n",
    " \n",
    "    results = [word_count, pos_count, neg_count, pos_words, neg_words]\n",
    " \n",
    "    return results"
   ]
  },
  {
   "cell_type": "code",
   "execution_count": 18,
   "metadata": {},
   "outputs": [],
   "source": [
    "# Summarization\n",
    "\n",
    "lemmatizer = WordNetLemmatizer()\n",
    "important_words = lmdict['Negative'] + lmdict['Positive']\n",
    "\n",
    "def _rank_sentences(sentences):\n",
    "    count_results = {}\n",
    "    for i, sentence in enumerate(sentences):\n",
    "        input_words = [lemmatizer.lemmatize(t) for t in word_tokenize(sentence)]\n",
    "        counter = len([value for value in input_words if value in important_words])\n",
    "        count_results.update({str(i): counter})\n",
    "        \n",
    "    rank_dict = OrderedDict(sorted(count_results.items(), key=lambda x: x[1], reverse=True))\n",
    "    return rank_dict\n",
    "\n",
    "def _generate_summary(sentences, rank_dict, max_words):\n",
    "    summary = ''\n",
    "    keep_sentence = []\n",
    "    num_words = 0\n",
    "    sentence_num_words = [len(word_tokenize(sent)) for sent in sentences]\n",
    "    added_key = []\n",
    "    \n",
    "    # Retrieve indices of sentences till it exceeds max number of words\n",
    "    for key in rank_dict.keys():\n",
    "        keep_sentence.append(int(key))\n",
    "        num_words += sentence_num_words[int(key)]\n",
    "        if num_words > max_words:\n",
    "            break\n",
    "    # print('rank_dict: ', rank_dict)\n",
    "    # print('keep_sentence: ', keep_sentence)\n",
    "    \n",
    "    # Once retrieved, add the corresponding sentences in original order\n",
    "    for key in sorted(keep_sentence):\n",
    "        summary += ' ' + sentences[key]\n",
    "        added_key.append(key)\n",
    "    # print('added_key: ', added_key)\n",
    "    # print('word_length: ', len(word_tokenize(summary)))\n",
    "    # print('+------------------------------------------------------+')\n",
    "    return summary"
   ]
  },
  {
   "cell_type": "code",
   "execution_count": 17,
   "metadata": {},
   "outputs": [],
   "source": [
    "## Function that adds a column to the dataframe with a summary of the last speech\n",
    "\n",
    "NUM_MAX_WORDS = 300\n",
    "\n",
    "def summarize(X):\n",
    "    df = X.copy()\n",
    "    new_text = []\n",
    "    for speech in df['last speech']:\n",
    "        summary = ''\n",
    "        # Create a sentence list\n",
    "        sentences = sent_tokenize(speech)\n",
    "        # Create a ordered dict by the rank\n",
    "        rank_dict = _rank_sentences(sentences)\n",
    "        # Generate summary text by taking higher sentences up to NUM_MAX_WORDS\n",
    "        summary = _generate_summary(sentences, rank_dict, NUM_MAX_WORDS)\n",
    "        # Add to the output list\n",
    "        new_text.append(summary)\n",
    "    df['summary'] = new_text\n",
    "    return df"
   ]
  },
  {
   "cell_type": "code",
   "execution_count": 45,
   "metadata": {},
   "outputs": [
    {
     "name": "stdout",
     "output_type": "stream",
     "text": [
      "--- 185.7897174358368 seconds ---\n"
     ]
    }
   ],
   "source": [
    "import time\n",
    "\n",
    "start_time = time.time()\n",
    "\n",
    "df = summarize(df)\n",
    "\n",
    "print(\"--- %s seconds ---\" % (time.time() - start_time))"
   ]
  },
  {
   "cell_type": "code",
   "execution_count": 46,
   "metadata": {},
   "outputs": [
    {
     "data": {
      "text/html": [
       "<div>\n",
       "<style scoped>\n",
       "    .dataframe tbody tr th:only-of-type {\n",
       "        vertical-align: middle;\n",
       "    }\n",
       "\n",
       "    .dataframe tbody tr th {\n",
       "        vertical-align: top;\n",
       "    }\n",
       "\n",
       "    .dataframe thead th {\n",
       "        text-align: right;\n",
       "    }\n",
       "</style>\n",
       "<table border=\"1\" class=\"dataframe\">\n",
       "  <thead>\n",
       "    <tr style=\"text-align: right;\">\n",
       "      <th></th>\n",
       "      <th>speech</th>\n",
       "      <th>stock</th>\n",
       "      <th>target_classif</th>\n",
       "      <th>target_reg</th>\n",
       "      <th>last speech</th>\n",
       "      <th>summary</th>\n",
       "    </tr>\n",
       "  </thead>\n",
       "  <tbody>\n",
       "    <tr>\n",
       "      <th>0</th>\n",
       "      <td>[{'ECB': ['\" Good morning. I very much appreci...</td>\n",
       "      <td>[-0.472958207130432, -0.172407612204551, -0.19...</td>\n",
       "      <td>0</td>\n",
       "      <td>-0.408630</td>\n",
       "      <td>Completing Economic and Monetary Union   Spe...</td>\n",
       "      <td>This makes it all the more urgent to develop ...</td>\n",
       "    </tr>\n",
       "    <tr>\n",
       "      <th>1</th>\n",
       "      <td>[{'ECB': [], 'FED': []}, {'ECB': [], 'FED': []...</td>\n",
       "      <td>[-0.45292150974273604, -0.42023003101348805, -...</td>\n",
       "      <td>0</td>\n",
       "      <td>-0.585796</td>\n",
       "      <td>\"When we convened in Jackson Hole in August 20...</td>\n",
       "      <td>These considerations include the need to take...</td>\n",
       "    </tr>\n",
       "    <tr>\n",
       "      <th>2</th>\n",
       "      <td>[{'ECB': [], 'FED': []}, {'ECB': ['  “A curren...</td>\n",
       "      <td>[-0.591069281101226, -0.36011990904808, -0.489...</td>\n",
       "      <td>1</td>\n",
       "      <td>0.469822</td>\n",
       "      <td>Global and domestic inflation   Speech by Ma...</td>\n",
       "      <td>Whether low inflation stems from one or the o...</td>\n",
       "    </tr>\n",
       "    <tr>\n",
       "      <th>3</th>\n",
       "      <td>[{'ECB': [], 'FED': []}, {'ECB': [], 'FED': []...</td>\n",
       "      <td>[-0.6796526312828061, -0.7492538094520561, -0....</td>\n",
       "      <td>0</td>\n",
       "      <td>0.127088</td>\n",
       "      <td>The low interest rate environment in the eur...</td>\n",
       "      <td>Policy interest rates in the euro area have f...</td>\n",
       "    </tr>\n",
       "    <tr>\n",
       "      <th>4</th>\n",
       "      <td>[{'ECB': ['  How to preserve and consolidate t...</td>\n",
       "      <td>[-0.021605037152767, -0.056405633687973, -0.05...</td>\n",
       "      <td>1</td>\n",
       "      <td>0.441348</td>\n",
       "      <td>It seems to me, paradoxically, that both long...</td>\n",
       "      <td>Then as now, we were experiencing a serious o...</td>\n",
       "    </tr>\n",
       "  </tbody>\n",
       "</table>\n",
       "</div>"
      ],
      "text/plain": [
       "                                              speech  \\\n",
       "0  [{'ECB': ['\" Good morning. I very much appreci...   \n",
       "1  [{'ECB': [], 'FED': []}, {'ECB': [], 'FED': []...   \n",
       "2  [{'ECB': [], 'FED': []}, {'ECB': ['  “A curren...   \n",
       "3  [{'ECB': [], 'FED': []}, {'ECB': [], 'FED': []...   \n",
       "4  [{'ECB': ['  How to preserve and consolidate t...   \n",
       "\n",
       "                                               stock  target_classif  \\\n",
       "0  [-0.472958207130432, -0.172407612204551, -0.19...               0   \n",
       "1  [-0.45292150974273604, -0.42023003101348805, -...               0   \n",
       "2  [-0.591069281101226, -0.36011990904808, -0.489...               1   \n",
       "3  [-0.6796526312828061, -0.7492538094520561, -0....               0   \n",
       "4  [-0.021605037152767, -0.056405633687973, -0.05...               1   \n",
       "\n",
       "   target_reg                                        last speech  \\\n",
       "0   -0.408630    Completing Economic and Monetary Union   Spe...   \n",
       "1   -0.585796  \"When we convened in Jackson Hole in August 20...   \n",
       "2    0.469822    Global and domestic inflation   Speech by Ma...   \n",
       "3    0.127088    The low interest rate environment in the eur...   \n",
       "4    0.441348   It seems to me, paradoxically, that both long...   \n",
       "\n",
       "                                             summary  \n",
       "0   This makes it all the more urgent to develop ...  \n",
       "1   These considerations include the need to take...  \n",
       "2   Whether low inflation stems from one or the o...  \n",
       "3   Policy interest rates in the euro area have f...  \n",
       "4   Then as now, we were experiencing a serious o...  "
      ]
     },
     "execution_count": 46,
     "metadata": {},
     "output_type": "execute_result"
    }
   ],
   "source": [
    "df.head()"
   ]
  },
  {
   "cell_type": "markdown",
   "metadata": {},
   "source": [
    "## Preprocessing the summaries"
   ]
  },
  {
   "cell_type": "code",
   "execution_count": 21,
   "metadata": {},
   "outputs": [],
   "source": [
    "import collections\n",
    "import string\n",
    "from tqdm import tqdm\n",
    "tqdm.pandas(desc=\"progress-bar\")\n",
    "from nltk.corpus import stopwords"
   ]
  },
  {
   "cell_type": "code",
   "execution_count": 22,
   "metadata": {},
   "outputs": [],
   "source": [
    "# Remove the punctuation and build an list of words\n",
    "\n",
    "def decompose_summary(X):\n",
    "    df = X.copy()\n",
    "    decomposed = []\n",
    "    remove_punct = dict.fromkeys(map(ord, string.punctuation), None)\n",
    "    rows, cols = df.shape\n",
    "    for i in range(rows):\n",
    "        decomposed.append(df['summary'].iloc[i].translate(remove_punct).split())\n",
    "    df['summary'] = decomposed\n",
    "    return df"
   ]
  },
  {
   "cell_type": "code",
   "execution_count": 23,
   "metadata": {},
   "outputs": [
    {
     "name": "stdout",
     "output_type": "stream",
     "text": [
      "--- 0.1429920196533203 seconds ---\n"
     ]
    }
   ],
   "source": [
    "import time\n",
    "\n",
    "start_time = time.time()\n",
    "\n",
    "df = decompose_summary(df)\n",
    "\n",
    "print(\"--- %s seconds ---\" % (time.time() - start_time))"
   ]
  },
  {
   "cell_type": "code",
   "execution_count": 38,
   "metadata": {},
   "outputs": [
    {
     "data": {
      "text/html": [
       "<div>\n",
       "<style scoped>\n",
       "    .dataframe tbody tr th:only-of-type {\n",
       "        vertical-align: middle;\n",
       "    }\n",
       "\n",
       "    .dataframe tbody tr th {\n",
       "        vertical-align: top;\n",
       "    }\n",
       "\n",
       "    .dataframe thead th {\n",
       "        text-align: right;\n",
       "    }\n",
       "</style>\n",
       "<table border=\"1\" class=\"dataframe\">\n",
       "  <thead>\n",
       "    <tr style=\"text-align: right;\">\n",
       "      <th></th>\n",
       "      <th>speech</th>\n",
       "      <th>stock</th>\n",
       "      <th>target_classif</th>\n",
       "      <th>target_reg</th>\n",
       "      <th>last speech</th>\n",
       "      <th>summary</th>\n",
       "    </tr>\n",
       "  </thead>\n",
       "  <tbody>\n",
       "    <tr>\n",
       "      <th>0</th>\n",
       "      <td>[{'ECB': ['\" Good morning. I very much appreci...</td>\n",
       "      <td>[-0.472958207130432, -0.172407612204551, -0.19...</td>\n",
       "      <td>0</td>\n",
       "      <td>-0.408630</td>\n",
       "      <td>Completing Economic and Monetary Union   Spe...</td>\n",
       "      <td>[This, makes, it, all, the, more, urgent, to, ...</td>\n",
       "    </tr>\n",
       "    <tr>\n",
       "      <th>1</th>\n",
       "      <td>[{'ECB': [], 'FED': []}, {'ECB': [], 'FED': []...</td>\n",
       "      <td>[-0.45292150974273604, -0.42023003101348805, -...</td>\n",
       "      <td>0</td>\n",
       "      <td>-0.585796</td>\n",
       "      <td>\"When we convened in Jackson Hole in August 20...</td>\n",
       "      <td>[These, considerations, include, the, need, to...</td>\n",
       "    </tr>\n",
       "    <tr>\n",
       "      <th>2</th>\n",
       "      <td>[{'ECB': [], 'FED': []}, {'ECB': ['  “A curren...</td>\n",
       "      <td>[-0.591069281101226, -0.36011990904808, -0.489...</td>\n",
       "      <td>1</td>\n",
       "      <td>0.469822</td>\n",
       "      <td>Global and domestic inflation   Speech by Ma...</td>\n",
       "      <td>[Whether, low, inflation, stems, from, one, or...</td>\n",
       "    </tr>\n",
       "    <tr>\n",
       "      <th>3</th>\n",
       "      <td>[{'ECB': [], 'FED': []}, {'ECB': [], 'FED': []...</td>\n",
       "      <td>[-0.6796526312828061, -0.7492538094520561, -0....</td>\n",
       "      <td>0</td>\n",
       "      <td>0.127088</td>\n",
       "      <td>The low interest rate environment in the eur...</td>\n",
       "      <td>[Policy, interest, rates, in, the, euro, area,...</td>\n",
       "    </tr>\n",
       "    <tr>\n",
       "      <th>4</th>\n",
       "      <td>[{'ECB': ['  How to preserve and consolidate t...</td>\n",
       "      <td>[-0.021605037152767, -0.056405633687973, -0.05...</td>\n",
       "      <td>1</td>\n",
       "      <td>0.441348</td>\n",
       "      <td>It seems to me, paradoxically, that both long...</td>\n",
       "      <td>[Then, as, now, we, were, experiencing, a, ser...</td>\n",
       "    </tr>\n",
       "  </tbody>\n",
       "</table>\n",
       "</div>"
      ],
      "text/plain": [
       "                                              speech  \\\n",
       "0  [{'ECB': ['\" Good morning. I very much appreci...   \n",
       "1  [{'ECB': [], 'FED': []}, {'ECB': [], 'FED': []...   \n",
       "2  [{'ECB': [], 'FED': []}, {'ECB': ['  “A curren...   \n",
       "3  [{'ECB': [], 'FED': []}, {'ECB': [], 'FED': []...   \n",
       "4  [{'ECB': ['  How to preserve and consolidate t...   \n",
       "\n",
       "                                               stock  target_classif  \\\n",
       "0  [-0.472958207130432, -0.172407612204551, -0.19...               0   \n",
       "1  [-0.45292150974273604, -0.42023003101348805, -...               0   \n",
       "2  [-0.591069281101226, -0.36011990904808, -0.489...               1   \n",
       "3  [-0.6796526312828061, -0.7492538094520561, -0....               0   \n",
       "4  [-0.021605037152767, -0.056405633687973, -0.05...               1   \n",
       "\n",
       "   target_reg                                        last speech  \\\n",
       "0   -0.408630    Completing Economic and Monetary Union   Spe...   \n",
       "1   -0.585796  \"When we convened in Jackson Hole in August 20...   \n",
       "2    0.469822    Global and domestic inflation   Speech by Ma...   \n",
       "3    0.127088    The low interest rate environment in the eur...   \n",
       "4    0.441348   It seems to me, paradoxically, that both long...   \n",
       "\n",
       "                                             summary  \n",
       "0  [This, makes, it, all, the, more, urgent, to, ...  \n",
       "1  [These, considerations, include, the, need, to...  \n",
       "2  [Whether, low, inflation, stems, from, one, or...  \n",
       "3  [Policy, interest, rates, in, the, euro, area,...  \n",
       "4  [Then, as, now, we, were, experiencing, a, ser...  "
      ]
     },
     "execution_count": 38,
     "metadata": {},
     "output_type": "execute_result"
    }
   ],
   "source": [
    "df.head()"
   ]
  },
  {
   "cell_type": "markdown",
   "metadata": {},
   "source": [
    "# Tokenizing "
   ]
  },
  {
   "cell_type": "code",
   "execution_count": 26,
   "metadata": {},
   "outputs": [],
   "source": [
    "#  Store the model we want to use\n",
    "MODEL_NAME = \"mrm8488/distilroberta-finetuned-financial-news-sentiment-analysis\"\n",
    "\n",
    "from transformers import RobertaTokenizer\n",
    "\n",
    "tokenizer = RobertaTokenizer.from_pretrained(MODEL_NAME)"
   ]
  },
  {
   "cell_type": "code",
   "execution_count": 24,
   "metadata": {},
   "outputs": [],
   "source": [
    "# Transform each summary into a list of tokens, using a truncation in order not to go above 512 tokens inputs\n",
    "\n",
    "def tokenize_summary(X):\n",
    "    df = X.copy()\n",
    "    tokenized = []\n",
    "    rows, cols = df.shape\n",
    "    for i in range(rows):\n",
    "        tokenized.append(tokenizer.encode(df['summary'].iloc[i], add_special_tokens=True, max_length=512, \n",
    "                                          padding='max_length', truncation=True))\n",
    "    df['tokenized_summary'] = tokenized\n",
    "    return df"
   ]
  },
  {
   "cell_type": "code",
   "execution_count": 25,
   "metadata": {},
   "outputs": [
    {
     "name": "stdout",
     "output_type": "stream",
     "text": [
      "--- 0.3682441711425781 seconds ---\n"
     ]
    }
   ],
   "source": [
    "start_time = time.time()\n",
    "\n",
    "df = tokenize_summary(df)\n",
    "\n",
    "print(\"--- %s seconds ---\" % (time.time() - start_time))"
   ]
  },
  {
   "cell_type": "markdown",
   "metadata": {},
   "source": [
    "## Other way"
   ]
  },
  {
   "cell_type": "code",
   "execution_count": 68,
   "metadata": {},
   "outputs": [
    {
     "name": "stderr",
     "output_type": "stream",
     "text": [
      "Some weights of the model checkpoint at distilbert-base-uncased were not used when initializing DistilBertModel: ['vocab_projector.bias', 'vocab_layer_norm.bias', 'vocab_projector.weight', 'vocab_layer_norm.weight', 'vocab_transform.weight', 'vocab_transform.bias']\n",
      "- This IS expected if you are initializing DistilBertModel from the checkpoint of a model trained on another task or with another architecture (e.g. initializing a BertForSequenceClassification model from a BertForPreTraining model).\n",
      "- This IS NOT expected if you are initializing DistilBertModel from the checkpoint of a model that you expect to be exactly identical (initializing a BertForSequenceClassification model from a BertForSequenceClassification model).\n"
     ]
    }
   ],
   "source": [
    "from transformers import AutoModelForTokenClassification, AutoTokenizer, AutoModel\n",
    "\n",
    "model_name_2 = 'distilbert-base-uncased'\n",
    "tokenizer = AutoTokenizer.from_pretrained(model_name_2)\n",
    "model = AutoModel.from_pretrained(model_name_2)"
   ]
  },
  {
   "cell_type": "code",
   "execution_count": 69,
   "metadata": {},
   "outputs": [],
   "source": [
    "# tokenize the sentences = divide them into wordpieces.\n",
    "\n",
    "tokenized = df['summary'].apply((lambda x: tokenizer.encode(x, max_length=512, \n",
    "                                         truncation=True, add_special_tokens=True)))"
   ]
  },
  {
   "cell_type": "code",
   "execution_count": 70,
   "metadata": {},
   "outputs": [
    {
     "data": {
      "text/plain": [
       "0       [101, 2023, 3084, 2009, 2035, 1996, 2062, 1366...\n",
       "1       [101, 2122, 16852, 2421, 1996, 2342, 2000, 220...\n",
       "2       [101, 3251, 2659, 14200, 12402, 2013, 2028, 20...\n",
       "3       [101, 3343, 3037, 6165, 1999, 1996, 9944, 2181...\n",
       "4       [101, 2059, 2004, 2085, 1010, 2057, 2020, 1341...\n",
       "                              ...                        \n",
       "1247    [101, 3437, 1015, 1024, 15847, 1010, 2013, 103...\n",
       "1248    [101, 2426, 2060, 2477, 1010, 2256, 4106, 2128...\n",
       "1251    [101, 14200, 5649, 15399, 2030, 2019, 4044, 20...\n",
       "1252    [101, 2083, 1996, 6028, 1997, 4895, 27265, 298...\n",
       "1253    [101, 6854, 1010, 2008, 2146, 2558, 1997, 8144...\n",
       "Name: summary, Length: 1188, dtype: object"
      ]
     },
     "execution_count": 70,
     "metadata": {},
     "output_type": "execute_result"
    }
   ],
   "source": [
    "tokenized"
   ]
  },
  {
   "cell_type": "code",
   "execution_count": 71,
   "metadata": {},
   "outputs": [
    {
     "data": {
      "text/plain": [
       "(1188, 512)"
      ]
     },
     "execution_count": 71,
     "metadata": {},
     "output_type": "execute_result"
    }
   ],
   "source": [
    "# pad all sequences to the same size, to feed the model with a matrix instead of a list of lists (much faster).\n",
    "max_len = 0\n",
    "for i in tokenized.values:\n",
    "    if len(i) > max_len:\n",
    "        max_len = len(i)\n",
    "\n",
    "padded = np.array([i + [0]*(max_len-len(i)) for i in tokenized.values])\n",
    "\n",
    "# mask to ignore the padded section of the sequences\n",
    "attention_mask = np.where(padded != 0, 1, 0)\n",
    "attention_mask.shape"
   ]
  },
  {
   "cell_type": "code",
   "execution_count": 49,
   "metadata": {},
   "outputs": [
    {
     "name": "stderr",
     "output_type": "stream",
     "text": [
      "Some weights of the model checkpoint at mrm8488/distilroberta-finetuned-financial-news-sentiment-analysis were not used when initializing RobertaModel: ['classifier.out_proj.weight', 'classifier.dense.bias', 'classifier.out_proj.bias', 'classifier.dense.weight']\n",
      "- This IS expected if you are initializing RobertaModel from the checkpoint of a model trained on another task or with another architecture (e.g. initializing a BertForSequenceClassification model from a BertForPreTraining model).\n",
      "- This IS NOT expected if you are initializing RobertaModel from the checkpoint of a model that you expect to be exactly identical (initializing a BertForSequenceClassification model from a BertForSequenceClassification model).\n",
      "Some weights of RobertaModel were not initialized from the model checkpoint at mrm8488/distilroberta-finetuned-financial-news-sentiment-analysis and are newly initialized: ['roberta.pooler.dense.weight', 'roberta.pooler.dense.bias']\n",
      "You should probably TRAIN this model on a down-stream task to be able to use it for predictions and inference.\n"
     ]
    }
   ],
   "source": [
    "from transformers import RobertaModel\n",
    "model = RobertaModel.from_pretrained(MODEL_NAME)"
   ]
  },
  {
   "cell_type": "code",
   "execution_count": 72,
   "metadata": {},
   "outputs": [
    {
     "name": "stderr",
     "output_type": "stream",
     "text": [
      "100%|██████████████████████████████████████████████████████████████████████████████| 1188/1188 [22:20<00:00,  1.13s/it]\n"
     ]
    }
   ],
   "source": [
    "# Feed all sequences to the model. Return the weights of the last hidden layer (but we could use any combination of layers)\n",
    "\n",
    "import torch\n",
    "\n",
    "import warnings\n",
    "warnings.filterwarnings('ignore')\n",
    "\n",
    "input_ids = torch.tensor(padded)  \n",
    "attention_mask = torch.tensor(attention_mask)\n",
    "last_hidden_states = []\n",
    "with torch.no_grad():\n",
    "    for seq, mask in zip(tqdm(input_ids), attention_mask):\n",
    "        machin = model(seq[None,:], attention_mask=mask[None,:])\n",
    "        last_hidden_states.append(model(seq[None,:], attention_mask=mask[None,:]).last_hidden_state[0,0])"
   ]
  },
  {
   "cell_type": "code",
   "execution_count": 73,
   "metadata": {},
   "outputs": [],
   "source": [
    "last_hidden_states = [lhs.numpy() for lhs in last_hidden_states]"
   ]
  },
  {
   "cell_type": "code",
   "execution_count": 74,
   "metadata": {},
   "outputs": [],
   "source": [
    "#split datset into training and testing set\n",
    "\n",
    "from sklearn.model_selection import train_test_split\n",
    "\n",
    "labels = df['target_classif']\n",
    "train_features, test_features, train_labels, test_labels = train_test_split(last_hidden_states, labels, \n",
    "                                                                            shuffle=True, test_size = 0.3, random_state = 42)"
   ]
  },
  {
   "cell_type": "code",
   "execution_count": 75,
   "metadata": {},
   "outputs": [
    {
     "data": {
      "text/plain": [
       "LogisticRegression()"
      ]
     },
     "execution_count": 75,
     "metadata": {},
     "output_type": "execute_result"
    }
   ],
   "source": [
    "from sklearn.linear_model import LogisticRegression\n",
    "\n",
    "# We use a simple Logistic Regression from sklearn. You can try more advanced models.\n",
    "lr_clf = LogisticRegression()\n",
    "lr_clf.fit(train_features, train_labels)"
   ]
  },
  {
   "cell_type": "code",
   "execution_count": 76,
   "metadata": {},
   "outputs": [
    {
     "data": {
      "text/plain": [
       "0.5350140056022409"
      ]
     },
     "execution_count": 76,
     "metadata": {},
     "output_type": "execute_result"
    }
   ],
   "source": [
    "lr_clf.score(test_features, test_labels)"
   ]
  },
  {
   "cell_type": "code",
   "execution_count": null,
   "metadata": {},
   "outputs": [],
   "source": []
  }
 ],
 "metadata": {
  "kernelspec": {
   "display_name": "Python 3",
   "language": "python",
   "name": "python3"
  },
  "language_info": {
   "codemirror_mode": {
    "name": "ipython",
    "version": 3
   },
   "file_extension": ".py",
   "mimetype": "text/x-python",
   "name": "python",
   "nbconvert_exporter": "python",
   "pygments_lexer": "ipython3",
   "version": "3.7.6"
  },
  "latex_envs": {
   "LaTeX_envs_menu_present": true,
   "autoclose": false,
   "autocomplete": false,
   "bibliofile": "biblio.bib",
   "cite_by": "apalike",
   "current_citInitial": 1,
   "eqLabelWithNumbers": true,
   "eqNumInitial": 1,
   "hotkeys": {
    "equation": "Ctrl-E",
    "itemize": "Ctrl-I"
   },
   "labels_anchors": false,
   "latex_user_defs": false,
   "report_style_numbering": false,
   "user_envs_cfg": false
  }
 },
 "nbformat": 4,
 "nbformat_minor": 4
}
